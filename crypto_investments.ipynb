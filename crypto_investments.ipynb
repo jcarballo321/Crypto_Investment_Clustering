{
 "cells": [
  {
   "cell_type": "markdown",
   "source": [
    "# Module 10 Application\n",
    "\n",
    "## Challenge: Crypto Clustering\n",
    "\n",
    "In this Challenge, you’ll combine your financial Python programming skills with the new unsupervised learning skills that you acquired in this module.\n",
    "\n",
    "The CSV file provided for this challenge contains price change data of cryptocurrencies in different periods.\n",
    "\n",
    "The steps for this challenge are broken out into the following sections:\n",
    "\n",
    "* Import the Data (provided in the starter code)\n",
    "* Prepare the Data (provided in the starter code)\n",
    "* Find the Best Value for `k` Using the Original Data\n",
    "* Cluster Cryptocurrencies with K-means Using the Original Data\n",
    "* Optimize Clusters with Principal Component Analysis\n",
    "* Find the Best Value for `k` Using the PCA Data\n",
    "* Cluster the Cryptocurrencies with K-means Using the PCA Data\n",
    "* Visualize and Compare the Results"
   ],
   "metadata": {}
  },
  {
   "cell_type": "markdown",
   "source": [
    "### Import the Data\n",
    "\n",
    "This section imports the data into a new DataFrame. It follows these steps:\n",
    "\n",
    "1. Read  the “crypto_market_data.csv” file from the Resources folder into a DataFrame, and use `index_col=\"coin_id\"` to set the cryptocurrency name as the index. Review the DataFrame.\n",
    "\n",
    "2. Generate the summary statistics, and use HvPlot to visualize your data to observe what your DataFrame contains.\n",
    "\n",
    "\n",
    "> **Rewind:** The [Pandas`describe()`function](https://pandas.pydata.org/pandas-docs/stable/reference/api/pandas.DataFrame.describe.html) generates summary statistics for a DataFrame. "
   ],
   "metadata": {}
  },
  {
   "cell_type": "code",
   "execution_count": 375,
   "source": [
    "# Import required libraries and dependencies\r\n",
    "import pandas as pd\r\n",
    "import hvplot.pandas\r\n",
    "from path import Path\r\n",
    "from sklearn.cluster import KMeans\r\n",
    "from sklearn.decomposition import PCA\r\n",
    "from sklearn.preprocessing import StandardScaler"
   ],
   "outputs": [],
   "metadata": {}
  },
  {
   "cell_type": "code",
   "execution_count": 376,
   "source": [
    "# Load the data into a Pandas DataFrame\r\n",
    "df_market_data = pd.read_csv(\r\n",
    "    Path(\"Resources/crypto_market_data.csv\"),\r\n",
    "    index_col=\"coin_id\")\r\n",
    "\r\n",
    "# Display sample data\r\n",
    "df_market_data.head(10)"
   ],
   "outputs": [
    {
     "output_type": "execute_result",
     "data": {
      "text/plain": [
       "                 price_change_percentage_24h  price_change_percentage_7d  \\\n",
       "coin_id                                                                    \n",
       "bitcoin                              1.08388                     7.60278   \n",
       "ethereum                             0.22392                    10.38134   \n",
       "tether                              -0.21173                     0.04935   \n",
       "ripple                              -0.37819                    -0.60926   \n",
       "bitcoin-cash                         2.90585                    17.09717   \n",
       "binancecoin                          2.10423                    12.85511   \n",
       "chainlink                           -0.23935                    20.69459   \n",
       "cardano                              0.00322                    13.99302   \n",
       "litecoin                            -0.06341                     6.60221   \n",
       "bitcoin-cash-sv                      0.92530                     3.29641   \n",
       "\n",
       "                 price_change_percentage_14d  price_change_percentage_30d  \\\n",
       "coin_id                                                                     \n",
       "bitcoin                              6.57509                      7.67258   \n",
       "ethereum                             4.80849                      0.13169   \n",
       "tether                               0.00640                     -0.04237   \n",
       "ripple                               2.24984                      0.23455   \n",
       "bitcoin-cash                        14.75334                     15.74903   \n",
       "binancecoin                          6.80688                      0.05865   \n",
       "chainlink                            9.30098                    -11.21747   \n",
       "cardano                              5.55476                     10.10553   \n",
       "litecoin                             7.28931                      1.21662   \n",
       "bitcoin-cash-sv                     -1.86656                      2.88926   \n",
       "\n",
       "                 price_change_percentage_60d  price_change_percentage_200d  \\\n",
       "coin_id                                                                      \n",
       "bitcoin                             -3.25185                      83.51840   \n",
       "ethereum                           -12.88890                     186.77418   \n",
       "tether                               0.28037                      -0.00542   \n",
       "ripple                             -17.55245                      39.53888   \n",
       "bitcoin-cash                       -13.71793                      21.66042   \n",
       "binancecoin                         36.33486                     155.61937   \n",
       "chainlink                          -43.69522                     403.22917   \n",
       "cardano                            -22.84776                     264.51418   \n",
       "litecoin                           -17.23960                      27.49919   \n",
       "bitcoin-cash-sv                    -24.87434                       7.42562   \n",
       "\n",
       "                 price_change_percentage_1y  \n",
       "coin_id                                      \n",
       "bitcoin                            37.51761  \n",
       "ethereum                          101.96023  \n",
       "tether                              0.01954  \n",
       "ripple                            -16.60193  \n",
       "bitcoin-cash                       14.49384  \n",
       "binancecoin                        69.69195  \n",
       "chainlink                         325.13186  \n",
       "cardano                           156.09756  \n",
       "litecoin                          -12.66408  \n",
       "bitcoin-cash-sv                    93.73082  "
      ],
      "text/html": [
       "<div>\n",
       "<style scoped>\n",
       "    .dataframe tbody tr th:only-of-type {\n",
       "        vertical-align: middle;\n",
       "    }\n",
       "\n",
       "    .dataframe tbody tr th {\n",
       "        vertical-align: top;\n",
       "    }\n",
       "\n",
       "    .dataframe thead th {\n",
       "        text-align: right;\n",
       "    }\n",
       "</style>\n",
       "<table border=\"1\" class=\"dataframe\">\n",
       "  <thead>\n",
       "    <tr style=\"text-align: right;\">\n",
       "      <th></th>\n",
       "      <th>price_change_percentage_24h</th>\n",
       "      <th>price_change_percentage_7d</th>\n",
       "      <th>price_change_percentage_14d</th>\n",
       "      <th>price_change_percentage_30d</th>\n",
       "      <th>price_change_percentage_60d</th>\n",
       "      <th>price_change_percentage_200d</th>\n",
       "      <th>price_change_percentage_1y</th>\n",
       "    </tr>\n",
       "    <tr>\n",
       "      <th>coin_id</th>\n",
       "      <th></th>\n",
       "      <th></th>\n",
       "      <th></th>\n",
       "      <th></th>\n",
       "      <th></th>\n",
       "      <th></th>\n",
       "      <th></th>\n",
       "    </tr>\n",
       "  </thead>\n",
       "  <tbody>\n",
       "    <tr>\n",
       "      <th>bitcoin</th>\n",
       "      <td>1.08388</td>\n",
       "      <td>7.60278</td>\n",
       "      <td>6.57509</td>\n",
       "      <td>7.67258</td>\n",
       "      <td>-3.25185</td>\n",
       "      <td>83.51840</td>\n",
       "      <td>37.51761</td>\n",
       "    </tr>\n",
       "    <tr>\n",
       "      <th>ethereum</th>\n",
       "      <td>0.22392</td>\n",
       "      <td>10.38134</td>\n",
       "      <td>4.80849</td>\n",
       "      <td>0.13169</td>\n",
       "      <td>-12.88890</td>\n",
       "      <td>186.77418</td>\n",
       "      <td>101.96023</td>\n",
       "    </tr>\n",
       "    <tr>\n",
       "      <th>tether</th>\n",
       "      <td>-0.21173</td>\n",
       "      <td>0.04935</td>\n",
       "      <td>0.00640</td>\n",
       "      <td>-0.04237</td>\n",
       "      <td>0.28037</td>\n",
       "      <td>-0.00542</td>\n",
       "      <td>0.01954</td>\n",
       "    </tr>\n",
       "    <tr>\n",
       "      <th>ripple</th>\n",
       "      <td>-0.37819</td>\n",
       "      <td>-0.60926</td>\n",
       "      <td>2.24984</td>\n",
       "      <td>0.23455</td>\n",
       "      <td>-17.55245</td>\n",
       "      <td>39.53888</td>\n",
       "      <td>-16.60193</td>\n",
       "    </tr>\n",
       "    <tr>\n",
       "      <th>bitcoin-cash</th>\n",
       "      <td>2.90585</td>\n",
       "      <td>17.09717</td>\n",
       "      <td>14.75334</td>\n",
       "      <td>15.74903</td>\n",
       "      <td>-13.71793</td>\n",
       "      <td>21.66042</td>\n",
       "      <td>14.49384</td>\n",
       "    </tr>\n",
       "    <tr>\n",
       "      <th>binancecoin</th>\n",
       "      <td>2.10423</td>\n",
       "      <td>12.85511</td>\n",
       "      <td>6.80688</td>\n",
       "      <td>0.05865</td>\n",
       "      <td>36.33486</td>\n",
       "      <td>155.61937</td>\n",
       "      <td>69.69195</td>\n",
       "    </tr>\n",
       "    <tr>\n",
       "      <th>chainlink</th>\n",
       "      <td>-0.23935</td>\n",
       "      <td>20.69459</td>\n",
       "      <td>9.30098</td>\n",
       "      <td>-11.21747</td>\n",
       "      <td>-43.69522</td>\n",
       "      <td>403.22917</td>\n",
       "      <td>325.13186</td>\n",
       "    </tr>\n",
       "    <tr>\n",
       "      <th>cardano</th>\n",
       "      <td>0.00322</td>\n",
       "      <td>13.99302</td>\n",
       "      <td>5.55476</td>\n",
       "      <td>10.10553</td>\n",
       "      <td>-22.84776</td>\n",
       "      <td>264.51418</td>\n",
       "      <td>156.09756</td>\n",
       "    </tr>\n",
       "    <tr>\n",
       "      <th>litecoin</th>\n",
       "      <td>-0.06341</td>\n",
       "      <td>6.60221</td>\n",
       "      <td>7.28931</td>\n",
       "      <td>1.21662</td>\n",
       "      <td>-17.23960</td>\n",
       "      <td>27.49919</td>\n",
       "      <td>-12.66408</td>\n",
       "    </tr>\n",
       "    <tr>\n",
       "      <th>bitcoin-cash-sv</th>\n",
       "      <td>0.92530</td>\n",
       "      <td>3.29641</td>\n",
       "      <td>-1.86656</td>\n",
       "      <td>2.88926</td>\n",
       "      <td>-24.87434</td>\n",
       "      <td>7.42562</td>\n",
       "      <td>93.73082</td>\n",
       "    </tr>\n",
       "  </tbody>\n",
       "</table>\n",
       "</div>"
      ]
     },
     "metadata": {},
     "execution_count": 376
    }
   ],
   "metadata": {}
  },
  {
   "cell_type": "code",
   "execution_count": 377,
   "source": [
    "# Generate summary statistics\r\n",
    "df_market_data.describe()"
   ],
   "outputs": [
    {
     "output_type": "execute_result",
     "data": {
      "text/plain": [
       "       price_change_percentage_24h  price_change_percentage_7d  \\\n",
       "count                    41.000000                   41.000000   \n",
       "mean                     -0.269686                    4.497147   \n",
       "std                       2.694793                    6.375218   \n",
       "min                     -13.527860                   -6.094560   \n",
       "25%                      -0.608970                    0.047260   \n",
       "50%                      -0.063410                    3.296410   \n",
       "75%                       0.612090                    7.602780   \n",
       "max                       4.840330                   20.694590   \n",
       "\n",
       "       price_change_percentage_14d  price_change_percentage_30d  \\\n",
       "count                    41.000000                    41.000000   \n",
       "mean                      0.185787                     1.545693   \n",
       "std                       8.376939                    26.344218   \n",
       "min                     -18.158900                   -34.705480   \n",
       "25%                      -5.026620                   -10.438470   \n",
       "50%                       0.109740                    -0.042370   \n",
       "75%                       5.510740                     4.578130   \n",
       "max                      24.239190                   140.795700   \n",
       "\n",
       "       price_change_percentage_60d  price_change_percentage_200d  \\\n",
       "count                    41.000000                     41.000000   \n",
       "mean                     -0.094119                    236.537432   \n",
       "std                      47.365803                    435.225304   \n",
       "min                     -44.822480                     -0.392100   \n",
       "25%                     -25.907990                     21.660420   \n",
       "50%                      -7.544550                     83.905200   \n",
       "75%                       0.657260                    216.177610   \n",
       "max                     223.064370                   2227.927820   \n",
       "\n",
       "       price_change_percentage_1y  \n",
       "count                   41.000000  \n",
       "mean                   347.667956  \n",
       "std                   1247.842884  \n",
       "min                    -17.567530  \n",
       "25%                      0.406170  \n",
       "50%                     69.691950  \n",
       "75%                    168.372510  \n",
       "max                   7852.089700  "
      ],
      "text/html": [
       "<div>\n",
       "<style scoped>\n",
       "    .dataframe tbody tr th:only-of-type {\n",
       "        vertical-align: middle;\n",
       "    }\n",
       "\n",
       "    .dataframe tbody tr th {\n",
       "        vertical-align: top;\n",
       "    }\n",
       "\n",
       "    .dataframe thead th {\n",
       "        text-align: right;\n",
       "    }\n",
       "</style>\n",
       "<table border=\"1\" class=\"dataframe\">\n",
       "  <thead>\n",
       "    <tr style=\"text-align: right;\">\n",
       "      <th></th>\n",
       "      <th>price_change_percentage_24h</th>\n",
       "      <th>price_change_percentage_7d</th>\n",
       "      <th>price_change_percentage_14d</th>\n",
       "      <th>price_change_percentage_30d</th>\n",
       "      <th>price_change_percentage_60d</th>\n",
       "      <th>price_change_percentage_200d</th>\n",
       "      <th>price_change_percentage_1y</th>\n",
       "    </tr>\n",
       "  </thead>\n",
       "  <tbody>\n",
       "    <tr>\n",
       "      <th>count</th>\n",
       "      <td>41.000000</td>\n",
       "      <td>41.000000</td>\n",
       "      <td>41.000000</td>\n",
       "      <td>41.000000</td>\n",
       "      <td>41.000000</td>\n",
       "      <td>41.000000</td>\n",
       "      <td>41.000000</td>\n",
       "    </tr>\n",
       "    <tr>\n",
       "      <th>mean</th>\n",
       "      <td>-0.269686</td>\n",
       "      <td>4.497147</td>\n",
       "      <td>0.185787</td>\n",
       "      <td>1.545693</td>\n",
       "      <td>-0.094119</td>\n",
       "      <td>236.537432</td>\n",
       "      <td>347.667956</td>\n",
       "    </tr>\n",
       "    <tr>\n",
       "      <th>std</th>\n",
       "      <td>2.694793</td>\n",
       "      <td>6.375218</td>\n",
       "      <td>8.376939</td>\n",
       "      <td>26.344218</td>\n",
       "      <td>47.365803</td>\n",
       "      <td>435.225304</td>\n",
       "      <td>1247.842884</td>\n",
       "    </tr>\n",
       "    <tr>\n",
       "      <th>min</th>\n",
       "      <td>-13.527860</td>\n",
       "      <td>-6.094560</td>\n",
       "      <td>-18.158900</td>\n",
       "      <td>-34.705480</td>\n",
       "      <td>-44.822480</td>\n",
       "      <td>-0.392100</td>\n",
       "      <td>-17.567530</td>\n",
       "    </tr>\n",
       "    <tr>\n",
       "      <th>25%</th>\n",
       "      <td>-0.608970</td>\n",
       "      <td>0.047260</td>\n",
       "      <td>-5.026620</td>\n",
       "      <td>-10.438470</td>\n",
       "      <td>-25.907990</td>\n",
       "      <td>21.660420</td>\n",
       "      <td>0.406170</td>\n",
       "    </tr>\n",
       "    <tr>\n",
       "      <th>50%</th>\n",
       "      <td>-0.063410</td>\n",
       "      <td>3.296410</td>\n",
       "      <td>0.109740</td>\n",
       "      <td>-0.042370</td>\n",
       "      <td>-7.544550</td>\n",
       "      <td>83.905200</td>\n",
       "      <td>69.691950</td>\n",
       "    </tr>\n",
       "    <tr>\n",
       "      <th>75%</th>\n",
       "      <td>0.612090</td>\n",
       "      <td>7.602780</td>\n",
       "      <td>5.510740</td>\n",
       "      <td>4.578130</td>\n",
       "      <td>0.657260</td>\n",
       "      <td>216.177610</td>\n",
       "      <td>168.372510</td>\n",
       "    </tr>\n",
       "    <tr>\n",
       "      <th>max</th>\n",
       "      <td>4.840330</td>\n",
       "      <td>20.694590</td>\n",
       "      <td>24.239190</td>\n",
       "      <td>140.795700</td>\n",
       "      <td>223.064370</td>\n",
       "      <td>2227.927820</td>\n",
       "      <td>7852.089700</td>\n",
       "    </tr>\n",
       "  </tbody>\n",
       "</table>\n",
       "</div>"
      ]
     },
     "metadata": {},
     "execution_count": 377
    }
   ],
   "metadata": {}
  },
  {
   "cell_type": "code",
   "execution_count": 378,
   "source": [
    "# Plot your data to see what's in your DataFrame\r\n",
    "df_market_data.hvplot.line(\r\n",
    "    width=800,\r\n",
    "    height=400,\r\n",
    "    rot=90\r\n",
    ")"
   ],
   "outputs": [
    {
     "output_type": "display_data",
     "data": {},
     "metadata": {}
    },
    {
     "output_type": "execute_result",
     "data": {
      "application/vnd.holoviews_exec.v0+json": "",
      "text/plain": [
       ":NdOverlay   [Variable]\n",
       "   :Curve   [coin_id]   (value)"
      ],
      "text/html": [
       "<div id='14251'>\n",
       "\n",
       "\n",
       "\n",
       "\n",
       "\n",
       "  <div class=\"bk-root\" id=\"7bc5a059-7193-4949-953c-f3971880493e\" data-root-id=\"14251\"></div>\n",
       "</div>\n",
       "<script type=\"application/javascript\">(function(root) {\n",
       "  function embed_document(root) {\n",
       "    var docs_json = {\"725de154-bd7e-4720-af8e-cf670b086b4f\":{\"defs\":[{\"extends\":null,\"module\":null,\"name\":\"ReactiveHTML1\",\"overrides\":[],\"properties\":[]},{\"extends\":null,\"module\":null,\"name\":\"FlexBox1\",\"overrides\":[],\"properties\":[{\"default\":\"flex-start\",\"kind\":null,\"name\":\"align_content\"},{\"default\":\"flex-start\",\"kind\":null,\"name\":\"align_items\"},{\"default\":\"row\",\"kind\":null,\"name\":\"flex_direction\"},{\"default\":\"wrap\",\"kind\":null,\"name\":\"flex_wrap\"},{\"default\":\"flex-start\",\"kind\":null,\"name\":\"justify_content\"}]},{\"extends\":null,\"module\":null,\"name\":\"TemplateActions1\",\"overrides\":[],\"properties\":[{\"default\":0,\"kind\":null,\"name\":\"open_modal\"},{\"default\":0,\"kind\":null,\"name\":\"close_modal\"}]},{\"extends\":null,\"module\":null,\"name\":\"MaterialTemplateActions1\",\"overrides\":[],\"properties\":[{\"default\":0,\"kind\":null,\"name\":\"open_modal\"},{\"default\":0,\"kind\":null,\"name\":\"close_modal\"}]}],\"roots\":{\"references\":[{\"attributes\":{\"data\":{\"Variable\":[\"price_change_percentage_24h\",\"price_change_percentage_24h\",\"price_change_percentage_24h\",\"price_change_percentage_24h\",\"price_change_percentage_24h\",\"price_change_percentage_24h\",\"price_change_percentage_24h\",\"price_change_percentage_24h\",\"price_change_percentage_24h\",\"price_change_percentage_24h\",\"price_change_percentage_24h\",\"price_change_percentage_24h\",\"price_change_percentage_24h\",\"price_change_percentage_24h\",\"price_change_percentage_24h\",\"price_change_percentage_24h\",\"price_change_percentage_24h\",\"price_change_percentage_24h\",\"price_change_percentage_24h\",\"price_change_percentage_24h\",\"price_change_percentage_24h\",\"price_change_percentage_24h\",\"price_change_percentage_24h\",\"price_change_percentage_24h\",\"price_change_percentage_24h\",\"price_change_percentage_24h\",\"price_change_percentage_24h\",\"price_change_percentage_24h\",\"price_change_percentage_24h\",\"price_change_percentage_24h\",\"price_change_percentage_24h\",\"price_change_percentage_24h\",\"price_change_percentage_24h\",\"price_change_percentage_24h\",\"price_change_percentage_24h\",\"price_change_percentage_24h\",\"price_change_percentage_24h\",\"price_change_percentage_24h\",\"price_change_percentage_24h\",\"price_change_percentage_24h\",\"price_change_percentage_24h\"],\"coin_id\":[\"bitcoin\",\"ethereum\",\"tether\",\"ripple\",\"bitcoin-cash\",\"binancecoin\",\"chainlink\",\"cardano\",\"litecoin\",\"bitcoin-cash-sv\",\"crypto-com-chain\",\"usd-coin\",\"eos\",\"monero\",\"tron\",\"tezos\",\"okb\",\"stellar\",\"cosmos\",\"cdai\",\"neo\",\"wrapped-bitcoin\",\"leo-token\",\"huobi-token\",\"nem\",\"binance-usd\",\"iota\",\"vechain\",\"zcash\",\"theta-token\",\"dash\",\"ethereum-classic\",\"ethlend\",\"maker\",\"havven\",\"omisego\",\"celsius-degree-token\",\"ontology\",\"ftx-token\",\"true-usd\",\"digibyte\"],\"value\":{\"__ndarray__\":\"nZ0MjpJX8T8MzXUaaanMP5mByvj3Gcu/wCZr1EM02L8ep+hILj8HQL0Yyol21QBAwhcmUwWjzr//CS5W1GBqP7JGPUSjO7C/QKTfvg6c7T8urYbEPZbjPzeJQWDl0Ma/1pC4x9KHwj87NgLxun7bP90HILWJk7M/JjYf14aK5b83iUFg5dAFwG3i5H6HIvC/5nlwd9Zu7r9i83FtqBjLP+iHEcKjjd8/M9yAzw+j8T/fGtgqweLAv+RmuAGfH9q/UdobfGEy678D7KNTVz67v8YzaOif4No/teBFX0Ga9D8G2Eenrnzjvx+duvJZPhLAoMN8eQH28L+cxCCwcmjdv667eapDDivAX5hMFYxK479EUaBP5EkQwAZkr3d/XBNA0JuKVBgbBEDqBDQRNrz1vxo09E9wseo/tI6qJoi6r79qMA3DR8QHQA==\",\"dtype\":\"float64\",\"order\":\"little\",\"shape\":[41]}},\"selected\":{\"id\":\"14298\"},\"selection_policy\":{\"id\":\"14313\"}},\"id\":\"14297\",\"type\":\"ColumnDataSource\"},{\"attributes\":{\"source\":{\"id\":\"14418\"}},\"id\":\"14425\",\"type\":\"CDSView\"},{\"attributes\":{\"line_alpha\":0.2,\"line_color\":\"#8b8b8b\",\"line_width\":2,\"x\":{\"field\":\"coin_id\"},\"y\":{\"field\":\"value\"}},\"id\":\"14395\",\"type\":\"Line\"},{\"attributes\":{\"line_color\":\"#17becf\",\"line_width\":2,\"x\":{\"field\":\"coin_id\"},\"y\":{\"field\":\"value\"}},\"id\":\"14447\",\"type\":\"Line\"},{\"attributes\":{},\"id\":\"14293\",\"type\":\"AllLabels\"},{\"attributes\":{\"line_alpha\":0.2,\"line_color\":\"#9467bd\",\"line_width\":2,\"x\":{\"field\":\"coin_id\"},\"y\":{\"field\":\"value\"}},\"id\":\"14453\",\"type\":\"Line\"},{\"attributes\":{},\"id\":\"14291\",\"type\":\"CategoricalTickFormatter\"},{\"attributes\":{\"callback\":null,\"renderers\":[{\"id\":\"14303\"},{\"id\":\"14324\"},{\"id\":\"14346\"},{\"id\":\"14370\"},{\"id\":\"14396\"},{\"id\":\"14424\"},{\"id\":\"14454\"}],\"tags\":[\"hv_created\"],\"tooltips\":[[\"Variable\",\"@{Variable}\"],[\"coin_id\",\"@{coin_id}\"],[\"value\",\"@{value}\"]]},\"id\":\"14255\",\"type\":\"HoverTool\"},{\"attributes\":{},\"id\":\"14294\",\"type\":\"AllLabels\"},{\"attributes\":{\"label\":{\"value\":\"price_change_percentage_60d\"},\"renderers\":[{\"id\":\"14396\"}]},\"id\":\"14416\",\"type\":\"LegendItem\"},{\"attributes\":{},\"id\":\"14272\",\"type\":\"CategoricalTicker\"},{\"attributes\":{},\"id\":\"14360\",\"type\":\"UnionRenderers\"},{\"attributes\":{\"data_source\":{\"id\":\"14390\"},\"glyph\":{\"id\":\"14393\"},\"hover_glyph\":null,\"muted_glyph\":{\"id\":\"14395\"},\"nonselection_glyph\":{\"id\":\"14394\"},\"selection_glyph\":{\"id\":\"14417\"},\"view\":{\"id\":\"14397\"}},\"id\":\"14396\",\"type\":\"GlyphRenderer\"},{\"attributes\":{},\"id\":\"14449\",\"type\":\"Selection\"},{\"attributes\":{\"line_color\":\"#30a2da\",\"line_width\":2,\"x\":{\"field\":\"coin_id\"},\"y\":{\"field\":\"value\"}},\"id\":\"14317\",\"type\":\"Line\"},{\"attributes\":{},\"id\":\"14296\",\"type\":\"BasicTickFormatter\"},{\"attributes\":{\"line_alpha\":0.1,\"line_color\":\"#8b8b8b\",\"line_width\":2,\"x\":{\"field\":\"coin_id\"},\"y\":{\"field\":\"value\"}},\"id\":\"14394\",\"type\":\"Line\"},{\"attributes\":{\"end\":8641.780918,\"reset_end\":8641.780918,\"reset_start\":-834.5136980000001,\"start\":-834.5136980000001,\"tags\":[[[\"value\",\"value\",null]]]},\"id\":\"14254\",\"type\":\"Range1d\"},{\"attributes\":{\"text_color\":\"black\",\"text_font_size\":\"12pt\"},\"id\":\"14263\",\"type\":\"Title\"},{\"attributes\":{\"line_alpha\":0.2,\"line_color\":\"#fc4f30\",\"line_width\":2,\"x\":{\"field\":\"coin_id\"},\"y\":{\"field\":\"value\"}},\"id\":\"14323\",\"type\":\"Line\"},{\"attributes\":{\"line_color\":\"#9467bd\",\"line_width\":2,\"x\":{\"field\":\"coin_id\"},\"y\":{\"field\":\"value\"}},\"id\":\"14451\",\"type\":\"Line\"},{\"attributes\":{\"line_color\":\"#fc4f30\",\"line_width\":2,\"x\":{\"field\":\"coin_id\"},\"y\":{\"field\":\"value\"}},\"id\":\"14321\",\"type\":\"Line\"},{\"attributes\":{\"factors\":[\"bitcoin\",\"ethereum\",\"tether\",\"ripple\",\"bitcoin-cash\",\"binancecoin\",\"chainlink\",\"cardano\",\"litecoin\",\"bitcoin-cash-sv\",\"crypto-com-chain\",\"usd-coin\",\"eos\",\"monero\",\"tron\",\"tezos\",\"okb\",\"stellar\",\"cosmos\",\"cdai\",\"neo\",\"wrapped-bitcoin\",\"leo-token\",\"huobi-token\",\"nem\",\"binance-usd\",\"iota\",\"vechain\",\"zcash\",\"theta-token\",\"dash\",\"ethereum-classic\",\"ethlend\",\"maker\",\"havven\",\"omisego\",\"celsius-degree-token\",\"ontology\",\"ftx-token\",\"true-usd\",\"digibyte\"],\"tags\":[[[\"coin_id\",\"coin_id\",null]]]},\"id\":\"14253\",\"type\":\"FactorRange\"},{\"attributes\":{\"source\":{\"id\":\"14390\"}},\"id\":\"14397\",\"type\":\"CDSView\"},{\"attributes\":{\"line_color\":\"#8b8b8b\",\"line_width\":2,\"x\":{\"field\":\"coin_id\"},\"y\":{\"field\":\"value\"}},\"id\":\"14393\",\"type\":\"Line\"},{\"attributes\":{\"source\":{\"id\":\"14448\"}},\"id\":\"14455\",\"type\":\"CDSView\"},{\"attributes\":{},\"id\":\"14414\",\"type\":\"UnionRenderers\"},{\"attributes\":{},\"id\":\"14319\",\"type\":\"Selection\"},{\"attributes\":{},\"id\":\"14267\",\"type\":\"CategoricalScale\"},{\"attributes\":{\"label\":{\"value\":\"price_change_percentage_7d\"},\"renderers\":[{\"id\":\"14324\"}]},\"id\":\"14338\",\"type\":\"LegendItem\"},{\"attributes\":{},\"id\":\"14269\",\"type\":\"LinearScale\"},{\"attributes\":{\"line_color\":\"#e5ae38\",\"line_width\":2,\"x\":{\"field\":\"coin_id\"},\"y\":{\"field\":\"value\"}},\"id\":\"14363\",\"type\":\"Line\"},{\"attributes\":{\"axis\":{\"id\":\"14271\"},\"grid_line_color\":null,\"ticker\":null},\"id\":\"14273\",\"type\":\"Grid\"},{\"attributes\":{\"line_alpha\":0.1,\"line_color\":\"#9467bd\",\"line_width\":2,\"x\":{\"field\":\"coin_id\"},\"y\":{\"field\":\"value\"}},\"id\":\"14452\",\"type\":\"Line\"},{\"attributes\":{\"data_source\":{\"id\":\"14340\"},\"glyph\":{\"id\":\"14343\"},\"hover_glyph\":null,\"muted_glyph\":{\"id\":\"14345\"},\"nonselection_glyph\":{\"id\":\"14344\"},\"selection_glyph\":{\"id\":\"14363\"},\"view\":{\"id\":\"14347\"}},\"id\":\"14346\",\"type\":\"GlyphRenderer\"},{\"attributes\":{\"label\":{\"value\":\"price_change_percentage_1y\"},\"renderers\":[{\"id\":\"14454\"}]},\"id\":\"14478\",\"type\":\"LegendItem\"},{\"attributes\":{\"below\":[{\"id\":\"14271\"}],\"center\":[{\"id\":\"14273\"},{\"id\":\"14277\"}],\"height\":400,\"left\":[{\"id\":\"14274\"}],\"margin\":[5,5,5,5],\"min_border_bottom\":10,\"min_border_left\":10,\"min_border_right\":10,\"min_border_top\":10,\"renderers\":[{\"id\":\"14303\"},{\"id\":\"14324\"},{\"id\":\"14346\"},{\"id\":\"14370\"},{\"id\":\"14396\"},{\"id\":\"14424\"},{\"id\":\"14454\"}],\"right\":[{\"id\":\"14315\"}],\"sizing_mode\":\"fixed\",\"title\":{\"id\":\"14263\"},\"toolbar\":{\"id\":\"14284\"},\"width\":800,\"x_range\":{\"id\":\"14253\"},\"x_scale\":{\"id\":\"14267\"},\"y_range\":{\"id\":\"14254\"},\"y_scale\":{\"id\":\"14269\"}},\"id\":\"14262\",\"subtype\":\"Figure\",\"type\":\"Plot\"},{\"attributes\":{\"source\":{\"id\":\"14318\"}},\"id\":\"14325\",\"type\":\"CDSView\"},{\"attributes\":{\"data_source\":{\"id\":\"14448\"},\"glyph\":{\"id\":\"14451\"},\"hover_glyph\":null,\"muted_glyph\":{\"id\":\"14453\"},\"nonselection_glyph\":{\"id\":\"14452\"},\"selection_glyph\":{\"id\":\"14479\"},\"view\":{\"id\":\"14455\"}},\"id\":\"14454\",\"type\":\"GlyphRenderer\"},{\"attributes\":{},\"id\":\"14476\",\"type\":\"UnionRenderers\"},{\"attributes\":{\"axis\":{\"id\":\"14274\"},\"dimension\":1,\"grid_line_color\":null,\"ticker\":null},\"id\":\"14277\",\"type\":\"Grid\"},{\"attributes\":{\"axis_label\":\"coin_id\",\"formatter\":{\"id\":\"14291\"},\"major_label_orientation\":1.5707963267948966,\"major_label_policy\":{\"id\":\"14293\"},\"ticker\":{\"id\":\"14272\"}},\"id\":\"14271\",\"type\":\"CategoricalAxis\"},{\"attributes\":{},\"id\":\"14279\",\"type\":\"PanTool\"},{\"attributes\":{},\"id\":\"14419\",\"type\":\"Selection\"},{\"attributes\":{\"axis_label\":\"\",\"formatter\":{\"id\":\"14296\"},\"major_label_policy\":{\"id\":\"14294\"},\"ticker\":{\"id\":\"14275\"}},\"id\":\"14274\",\"type\":\"LinearAxis\"},{\"attributes\":{},\"id\":\"14275\",\"type\":\"BasicTicker\"},{\"attributes\":{\"line_alpha\":0.1,\"line_color\":\"#fc4f30\",\"line_width\":2,\"x\":{\"field\":\"coin_id\"},\"y\":{\"field\":\"value\"}},\"id\":\"14322\",\"type\":\"Line\"},{\"attributes\":{\"line_alpha\":0.2,\"line_color\":\"#6d904f\",\"line_width\":2,\"x\":{\"field\":\"coin_id\"},\"y\":{\"field\":\"value\"}},\"id\":\"14369\",\"type\":\"Line\"},{\"attributes\":{},\"id\":\"14280\",\"type\":\"WheelZoomTool\"},{\"attributes\":{\"line_color\":\"#6d904f\",\"line_width\":2,\"x\":{\"field\":\"coin_id\"},\"y\":{\"field\":\"value\"}},\"id\":\"14367\",\"type\":\"Line\"},{\"attributes\":{\"data_source\":{\"id\":\"14318\"},\"glyph\":{\"id\":\"14321\"},\"hover_glyph\":null,\"muted_glyph\":{\"id\":\"14323\"},\"nonselection_glyph\":{\"id\":\"14322\"},\"selection_glyph\":{\"id\":\"14339\"},\"view\":{\"id\":\"14325\"}},\"id\":\"14324\",\"type\":\"GlyphRenderer\"},{\"attributes\":{},\"id\":\"14365\",\"type\":\"Selection\"},{\"attributes\":{},\"id\":\"14278\",\"type\":\"SaveTool\"},{\"attributes\":{\"label\":{\"value\":\"price_change_percentage_30d\"},\"renderers\":[{\"id\":\"14370\"}]},\"id\":\"14388\",\"type\":\"LegendItem\"},{\"attributes\":{\"line_alpha\":0.2,\"line_color\":\"#17becf\",\"line_width\":2,\"x\":{\"field\":\"coin_id\"},\"y\":{\"field\":\"value\"}},\"id\":\"14423\",\"type\":\"Line\"},{\"attributes\":{\"overlay\":{\"id\":\"14283\"}},\"id\":\"14281\",\"type\":\"BoxZoomTool\"},{\"attributes\":{\"line_color\":\"#8b8b8b\",\"line_width\":2,\"x\":{\"field\":\"coin_id\"},\"y\":{\"field\":\"value\"}},\"id\":\"14417\",\"type\":\"Line\"},{\"attributes\":{},\"id\":\"14282\",\"type\":\"ResetTool\"},{\"attributes\":{},\"id\":\"14336\",\"type\":\"UnionRenderers\"},{\"attributes\":{\"data_source\":{\"id\":\"14418\"},\"glyph\":{\"id\":\"14421\"},\"hover_glyph\":null,\"muted_glyph\":{\"id\":\"14423\"},\"nonselection_glyph\":{\"id\":\"14422\"},\"selection_glyph\":{\"id\":\"14447\"},\"view\":{\"id\":\"14425\"}},\"id\":\"14424\",\"type\":\"GlyphRenderer\"},{\"attributes\":{\"source\":{\"id\":\"14364\"}},\"id\":\"14371\",\"type\":\"CDSView\"},{\"attributes\":{\"click_policy\":\"mute\",\"items\":[{\"id\":\"14316\"},{\"id\":\"14338\"},{\"id\":\"14362\"},{\"id\":\"14388\"},{\"id\":\"14416\"},{\"id\":\"14446\"},{\"id\":\"14478\"}],\"location\":[0,0],\"title\":\"Variable\"},\"id\":\"14315\",\"type\":\"Legend\"},{\"attributes\":{},\"id\":\"14298\",\"type\":\"Selection\"},{\"attributes\":{\"line_color\":\"#17becf\",\"line_width\":2,\"x\":{\"field\":\"coin_id\"},\"y\":{\"field\":\"value\"}},\"id\":\"14421\",\"type\":\"Line\"},{\"attributes\":{\"line_alpha\":0.1,\"line_color\":\"#30a2da\",\"line_width\":2,\"x\":{\"field\":\"coin_id\"},\"y\":{\"field\":\"value\"}},\"id\":\"14301\",\"type\":\"Line\"},{\"attributes\":{\"data\":{\"Variable\":[\"price_change_percentage_1y\",\"price_change_percentage_1y\",\"price_change_percentage_1y\",\"price_change_percentage_1y\",\"price_change_percentage_1y\",\"price_change_percentage_1y\",\"price_change_percentage_1y\",\"price_change_percentage_1y\",\"price_change_percentage_1y\",\"price_change_percentage_1y\",\"price_change_percentage_1y\",\"price_change_percentage_1y\",\"price_change_percentage_1y\",\"price_change_percentage_1y\",\"price_change_percentage_1y\",\"price_change_percentage_1y\",\"price_change_percentage_1y\",\"price_change_percentage_1y\",\"price_change_percentage_1y\",\"price_change_percentage_1y\",\"price_change_percentage_1y\",\"price_change_percentage_1y\",\"price_change_percentage_1y\",\"price_change_percentage_1y\",\"price_change_percentage_1y\",\"price_change_percentage_1y\",\"price_change_percentage_1y\",\"price_change_percentage_1y\",\"price_change_percentage_1y\",\"price_change_percentage_1y\",\"price_change_percentage_1y\",\"price_change_percentage_1y\",\"price_change_percentage_1y\",\"price_change_percentage_1y\",\"price_change_percentage_1y\",\"price_change_percentage_1y\",\"price_change_percentage_1y\",\"price_change_percentage_1y\",\"price_change_percentage_1y\",\"price_change_percentage_1y\",\"price_change_percentage_1y\"],\"coin_id\":[\"bitcoin\",\"ethereum\",\"tether\",\"ripple\",\"bitcoin-cash\",\"binancecoin\",\"chainlink\",\"cardano\",\"litecoin\",\"bitcoin-cash-sv\",\"crypto-com-chain\",\"usd-coin\",\"eos\",\"monero\",\"tron\",\"tezos\",\"okb\",\"stellar\",\"cosmos\",\"cdai\",\"neo\",\"wrapped-bitcoin\",\"leo-token\",\"huobi-token\",\"nem\",\"binance-usd\",\"iota\",\"vechain\",\"zcash\",\"theta-token\",\"dash\",\"ethereum-classic\",\"ethlend\",\"maker\",\"havven\",\"omisego\",\"celsius-degree-token\",\"ontology\",\"ftx-token\",\"true-usd\",\"digibyte\"],\"value\":{\"__ndarray__\":\"kQpjC0HCQkDWqIdodH1ZQN/42jNLApQ/NXugFRiaMMDN6bKY2PwsQOcdp+hIbFFAaTo7GRxSdEC6LCY2H4NjQPnaM0sCVCnA0NA/wcVuV0CQvd798RBzQL4wmSoYlci/t39lpUmRMcDovMYuUaFhQEPKT6p9nk1A6PaSxmiAYUBdUN8yp75hQMzuycNCnStAw7ZFmQ2cVEAHsTOFzmvSvx/0bFZ9aWBAhhvw+WHEQkAN/RNcrAA1QN8Vwf9WkjhAS7A4nPkWaUAVUn5S7dPBPzUk7rH04Q/AIsMq3shbaUBf0hito7hUQPyMCwcC64VAzsKedvirA8Dwoq8gzTgmQHRGlPYWrL5Ayk+qfTpOJUDfiVkvRjaFQEfJq3MMC3RAnFCIgONmn0CsVib8Uk8pwNttF5rrC2VAyXGndLD+2T/ZfFwbKgxnQA==\",\"dtype\":\"float64\",\"order\":\"little\",\"shape\":[41]}},\"selected\":{\"id\":\"14449\"},\"selection_policy\":{\"id\":\"14476\"}},\"id\":\"14448\",\"type\":\"ColumnDataSource\"},{\"attributes\":{\"label\":{\"value\":\"price_change_percentage_24h\"},\"renderers\":[{\"id\":\"14303\"}]},\"id\":\"14316\",\"type\":\"LegendItem\"},{\"attributes\":{\"data_source\":{\"id\":\"14297\"},\"glyph\":{\"id\":\"14300\"},\"hover_glyph\":null,\"muted_glyph\":{\"id\":\"14302\"},\"nonselection_glyph\":{\"id\":\"14301\"},\"selection_glyph\":{\"id\":\"14317\"},\"view\":{\"id\":\"14304\"}},\"id\":\"14303\",\"type\":\"GlyphRenderer\"},{\"attributes\":{\"line_color\":\"#9467bd\",\"line_width\":2,\"x\":{\"field\":\"coin_id\"},\"y\":{\"field\":\"value\"}},\"id\":\"14479\",\"type\":\"Line\"},{\"attributes\":{\"data\":{\"Variable\":[\"price_change_percentage_7d\",\"price_change_percentage_7d\",\"price_change_percentage_7d\",\"price_change_percentage_7d\",\"price_change_percentage_7d\",\"price_change_percentage_7d\",\"price_change_percentage_7d\",\"price_change_percentage_7d\",\"price_change_percentage_7d\",\"price_change_percentage_7d\",\"price_change_percentage_7d\",\"price_change_percentage_7d\",\"price_change_percentage_7d\",\"price_change_percentage_7d\",\"price_change_percentage_7d\",\"price_change_percentage_7d\",\"price_change_percentage_7d\",\"price_change_percentage_7d\",\"price_change_percentage_7d\",\"price_change_percentage_7d\",\"price_change_percentage_7d\",\"price_change_percentage_7d\",\"price_change_percentage_7d\",\"price_change_percentage_7d\",\"price_change_percentage_7d\",\"price_change_percentage_7d\",\"price_change_percentage_7d\",\"price_change_percentage_7d\",\"price_change_percentage_7d\",\"price_change_percentage_7d\",\"price_change_percentage_7d\",\"price_change_percentage_7d\",\"price_change_percentage_7d\",\"price_change_percentage_7d\",\"price_change_percentage_7d\",\"price_change_percentage_7d\",\"price_change_percentage_7d\",\"price_change_percentage_7d\",\"price_change_percentage_7d\",\"price_change_percentage_7d\",\"price_change_percentage_7d\"],\"coin_id\":[\"bitcoin\",\"ethereum\",\"tether\",\"ripple\",\"bitcoin-cash\",\"binancecoin\",\"chainlink\",\"cardano\",\"litecoin\",\"bitcoin-cash-sv\",\"crypto-com-chain\",\"usd-coin\",\"eos\",\"monero\",\"tron\",\"tezos\",\"okb\",\"stellar\",\"cosmos\",\"cdai\",\"neo\",\"wrapped-bitcoin\",\"leo-token\",\"huobi-token\",\"nem\",\"binance-usd\",\"iota\",\"vechain\",\"zcash\",\"theta-token\",\"dash\",\"ethereum-classic\",\"ethlend\",\"maker\",\"havven\",\"omisego\",\"celsius-degree-token\",\"ontology\",\"ftx-token\",\"true-usd\",\"digibyte\"],\"value\":{\"__ndarray__\":\"RbsKKT9pHkAzUBn/PsMkQL99HThnRKk/yVnY0w5/47/+JhQi4BgxQBL3WPrQtSlA7yB2ptCxNEA/jBAebfwrQPFL/bypaBpArKjBNAxfCkByv0NRoK8WwPlJtU/HY76/lPsdigL99L+n6Egu/5EvQE1KQbeX9BBA0m9fB87pIUBlU67wLjcSwKbtX1lpkgBAZwqd19gVMEBcIEHxY8ytP3wnZr0YigNAOh4zUBmfHUD3Hi457pT1vzNQGf8+4/k/kQ96Nqs+6781Y9F0djKoP2dEaW/wRRhAgXhdv2A3/L/8GHPXErIkQP8JLlbUYBjAVU0QdR9gFEDRlnMprmoIQGCrBIvD2RBAAiuHFtlOIECbG9MTllgRQKhXyjLEURtAqn06HjNQ4z+UvDrHgGzzvwltOZfiahxAsD2zJEBNxT8yj/zBwHPlPw==\",\"dtype\":\"float64\",\"order\":\"little\",\"shape\":[41]}},\"selected\":{\"id\":\"14319\"},\"selection_policy\":{\"id\":\"14336\"}},\"id\":\"14318\",\"type\":\"ColumnDataSource\"},{\"attributes\":{\"line_alpha\":0.1,\"line_color\":\"#6d904f\",\"line_width\":2,\"x\":{\"field\":\"coin_id\"},\"y\":{\"field\":\"value\"}},\"id\":\"14368\",\"type\":\"Line\"},{\"attributes\":{\"line_alpha\":0.2,\"line_color\":\"#30a2da\",\"line_width\":2,\"x\":{\"field\":\"coin_id\"},\"y\":{\"field\":\"value\"}},\"id\":\"14302\",\"type\":\"Line\"},{\"attributes\":{\"data_source\":{\"id\":\"14364\"},\"glyph\":{\"id\":\"14367\"},\"hover_glyph\":null,\"muted_glyph\":{\"id\":\"14369\"},\"nonselection_glyph\":{\"id\":\"14368\"},\"selection_glyph\":{\"id\":\"14389\"},\"view\":{\"id\":\"14371\"}},\"id\":\"14370\",\"type\":\"GlyphRenderer\"},{\"attributes\":{\"line_color\":\"#30a2da\",\"line_width\":2,\"x\":{\"field\":\"coin_id\"},\"y\":{\"field\":\"value\"}},\"id\":\"14300\",\"type\":\"Line\"},{\"attributes\":{\"source\":{\"id\":\"14297\"}},\"id\":\"14304\",\"type\":\"CDSView\"},{\"attributes\":{},\"id\":\"14386\",\"type\":\"UnionRenderers\"},{\"attributes\":{\"margin\":[5,5,5,5],\"name\":\"HSpacer28712\",\"sizing_mode\":\"stretch_width\"},\"id\":\"14678\",\"type\":\"Spacer\"},{\"attributes\":{\"data\":{\"Variable\":[\"price_change_percentage_14d\",\"price_change_percentage_14d\",\"price_change_percentage_14d\",\"price_change_percentage_14d\",\"price_change_percentage_14d\",\"price_change_percentage_14d\",\"price_change_percentage_14d\",\"price_change_percentage_14d\",\"price_change_percentage_14d\",\"price_change_percentage_14d\",\"price_change_percentage_14d\",\"price_change_percentage_14d\",\"price_change_percentage_14d\",\"price_change_percentage_14d\",\"price_change_percentage_14d\",\"price_change_percentage_14d\",\"price_change_percentage_14d\",\"price_change_percentage_14d\",\"price_change_percentage_14d\",\"price_change_percentage_14d\",\"price_change_percentage_14d\",\"price_change_percentage_14d\",\"price_change_percentage_14d\",\"price_change_percentage_14d\",\"price_change_percentage_14d\",\"price_change_percentage_14d\",\"price_change_percentage_14d\",\"price_change_percentage_14d\",\"price_change_percentage_14d\",\"price_change_percentage_14d\",\"price_change_percentage_14d\",\"price_change_percentage_14d\",\"price_change_percentage_14d\",\"price_change_percentage_14d\",\"price_change_percentage_14d\",\"price_change_percentage_14d\",\"price_change_percentage_14d\",\"price_change_percentage_14d\",\"price_change_percentage_14d\",\"price_change_percentage_14d\",\"price_change_percentage_14d\"],\"coin_id\":[\"bitcoin\",\"ethereum\",\"tether\",\"ripple\",\"bitcoin-cash\",\"binancecoin\",\"chainlink\",\"cardano\",\"litecoin\",\"bitcoin-cash-sv\",\"crypto-com-chain\",\"usd-coin\",\"eos\",\"monero\",\"tron\",\"tezos\",\"okb\",\"stellar\",\"cosmos\",\"cdai\",\"neo\",\"wrapped-bitcoin\",\"leo-token\",\"huobi-token\",\"nem\",\"binance-usd\",\"iota\",\"vechain\",\"zcash\",\"theta-token\",\"dash\",\"ethereum-classic\",\"ethlend\",\"maker\",\"havven\",\"omisego\",\"celsius-degree-token\",\"ontology\",\"ftx-token\",\"true-usd\",\"digibyte\"],\"value\":{\"__ndarray__\":\"zQaZZORMGkB5knTN5DsTQC1DHOviNno/ctwpHaz/AUCLic3HtYEtQJgvL8A+OhtACoDxDBqaIkAOhGQBEzgWQICfceFAKB1AIVnABG7d/b8xsfm4NhQhwGtI3GPpQ3e/pfeNrz0z8j8ao3VUNWkyQBUA4xk0dPY/VIzzN6GQAkCXrfVFQhsUwKpla32RUPG/Qgkzbf8KFkDPg7uzdtvFP8MN+PwwsiPAYFlpUgo6GkB3+GuyRh0cwM2v5gDBHN0/jliLTwEwBUDWrZ6T3jeuP7pOIy2VNw7Am1Wfq60oMsAJM23/yioXQJfK2xFOSxrAQE0tW+uL4D9OucK7XET0v0SLbOf7mSPA/pqsUQ/R978vaYzWUZUqwDtT6LzGbirAvodLjjs9OEByUMJM2x8lwJ30vvG1Z8q/ZCMQr+sXvD+7D0BqE0cdwA==\",\"dtype\":\"float64\",\"order\":\"little\",\"shape\":[41]}},\"selected\":{\"id\":\"14341\"},\"selection_policy\":{\"id\":\"14360\"}},\"id\":\"14340\",\"type\":\"ColumnDataSource\"},{\"attributes\":{\"bottom_units\":\"screen\",\"fill_alpha\":0.5,\"fill_color\":\"lightgrey\",\"left_units\":\"screen\",\"level\":\"overlay\",\"line_alpha\":1.0,\"line_color\":\"black\",\"line_dash\":[4,4],\"line_width\":2,\"right_units\":\"screen\",\"syncable\":false,\"top_units\":\"screen\"},\"id\":\"14283\",\"type\":\"BoxAnnotation\"},{\"attributes\":{\"line_alpha\":0.1,\"line_color\":\"#17becf\",\"line_width\":2,\"x\":{\"field\":\"coin_id\"},\"y\":{\"field\":\"value\"}},\"id\":\"14422\",\"type\":\"Line\"},{\"attributes\":{},\"id\":\"14313\",\"type\":\"UnionRenderers\"},{\"attributes\":{},\"id\":\"14444\",\"type\":\"UnionRenderers\"},{\"attributes\":{\"children\":[{\"id\":\"14252\"},{\"id\":\"14262\"},{\"id\":\"14678\"}],\"margin\":[0,0,0,0],\"name\":\"Row28707\",\"tags\":[\"embedded\"]},\"id\":\"14251\",\"type\":\"Row\"},{\"attributes\":{\"line_color\":\"#fc4f30\",\"line_width\":2,\"x\":{\"field\":\"coin_id\"},\"y\":{\"field\":\"value\"}},\"id\":\"14339\",\"type\":\"Line\"},{\"attributes\":{\"data\":{\"Variable\":[\"price_change_percentage_200d\",\"price_change_percentage_200d\",\"price_change_percentage_200d\",\"price_change_percentage_200d\",\"price_change_percentage_200d\",\"price_change_percentage_200d\",\"price_change_percentage_200d\",\"price_change_percentage_200d\",\"price_change_percentage_200d\",\"price_change_percentage_200d\",\"price_change_percentage_200d\",\"price_change_percentage_200d\",\"price_change_percentage_200d\",\"price_change_percentage_200d\",\"price_change_percentage_200d\",\"price_change_percentage_200d\",\"price_change_percentage_200d\",\"price_change_percentage_200d\",\"price_change_percentage_200d\",\"price_change_percentage_200d\",\"price_change_percentage_200d\",\"price_change_percentage_200d\",\"price_change_percentage_200d\",\"price_change_percentage_200d\",\"price_change_percentage_200d\",\"price_change_percentage_200d\",\"price_change_percentage_200d\",\"price_change_percentage_200d\",\"price_change_percentage_200d\",\"price_change_percentage_200d\",\"price_change_percentage_200d\",\"price_change_percentage_200d\",\"price_change_percentage_200d\",\"price_change_percentage_200d\",\"price_change_percentage_200d\",\"price_change_percentage_200d\",\"price_change_percentage_200d\",\"price_change_percentage_200d\",\"price_change_percentage_200d\",\"price_change_percentage_200d\",\"price_change_percentage_200d\"],\"coin_id\":[\"bitcoin\",\"ethereum\",\"tether\",\"ripple\",\"bitcoin-cash\",\"binancecoin\",\"chainlink\",\"cardano\",\"litecoin\",\"bitcoin-cash-sv\",\"crypto-com-chain\",\"usd-coin\",\"eos\",\"monero\",\"tron\",\"tezos\",\"okb\",\"stellar\",\"cosmos\",\"cdai\",\"neo\",\"wrapped-bitcoin\",\"leo-token\",\"huobi-token\",\"nem\",\"binance-usd\",\"iota\",\"vechain\",\"zcash\",\"theta-token\",\"dash\",\"ethereum-classic\",\"ethlend\",\"maker\",\"havven\",\"omisego\",\"celsius-degree-token\",\"ontology\",\"ftx-token\",\"true-usd\",\"digibyte\"],\"value\":{\"__ndarray__\":\"xY8xdy3hVED0piIVxlhnQBe86CtIM3a/9zsUBfrEQ0DTn/1IEak1QPTDCOHRc2NAl3MprqozeUAexM4UOohwQIB9dOrKfztAFhiyutWzHUCN7iB2plZsQIQqNXugFcS/ZHWr56QPMkALe9rhrzBlQH+8V61MnGBA5nlwd9a2RUARHm0csfpDQC+Lic3HJ1VAkj8YeO4/Z0AOvjCZKhjZv2vUQzS61GNAtRX7y+75VEC5GW7A52cwQAPso1NXHkVAKa4q+64Fa0A7NgLxun65P+TaUDHOwVdAyM1wAz7bcEAFwHgGDaNeQH3Qs1k1lYtAOUVHcvnvGEANGvonuMgkQCYZOQvbZ6FAGD4ipkSiVED5MeauZXeDQHi0ccQaSoJAC170FcTYmEB1PGagMmJLQC2yne+nvkxAndfYJaq3tr9R9wFIbSl+QA==\",\"dtype\":\"float64\",\"order\":\"little\",\"shape\":[41]}},\"selected\":{\"id\":\"14419\"},\"selection_policy\":{\"id\":\"14444\"}},\"id\":\"14418\",\"type\":\"ColumnDataSource\"},{\"attributes\":{\"label\":{\"value\":\"price_change_percentage_200d\"},\"renderers\":[{\"id\":\"14424\"}]},\"id\":\"14446\",\"type\":\"LegendItem\"},{\"attributes\":{\"line_color\":\"#e5ae38\",\"line_width\":2,\"x\":{\"field\":\"coin_id\"},\"y\":{\"field\":\"value\"}},\"id\":\"14343\",\"type\":\"Line\"},{\"attributes\":{\"data\":{\"Variable\":[\"price_change_percentage_30d\",\"price_change_percentage_30d\",\"price_change_percentage_30d\",\"price_change_percentage_30d\",\"price_change_percentage_30d\",\"price_change_percentage_30d\",\"price_change_percentage_30d\",\"price_change_percentage_30d\",\"price_change_percentage_30d\",\"price_change_percentage_30d\",\"price_change_percentage_30d\",\"price_change_percentage_30d\",\"price_change_percentage_30d\",\"price_change_percentage_30d\",\"price_change_percentage_30d\",\"price_change_percentage_30d\",\"price_change_percentage_30d\",\"price_change_percentage_30d\",\"price_change_percentage_30d\",\"price_change_percentage_30d\",\"price_change_percentage_30d\",\"price_change_percentage_30d\",\"price_change_percentage_30d\",\"price_change_percentage_30d\",\"price_change_percentage_30d\",\"price_change_percentage_30d\",\"price_change_percentage_30d\",\"price_change_percentage_30d\",\"price_change_percentage_30d\",\"price_change_percentage_30d\",\"price_change_percentage_30d\",\"price_change_percentage_30d\",\"price_change_percentage_30d\",\"price_change_percentage_30d\",\"price_change_percentage_30d\",\"price_change_percentage_30d\",\"price_change_percentage_30d\",\"price_change_percentage_30d\",\"price_change_percentage_30d\",\"price_change_percentage_30d\",\"price_change_percentage_30d\"],\"coin_id\":[\"bitcoin\",\"ethereum\",\"tether\",\"ripple\",\"bitcoin-cash\",\"binancecoin\",\"chainlink\",\"cardano\",\"litecoin\",\"bitcoin-cash-sv\",\"crypto-com-chain\",\"usd-coin\",\"eos\",\"monero\",\"tron\",\"tezos\",\"okb\",\"stellar\",\"cosmos\",\"cdai\",\"neo\",\"wrapped-bitcoin\",\"leo-token\",\"huobi-token\",\"nem\",\"binance-usd\",\"iota\",\"vechain\",\"zcash\",\"theta-token\",\"dash\",\"ethereum-classic\",\"ethlend\",\"maker\",\"havven\",\"omisego\",\"celsius-degree-token\",\"ontology\",\"ftx-token\",\"true-usd\",\"digibyte\"],\"value\":{\"__ndarray__\":\"VMa/z7iwHkAl6ZrJN9vAP/28qUiFsaW/L26jAbwFzj8dcjPcgH8vQPMf0m9fB64/5bhTOlhvJsBnfjUHCDYkQGWNeohGd/M/sCDNWDQdB0Cmft5UpHIxwJgvL8A+OsW/t0WZDTKJEsDeVKTC2HpDQEzD8BExNSnAjWK5pdVALMDjjcwjf+AkwIrIsIo3QiDAjliLTwFQEkAWpBmLpnMBwE3WqIdo9DXAVG8NbJWAHUAnMQisHJoIQGA8g4b+CQrACcTr+gU7DcCPpQ9dUN+SP80Bgjl6nBDA9S1zuixWLMBC7Eyh83odQEku/yH9bj9AtTf4wmQqH8Am/FI/byoHQNjYJaq3/j3A9GxWfa62MECdRloqb9c0wF4R/G8lOyLArK3YX3aZYUC1/SsrTVpBwP/PYb68ICXAFR3J5T+knz+ndLD+z4EqQA==\",\"dtype\":\"float64\",\"order\":\"little\",\"shape\":[41]}},\"selected\":{\"id\":\"14365\"},\"selection_policy\":{\"id\":\"14386\"}},\"id\":\"14364\",\"type\":\"ColumnDataSource\"},{\"attributes\":{\"label\":{\"value\":\"price_change_percentage_14d\"},\"renderers\":[{\"id\":\"14346\"}]},\"id\":\"14362\",\"type\":\"LegendItem\"},{\"attributes\":{},\"id\":\"14391\",\"type\":\"Selection\"},{\"attributes\":{\"margin\":[5,5,5,5],\"name\":\"HSpacer28711\",\"sizing_mode\":\"stretch_width\"},\"id\":\"14252\",\"type\":\"Spacer\"},{\"attributes\":{\"data\":{\"Variable\":[\"price_change_percentage_60d\",\"price_change_percentage_60d\",\"price_change_percentage_60d\",\"price_change_percentage_60d\",\"price_change_percentage_60d\",\"price_change_percentage_60d\",\"price_change_percentage_60d\",\"price_change_percentage_60d\",\"price_change_percentage_60d\",\"price_change_percentage_60d\",\"price_change_percentage_60d\",\"price_change_percentage_60d\",\"price_change_percentage_60d\",\"price_change_percentage_60d\",\"price_change_percentage_60d\",\"price_change_percentage_60d\",\"price_change_percentage_60d\",\"price_change_percentage_60d\",\"price_change_percentage_60d\",\"price_change_percentage_60d\",\"price_change_percentage_60d\",\"price_change_percentage_60d\",\"price_change_percentage_60d\",\"price_change_percentage_60d\",\"price_change_percentage_60d\",\"price_change_percentage_60d\",\"price_change_percentage_60d\",\"price_change_percentage_60d\",\"price_change_percentage_60d\",\"price_change_percentage_60d\",\"price_change_percentage_60d\",\"price_change_percentage_60d\",\"price_change_percentage_60d\",\"price_change_percentage_60d\",\"price_change_percentage_60d\",\"price_change_percentage_60d\",\"price_change_percentage_60d\",\"price_change_percentage_60d\",\"price_change_percentage_60d\",\"price_change_percentage_60d\",\"price_change_percentage_60d\"],\"coin_id\":[\"bitcoin\",\"ethereum\",\"tether\",\"ripple\",\"bitcoin-cash\",\"binancecoin\",\"chainlink\",\"cardano\",\"litecoin\",\"bitcoin-cash-sv\",\"crypto-com-chain\",\"usd-coin\",\"eos\",\"monero\",\"tron\",\"tezos\",\"okb\",\"stellar\",\"cosmos\",\"cdai\",\"neo\",\"wrapped-bitcoin\",\"leo-token\",\"huobi-token\",\"nem\",\"binance-usd\",\"iota\",\"vechain\",\"zcash\",\"theta-token\",\"dash\",\"ethereum-classic\",\"ethlend\",\"maker\",\"havven\",\"omisego\",\"celsius-degree-token\",\"ontology\",\"ftx-token\",\"true-usd\",\"digibyte\"],\"value\":{\"__ndarray__\":\"FvvL7skDCsAs1JrmHccpwKjjMQOV8dE/2qz6XG2NMcBzol2FlG8rwIleRrHcKkJAN8MN+PzYRcBi26LMBtk2wCEf9GxWPTHAq5UJv9TfOMBg5dAi23kwwDygbMoV3qU/l631RUIrPsDNzMzMzNxEQJm7lpAPGhZAms5OBkdpRsBKe4MvTKYGwEsfuqC+zT7APL1SliHOHMC4AZ8fRgjlP9L7xteeCStAFqQZi6azDMCvJeSDni0ewDeOWItPQQvAXvQVpBm3VEDaOGItPgW4PwpLPKBsQkHAaw4QzNHPRcAJM23/yoo0wBmQvd79AVRAfa62Yn85OsBVGFsIcug5wLCsNCkFHQFA529CIQKeMsA0uoPYmbZDwPKwUGua0VNA/pqsUQ/ia0Ao8iTpmllAwFuxv+yenBdAmrFoOjsZ0D8s1JrmHRc/wA==\",\"dtype\":\"float64\",\"order\":\"little\",\"shape\":[41]}},\"selected\":{\"id\":\"14391\"},\"selection_policy\":{\"id\":\"14414\"}},\"id\":\"14390\",\"type\":\"ColumnDataSource\"},{\"attributes\":{\"source\":{\"id\":\"14340\"}},\"id\":\"14347\",\"type\":\"CDSView\"},{\"attributes\":{\"line_color\":\"#6d904f\",\"line_width\":2,\"x\":{\"field\":\"coin_id\"},\"y\":{\"field\":\"value\"}},\"id\":\"14389\",\"type\":\"Line\"},{\"attributes\":{},\"id\":\"14341\",\"type\":\"Selection\"},{\"attributes\":{\"active_multi\":null,\"tools\":[{\"id\":\"14255\"},{\"id\":\"14278\"},{\"id\":\"14279\"},{\"id\":\"14280\"},{\"id\":\"14281\"},{\"id\":\"14282\"}]},\"id\":\"14284\",\"type\":\"Toolbar\"},{\"attributes\":{\"line_alpha\":0.2,\"line_color\":\"#e5ae38\",\"line_width\":2,\"x\":{\"field\":\"coin_id\"},\"y\":{\"field\":\"value\"}},\"id\":\"14345\",\"type\":\"Line\"},{\"attributes\":{\"line_alpha\":0.1,\"line_color\":\"#e5ae38\",\"line_width\":2,\"x\":{\"field\":\"coin_id\"},\"y\":{\"field\":\"value\"}},\"id\":\"14344\",\"type\":\"Line\"}],\"root_ids\":[\"14251\"]},\"title\":\"Bokeh Application\",\"version\":\"2.3.3\"}};\n",
       "    var render_items = [{\"docid\":\"725de154-bd7e-4720-af8e-cf670b086b4f\",\"root_ids\":[\"14251\"],\"roots\":{\"14251\":\"7bc5a059-7193-4949-953c-f3971880493e\"}}];\n",
       "    root.Bokeh.embed.embed_items_notebook(docs_json, render_items);\n",
       "  }\n",
       "  if (root.Bokeh !== undefined && root.Bokeh.Panel !== undefined) {\n",
       "    embed_document(root);\n",
       "  } else {\n",
       "    var attempts = 0;\n",
       "    var timer = setInterval(function(root) {\n",
       "      if (root.Bokeh !== undefined && root.Bokeh.Panel !== undefined) {\n",
       "        clearInterval(timer);\n",
       "        embed_document(root);\n",
       "      } else if (document.readyState == \"complete\") {\n",
       "        attempts++;\n",
       "        if (attempts > 200) {\n",
       "          clearInterval(timer);\n",
       "          console.log(\"Bokeh: ERROR: Unable to run BokehJS code because BokehJS library is missing\");\n",
       "        }\n",
       "      }\n",
       "    }, 25, root)\n",
       "  }\n",
       "})(window);</script>"
      ]
     },
     "metadata": {
      "application/vnd.holoviews_exec.v0+json": {
       "id": "14251"
      }
     },
     "execution_count": 378
    }
   ],
   "metadata": {}
  },
  {
   "cell_type": "markdown",
   "source": [
    "---"
   ],
   "metadata": {}
  },
  {
   "cell_type": "markdown",
   "source": [
    "### Prepare the Data\n",
    "\n",
    "This section prepares the data before running the K-Means algorithm. It follows these steps:\n",
    "\n",
    "1. Use the `StandardScaler` module from scikit-learn to normalize the CSV file data. This will require you to utilize the `fit_transform` function.\n",
    "\n",
    "2. Create a DataFrame that contains the scaled data. Be sure to set the `coin_id` index from the original DataFrame as the index for the new DataFrame. Review the resulting DataFrame.\n"
   ],
   "metadata": {}
  },
  {
   "cell_type": "code",
   "execution_count": 379,
   "source": [
    "# Use the `StandardScaler()` module from scikit-learn to normalize the data from the CSV file\r\n",
    "scaled_data = StandardScaler().fit_transform(df_market_data)"
   ],
   "outputs": [],
   "metadata": {}
  },
  {
   "cell_type": "code",
   "execution_count": 380,
   "source": [
    "# Create a DataFrame with the scaled data\r\n",
    "df_market_data_scaled = pd.DataFrame(\r\n",
    "    scaled_data,\r\n",
    "    columns=df_market_data.columns\r\n",
    ")\r\n",
    "\r\n",
    "# Copy the crypto names from the original data\r\n",
    "df_market_data_scaled[\"coin_id\"] = df_market_data.index\r\n",
    "\r\n",
    "# Set the coinid column as index\r\n",
    "df_market_data_scaled = df_market_data_scaled.set_index(\"coin_id\")\r\n",
    "\r\n",
    "# Display sample data\r\n",
    "df_market_data_scaled.head()"
   ],
   "outputs": [
    {
     "output_type": "execute_result",
     "data": {
      "text/plain": [
       "              price_change_percentage_24h  price_change_percentage_7d  \\\n",
       "coin_id                                                                 \n",
       "bitcoin                          0.508529                    0.493193   \n",
       "ethereum                         0.185446                    0.934445   \n",
       "tether                           0.021774                   -0.706337   \n",
       "ripple                          -0.040764                   -0.810928   \n",
       "bitcoin-cash                     1.193036                    2.000959   \n",
       "\n",
       "              price_change_percentage_14d  price_change_percentage_30d  \\\n",
       "coin_id                                                                  \n",
       "bitcoin                          0.772200                     0.235460   \n",
       "ethereum                         0.558692                    -0.054341   \n",
       "tether                          -0.021680                    -0.061030   \n",
       "ripple                           0.249458                    -0.050388   \n",
       "bitcoin-cash                     1.760610                     0.545842   \n",
       "\n",
       "              price_change_percentage_60d  price_change_percentage_200d  \\\n",
       "coin_id                                                                   \n",
       "bitcoin                         -0.067495                     -0.355953   \n",
       "ethereum                        -0.273483                     -0.115759   \n",
       "tether                           0.008005                     -0.550247   \n",
       "ripple                          -0.373164                     -0.458259   \n",
       "bitcoin-cash                    -0.291203                     -0.499848   \n",
       "\n",
       "              price_change_percentage_1y  \n",
       "coin_id                                   \n",
       "bitcoin                        -0.251637  \n",
       "ethereum                       -0.199352  \n",
       "tether                         -0.282061  \n",
       "ripple                         -0.295546  \n",
       "bitcoin-cash                   -0.270317  "
      ],
      "text/html": [
       "<div>\n",
       "<style scoped>\n",
       "    .dataframe tbody tr th:only-of-type {\n",
       "        vertical-align: middle;\n",
       "    }\n",
       "\n",
       "    .dataframe tbody tr th {\n",
       "        vertical-align: top;\n",
       "    }\n",
       "\n",
       "    .dataframe thead th {\n",
       "        text-align: right;\n",
       "    }\n",
       "</style>\n",
       "<table border=\"1\" class=\"dataframe\">\n",
       "  <thead>\n",
       "    <tr style=\"text-align: right;\">\n",
       "      <th></th>\n",
       "      <th>price_change_percentage_24h</th>\n",
       "      <th>price_change_percentage_7d</th>\n",
       "      <th>price_change_percentage_14d</th>\n",
       "      <th>price_change_percentage_30d</th>\n",
       "      <th>price_change_percentage_60d</th>\n",
       "      <th>price_change_percentage_200d</th>\n",
       "      <th>price_change_percentage_1y</th>\n",
       "    </tr>\n",
       "    <tr>\n",
       "      <th>coin_id</th>\n",
       "      <th></th>\n",
       "      <th></th>\n",
       "      <th></th>\n",
       "      <th></th>\n",
       "      <th></th>\n",
       "      <th></th>\n",
       "      <th></th>\n",
       "    </tr>\n",
       "  </thead>\n",
       "  <tbody>\n",
       "    <tr>\n",
       "      <th>bitcoin</th>\n",
       "      <td>0.508529</td>\n",
       "      <td>0.493193</td>\n",
       "      <td>0.772200</td>\n",
       "      <td>0.235460</td>\n",
       "      <td>-0.067495</td>\n",
       "      <td>-0.355953</td>\n",
       "      <td>-0.251637</td>\n",
       "    </tr>\n",
       "    <tr>\n",
       "      <th>ethereum</th>\n",
       "      <td>0.185446</td>\n",
       "      <td>0.934445</td>\n",
       "      <td>0.558692</td>\n",
       "      <td>-0.054341</td>\n",
       "      <td>-0.273483</td>\n",
       "      <td>-0.115759</td>\n",
       "      <td>-0.199352</td>\n",
       "    </tr>\n",
       "    <tr>\n",
       "      <th>tether</th>\n",
       "      <td>0.021774</td>\n",
       "      <td>-0.706337</td>\n",
       "      <td>-0.021680</td>\n",
       "      <td>-0.061030</td>\n",
       "      <td>0.008005</td>\n",
       "      <td>-0.550247</td>\n",
       "      <td>-0.282061</td>\n",
       "    </tr>\n",
       "    <tr>\n",
       "      <th>ripple</th>\n",
       "      <td>-0.040764</td>\n",
       "      <td>-0.810928</td>\n",
       "      <td>0.249458</td>\n",
       "      <td>-0.050388</td>\n",
       "      <td>-0.373164</td>\n",
       "      <td>-0.458259</td>\n",
       "      <td>-0.295546</td>\n",
       "    </tr>\n",
       "    <tr>\n",
       "      <th>bitcoin-cash</th>\n",
       "      <td>1.193036</td>\n",
       "      <td>2.000959</td>\n",
       "      <td>1.760610</td>\n",
       "      <td>0.545842</td>\n",
       "      <td>-0.291203</td>\n",
       "      <td>-0.499848</td>\n",
       "      <td>-0.270317</td>\n",
       "    </tr>\n",
       "  </tbody>\n",
       "</table>\n",
       "</div>"
      ]
     },
     "metadata": {},
     "execution_count": 380
    }
   ],
   "metadata": {}
  },
  {
   "cell_type": "markdown",
   "source": [
    "---"
   ],
   "metadata": {}
  },
  {
   "cell_type": "markdown",
   "source": [
    "### Find the Best Value for k Using the Original Data\n",
    "\n",
    "In this section, you will use the elbow method to find the best value for `k`.\n",
    "\n",
    "1. Code the elbow method algorithm to find the best value for `k`. Use a range from 1 to 11. \n",
    "\n",
    "2. Plot a line chart with all the inertia values computed with the different values of `k` to visually identify the optimal value for `k`.\n",
    "\n",
    "3. Answer the following question: What is the best value for `k`?"
   ],
   "metadata": {}
  },
  {
   "cell_type": "code",
   "execution_count": 381,
   "source": [
    "# Create a list with the number of k-values to try\r\n",
    "# Use a range from 1 to 11\r\n",
    "k_list = list(range(1, 12))"
   ],
   "outputs": [],
   "metadata": {}
  },
  {
   "cell_type": "code",
   "execution_count": 382,
   "source": [
    "# Create an empy list to store the inertia values\r\n",
    "inertia_values = []"
   ],
   "outputs": [],
   "metadata": {}
  },
  {
   "cell_type": "code",
   "execution_count": 383,
   "source": [
    "# Create a for loop to compute the inertia with each possible value of k\r\n",
    "# Inside the loop:\r\n",
    "# 1. Create a KMeans model using the loop counter for the n_clusters\r\n",
    "# 2. Fit the model to the data using `df_market_data_scaled`\r\n",
    "# 3. Append the model.inertia_ to the inertia list\r\n",
    "for i in k_list:\r\n",
    "    model = KMeans(n_clusters=i)\r\n",
    "    model.fit(df_market_data_scaled)\r\n",
    "    inertia_values.append(model.inertia_)"
   ],
   "outputs": [
    {
     "output_type": "stream",
     "name": "stderr",
     "text": [
      "C:\\Users\\jcarb\\.conda\\envs\\dev\\lib\\site-packages\\sklearn\\cluster\\_kmeans.py:881: UserWarning: KMeans is known to have a memory leak on Windows with MKL, when there are less chunks than available threads. You can avoid it by setting the environment variable OMP_NUM_THREADS=1.\n",
      "  warnings.warn(\n"
     ]
    }
   ],
   "metadata": {}
  },
  {
   "cell_type": "code",
   "execution_count": 384,
   "source": [
    "# Create a dictionary with the data to plot the Elbow curve\r\n",
    "elbow_data = {\"k_values\": k_list, \"inertia\": inertia_values}\r\n",
    "\r\n",
    "# Create a DataFrame with the data to plot the Elbow curve\r\n",
    "df_elbow = pd.DataFrame(elbow_data)"
   ],
   "outputs": [],
   "metadata": {}
  },
  {
   "cell_type": "code",
   "execution_count": 385,
   "source": [
    "# Plot a line chart with all the inertia values computed with \r\n",
    "# the different values of k to visually identify the optimal value for k.\r\n",
    "plot_elbow = df_elbow.hvplot.line(x = \"k_values\", y = \"inertia\", xticks = k_list, title = \"Elbow Curve\")\r\n",
    "plot_elbow"
   ],
   "outputs": [
    {
     "output_type": "display_data",
     "data": {},
     "metadata": {}
    },
    {
     "output_type": "execute_result",
     "data": {
      "application/vnd.holoviews_exec.v0+json": "",
      "text/plain": [
       ":Curve   [k_values]   (inertia)"
      ],
      "text/html": [
       "<div id='14790'>\n",
       "\n",
       "\n",
       "\n",
       "\n",
       "\n",
       "  <div class=\"bk-root\" id=\"db4a8ab5-8c32-470d-9534-600a2ced9055\" data-root-id=\"14790\"></div>\n",
       "</div>\n",
       "<script type=\"application/javascript\">(function(root) {\n",
       "  function embed_document(root) {\n",
       "    var docs_json = {\"e22a6348-7cab-441b-a356-83c8cfde1f7b\":{\"defs\":[{\"extends\":null,\"module\":null,\"name\":\"ReactiveHTML1\",\"overrides\":[],\"properties\":[]},{\"extends\":null,\"module\":null,\"name\":\"FlexBox1\",\"overrides\":[],\"properties\":[{\"default\":\"flex-start\",\"kind\":null,\"name\":\"align_content\"},{\"default\":\"flex-start\",\"kind\":null,\"name\":\"align_items\"},{\"default\":\"row\",\"kind\":null,\"name\":\"flex_direction\"},{\"default\":\"wrap\",\"kind\":null,\"name\":\"flex_wrap\"},{\"default\":\"flex-start\",\"kind\":null,\"name\":\"justify_content\"}]},{\"extends\":null,\"module\":null,\"name\":\"TemplateActions1\",\"overrides\":[],\"properties\":[{\"default\":0,\"kind\":null,\"name\":\"open_modal\"},{\"default\":0,\"kind\":null,\"name\":\"close_modal\"}]},{\"extends\":null,\"module\":null,\"name\":\"MaterialTemplateActions1\",\"overrides\":[],\"properties\":[{\"default\":0,\"kind\":null,\"name\":\"open_modal\"},{\"default\":0,\"kind\":null,\"name\":\"close_modal\"}]}],\"roots\":{\"references\":[{\"attributes\":{},\"id\":\"14813\",\"type\":\"PanTool\"},{\"attributes\":{\"data\":{\"inertia\":{\"__ndarray__\":\"AAAAAADwcUByhzI6P3poQOGRvNowzF5AGe6ulG/BU0BoEQsuWlNQQDozTFiaaUpAgRbl9XUPRkB6f2RDwE5CQJLTP9m5UkBAar8P68A6PECSN1iDBMY3QA==\",\"dtype\":\"float64\",\"order\":\"little\",\"shape\":[11]},\"k_values\":[1,2,3,4,5,6,7,8,9,10,11]},\"selected\":{\"id\":\"14826\"},\"selection_policy\":{\"id\":\"14850\"}},\"id\":\"14825\",\"type\":\"ColumnDataSource\"},{\"attributes\":{\"callback\":null,\"renderers\":[{\"id\":\"14831\"}],\"tags\":[\"hv_created\"],\"tooltips\":[[\"k_values\",\"@{k_values}\"],[\"inertia\",\"@{inertia}\"]]},\"id\":\"14794\",\"type\":\"HoverTool\"},{\"attributes\":{\"line_color\":\"#30a2da\",\"line_width\":2,\"x\":{\"field\":\"k_values\"},\"y\":{\"field\":\"inertia\"}},\"id\":\"14833\",\"type\":\"Line\"},{\"attributes\":{\"end\":11.0,\"reset_end\":11.0,\"reset_start\":1.0,\"start\":1.0,\"tags\":[[[\"k_values\",\"k_values\",null]]]},\"id\":\"14792\",\"type\":\"Range1d\"},{\"attributes\":{\"bottom_units\":\"screen\",\"fill_alpha\":0.5,\"fill_color\":\"lightgrey\",\"left_units\":\"screen\",\"level\":\"overlay\",\"line_alpha\":1.0,\"line_color\":\"black\",\"line_dash\":[4,4],\"line_width\":2,\"right_units\":\"screen\",\"syncable\":false,\"top_units\":\"screen\"},\"id\":\"14817\",\"type\":\"BoxAnnotation\"},{\"attributes\":{\"source\":{\"id\":\"14825\"}},\"id\":\"14832\",\"type\":\"CDSView\"},{\"attributes\":{},\"id\":\"14837\",\"type\":\"BasicTickFormatter\"},{\"attributes\":{\"text\":\"Elbow Curve\",\"text_color\":\"black\",\"text_font_size\":\"12pt\"},\"id\":\"14796\",\"type\":\"Title\"},{\"attributes\":{},\"id\":\"14800\",\"type\":\"LinearScale\"},{\"attributes\":{},\"id\":\"14835\",\"type\":\"AllLabels\"},{\"attributes\":{\"end\":313.32264936360957,\"reset_end\":313.32264936360957,\"reset_start\":-2.5491429997052144,\"start\":-2.5491429997052144,\"tags\":[[[\"inertia\",\"inertia\",null]]]},\"id\":\"14793\",\"type\":\"Range1d\"},{\"attributes\":{\"ticks\":[1,2,3,4,5,6,7,8,9,10,11]},\"id\":\"14834\",\"type\":\"FixedTicker\"},{\"attributes\":{},\"id\":\"14840\",\"type\":\"AllLabels\"},{\"attributes\":{\"axis\":{\"id\":\"14808\"},\"dimension\":1,\"grid_line_color\":null,\"ticker\":null},\"id\":\"14811\",\"type\":\"Grid\"},{\"attributes\":{},\"id\":\"14842\",\"type\":\"BasicTickFormatter\"},{\"attributes\":{\"axis\":{\"id\":\"14804\"},\"grid_line_color\":null,\"ticker\":null},\"id\":\"14807\",\"type\":\"Grid\"},{\"attributes\":{},\"id\":\"14802\",\"type\":\"LinearScale\"},{\"attributes\":{\"axis_label\":\"k_values\",\"formatter\":{\"id\":\"14837\"},\"major_label_policy\":{\"id\":\"14835\"},\"ticker\":{\"id\":\"14834\"}},\"id\":\"14804\",\"type\":\"LinearAxis\"},{\"attributes\":{\"line_alpha\":0.2,\"line_color\":\"#30a2da\",\"line_width\":2,\"x\":{\"field\":\"k_values\"},\"y\":{\"field\":\"inertia\"}},\"id\":\"14830\",\"type\":\"Line\"},{\"attributes\":{\"axis_label\":\"inertia\",\"formatter\":{\"id\":\"14842\"},\"major_label_policy\":{\"id\":\"14840\"},\"ticker\":{\"id\":\"14809\"}},\"id\":\"14808\",\"type\":\"LinearAxis\"},{\"attributes\":{\"margin\":[5,5,5,5],\"name\":\"HSpacer29828\",\"sizing_mode\":\"stretch_width\"},\"id\":\"14861\",\"type\":\"Spacer\"},{\"attributes\":{\"active_multi\":null,\"tools\":[{\"id\":\"14794\"},{\"id\":\"14812\"},{\"id\":\"14813\"},{\"id\":\"14814\"},{\"id\":\"14815\"},{\"id\":\"14816\"}]},\"id\":\"14818\",\"type\":\"Toolbar\"},{\"attributes\":{\"margin\":[5,5,5,5],\"name\":\"HSpacer29827\",\"sizing_mode\":\"stretch_width\"},\"id\":\"14791\",\"type\":\"Spacer\"},{\"attributes\":{},\"id\":\"14814\",\"type\":\"WheelZoomTool\"},{\"attributes\":{\"below\":[{\"id\":\"14804\"}],\"center\":[{\"id\":\"14807\"},{\"id\":\"14811\"}],\"height\":300,\"left\":[{\"id\":\"14808\"}],\"margin\":[5,5,5,5],\"min_border_bottom\":10,\"min_border_left\":10,\"min_border_right\":10,\"min_border_top\":10,\"renderers\":[{\"id\":\"14831\"}],\"sizing_mode\":\"fixed\",\"title\":{\"id\":\"14796\"},\"toolbar\":{\"id\":\"14818\"},\"width\":700,\"x_range\":{\"id\":\"14792\"},\"x_scale\":{\"id\":\"14800\"},\"y_range\":{\"id\":\"14793\"},\"y_scale\":{\"id\":\"14802\"}},\"id\":\"14795\",\"subtype\":\"Figure\",\"type\":\"Plot\"},{\"attributes\":{},\"id\":\"14809\",\"type\":\"BasicTicker\"},{\"attributes\":{},\"id\":\"14812\",\"type\":\"SaveTool\"},{\"attributes\":{\"overlay\":{\"id\":\"14817\"}},\"id\":\"14815\",\"type\":\"BoxZoomTool\"},{\"attributes\":{},\"id\":\"14816\",\"type\":\"ResetTool\"},{\"attributes\":{\"line_alpha\":0.1,\"line_color\":\"#30a2da\",\"line_width\":2,\"x\":{\"field\":\"k_values\"},\"y\":{\"field\":\"inertia\"}},\"id\":\"14829\",\"type\":\"Line\"},{\"attributes\":{\"line_color\":\"#30a2da\",\"line_width\":2,\"x\":{\"field\":\"k_values\"},\"y\":{\"field\":\"inertia\"}},\"id\":\"14828\",\"type\":\"Line\"},{\"attributes\":{},\"id\":\"14850\",\"type\":\"UnionRenderers\"},{\"attributes\":{},\"id\":\"14826\",\"type\":\"Selection\"},{\"attributes\":{\"data_source\":{\"id\":\"14825\"},\"glyph\":{\"id\":\"14828\"},\"hover_glyph\":null,\"muted_glyph\":{\"id\":\"14830\"},\"nonselection_glyph\":{\"id\":\"14829\"},\"selection_glyph\":{\"id\":\"14833\"},\"view\":{\"id\":\"14832\"}},\"id\":\"14831\",\"type\":\"GlyphRenderer\"},{\"attributes\":{\"children\":[{\"id\":\"14791\"},{\"id\":\"14795\"},{\"id\":\"14861\"}],\"margin\":[0,0,0,0],\"name\":\"Row29823\",\"tags\":[\"embedded\"]},\"id\":\"14790\",\"type\":\"Row\"}],\"root_ids\":[\"14790\"]},\"title\":\"Bokeh Application\",\"version\":\"2.3.3\"}};\n",
       "    var render_items = [{\"docid\":\"e22a6348-7cab-441b-a356-83c8cfde1f7b\",\"root_ids\":[\"14790\"],\"roots\":{\"14790\":\"db4a8ab5-8c32-470d-9534-600a2ced9055\"}}];\n",
       "    root.Bokeh.embed.embed_items_notebook(docs_json, render_items);\n",
       "  }\n",
       "  if (root.Bokeh !== undefined && root.Bokeh.Panel !== undefined) {\n",
       "    embed_document(root);\n",
       "  } else {\n",
       "    var attempts = 0;\n",
       "    var timer = setInterval(function(root) {\n",
       "      if (root.Bokeh !== undefined && root.Bokeh.Panel !== undefined) {\n",
       "        clearInterval(timer);\n",
       "        embed_document(root);\n",
       "      } else if (document.readyState == \"complete\") {\n",
       "        attempts++;\n",
       "        if (attempts > 200) {\n",
       "          clearInterval(timer);\n",
       "          console.log(\"Bokeh: ERROR: Unable to run BokehJS code because BokehJS library is missing\");\n",
       "        }\n",
       "      }\n",
       "    }, 25, root)\n",
       "  }\n",
       "})(window);</script>"
      ]
     },
     "metadata": {
      "application/vnd.holoviews_exec.v0+json": {
       "id": "14790"
      }
     },
     "execution_count": 385
    }
   ],
   "metadata": {}
  },
  {
   "cell_type": "markdown",
   "source": [
    "#### Answer the following question: What is the best value for k?\r\n",
    "**Question:** What is the best value for `k`?\r\n",
    "\r\n",
    "**Answer:** The best value for k is the point of inflection which is 4"
   ],
   "metadata": {}
  },
  {
   "cell_type": "markdown",
   "source": [
    "---"
   ],
   "metadata": {}
  },
  {
   "cell_type": "markdown",
   "source": [
    "### Cluster Cryptocurrencies with K-means Using the Original Data\n",
    "\n",
    "In this section, you will use the K-Means algorithm with the best value for `k` found in the previous section to cluster the cryptocurrencies according to the price changes of cryptocurrencies provided.\n",
    "\n",
    "1. Initialize the K-Means model with four clusters using the best value for `k`. \n",
    "\n",
    "2. Fit the K-Means model using the original data.\n",
    "\n",
    "3. Predict the clusters to group the cryptocurrencies using the original data. View the resulting array of cluster values.\n",
    "\n",
    "4. Add a new column to the DataFrame with the original data to store the predicted clusters.\n",
    "\n",
    "5. Create a scatter plot using hvPlot by setting `x=\"price_change_percentage_24h\"` and `y=\"price_change_percentage_7d\"`. Color the graph points with the labels found using K-Means and add the crypto name in the `hover_cols` parameter to identify the cryptocurrency represented by each data point."
   ],
   "metadata": {}
  },
  {
   "cell_type": "code",
   "execution_count": 386,
   "source": [
    "# Initialize the K-Means model using the best value for k\r\n",
    "model = KMeans(n_clusters=4)"
   ],
   "outputs": [],
   "metadata": {}
  },
  {
   "cell_type": "code",
   "execution_count": 387,
   "source": [
    "# Fit the K-Means model using the scaled data\r\n",
    "model.fit(df_market_data_scaled)"
   ],
   "outputs": [
    {
     "output_type": "execute_result",
     "data": {
      "text/plain": [
       "KMeans(n_clusters=4)"
      ]
     },
     "metadata": {},
     "execution_count": 387
    }
   ],
   "metadata": {}
  },
  {
   "cell_type": "code",
   "execution_count": 388,
   "source": [
    "# Predict the clusters to group the cryptocurrencies using the scaled data\r\n",
    "predictions = model.predict(df_market_data_scaled)\r\n",
    "\r\n",
    "# View the resulting array of cluster values.\r\n",
    "predictions"
   ],
   "outputs": [
    {
     "output_type": "execute_result",
     "data": {
      "text/plain": [
       "array([2, 2, 0, 0, 2, 2, 2, 2, 2, 0, 0, 0, 0, 2, 0, 2, 0, 0, 2, 0, 0, 2,\n",
       "       0, 0, 0, 0, 0, 0, 2, 0, 0, 0, 3, 2, 0, 0, 1, 0, 0, 0, 0])"
      ]
     },
     "metadata": {},
     "execution_count": 388
    }
   ],
   "metadata": {}
  },
  {
   "cell_type": "code",
   "execution_count": 389,
   "source": [
    "# Add a new column to the DataFrame with the predicted clusters\r\n",
    "df_market_data_scaled[\"predicted_cluster\"] = predictions #added new column\r\n",
    "\r\n",
    "# Display sample data\r\n",
    "df_market_data_scaled[\"predicted_cluster\"]"
   ],
   "outputs": [
    {
     "output_type": "execute_result",
     "data": {
      "text/plain": [
       "coin_id\n",
       "bitcoin                 2\n",
       "ethereum                2\n",
       "tether                  0\n",
       "ripple                  0\n",
       "bitcoin-cash            2\n",
       "binancecoin             2\n",
       "chainlink               2\n",
       "cardano                 2\n",
       "litecoin                2\n",
       "bitcoin-cash-sv         0\n",
       "crypto-com-chain        0\n",
       "usd-coin                0\n",
       "eos                     0\n",
       "monero                  2\n",
       "tron                    0\n",
       "tezos                   2\n",
       "okb                     0\n",
       "stellar                 0\n",
       "cosmos                  2\n",
       "cdai                    0\n",
       "neo                     0\n",
       "wrapped-bitcoin         2\n",
       "leo-token               0\n",
       "huobi-token             0\n",
       "nem                     0\n",
       "binance-usd             0\n",
       "iota                    0\n",
       "vechain                 0\n",
       "zcash                   2\n",
       "theta-token             0\n",
       "dash                    0\n",
       "ethereum-classic        0\n",
       "ethlend                 3\n",
       "maker                   2\n",
       "havven                  0\n",
       "omisego                 0\n",
       "celsius-degree-token    1\n",
       "ontology                0\n",
       "ftx-token               0\n",
       "true-usd                0\n",
       "digibyte                0\n",
       "Name: predicted_cluster, dtype: int32"
      ]
     },
     "metadata": {},
     "execution_count": 389
    }
   ],
   "metadata": {}
  },
  {
   "cell_type": "code",
   "execution_count": 390,
   "source": [
    "# Create a scatter plot using hvPlot by setting \r\n",
    "# `x=\"price_change_percentage_24h\"` and `y=\"price_change_percentage_7d\"`. \r\n",
    "# Color the graph points with the labels found using K-Means and \r\n",
    "# add the crypto name in the `hover_cols` parameter to identify \r\n",
    "# the cryptocurrency represented by each data point.\r\n",
    "plot_scatter = df_market_data_scaled.hvplot.scatter(x = \"price_change_percentage_24h\", y =\"price_change_percentage_7d\", by = \"predicted_cluster\", hover_cols = \"coin_id\")\r\n",
    "plot_scatter"
   ],
   "outputs": [
    {
     "output_type": "display_data",
     "data": {},
     "metadata": {}
    },
    {
     "output_type": "execute_result",
     "data": {
      "application/vnd.holoviews_exec.v0+json": "",
      "text/plain": [
       ":NdOverlay   [predicted_cluster]\n",
       "   :Scatter   [price_change_percentage_24h]   (price_change_percentage_7d,coin_id)"
      ],
      "text/html": [
       "<div id='14908'>\n",
       "\n",
       "\n",
       "\n",
       "\n",
       "\n",
       "  <div class=\"bk-root\" id=\"a0688f90-9f35-4789-a14a-608a1f92ad6d\" data-root-id=\"14908\"></div>\n",
       "</div>\n",
       "<script type=\"application/javascript\">(function(root) {\n",
       "  function embed_document(root) {\n",
       "    var docs_json = {\"eb0d4729-5259-4bd2-a475-0e71081bb6f9\":{\"defs\":[{\"extends\":null,\"module\":null,\"name\":\"ReactiveHTML1\",\"overrides\":[],\"properties\":[]},{\"extends\":null,\"module\":null,\"name\":\"FlexBox1\",\"overrides\":[],\"properties\":[{\"default\":\"flex-start\",\"kind\":null,\"name\":\"align_content\"},{\"default\":\"flex-start\",\"kind\":null,\"name\":\"align_items\"},{\"default\":\"row\",\"kind\":null,\"name\":\"flex_direction\"},{\"default\":\"wrap\",\"kind\":null,\"name\":\"flex_wrap\"},{\"default\":\"flex-start\",\"kind\":null,\"name\":\"justify_content\"}]},{\"extends\":null,\"module\":null,\"name\":\"TemplateActions1\",\"overrides\":[],\"properties\":[{\"default\":0,\"kind\":null,\"name\":\"open_modal\"},{\"default\":0,\"kind\":null,\"name\":\"close_modal\"}]},{\"extends\":null,\"module\":null,\"name\":\"MaterialTemplateActions1\",\"overrides\":[],\"properties\":[{\"default\":0,\"kind\":null,\"name\":\"open_modal\"},{\"default\":0,\"kind\":null,\"name\":\"close_modal\"}]}],\"roots\":{\"references\":[{\"attributes\":{},\"id\":\"14926\",\"type\":\"BasicTicker\"},{\"attributes\":{\"click_policy\":\"mute\",\"items\":[{\"id\":\"14971\"},{\"id\":\"14993\"},{\"id\":\"15017\"},{\"id\":\"15043\"}],\"location\":[0,0],\"title\":\"predicted_cluster\"},\"id\":\"14970\",\"type\":\"Legend\"},{\"attributes\":{},\"id\":\"14934\",\"type\":\"PanTool\"},{\"attributes\":{},\"id\":\"14921\",\"type\":\"LinearScale\"},{\"attributes\":{\"label\":{\"value\":\"0\"},\"renderers\":[{\"id\":\"14958\"}]},\"id\":\"14971\",\"type\":\"LegendItem\"},{\"attributes\":{\"axis_label\":\"price_change_percentage_24h\",\"formatter\":{\"id\":\"14948\"},\"major_label_policy\":{\"id\":\"14946\"},\"ticker\":{\"id\":\"14926\"}},\"id\":\"14925\",\"type\":\"LinearAxis\"},{\"attributes\":{\"angle\":{\"value\":0.0},\"fill_alpha\":{\"value\":1.0},\"fill_color\":{\"value\":\"#30a2da\"},\"hatch_alpha\":{\"value\":1.0},\"hatch_color\":{\"value\":\"black\"},\"hatch_scale\":{\"value\":12.0},\"hatch_weight\":{\"value\":1.0},\"line_alpha\":{\"value\":1.0},\"line_cap\":{\"value\":\"butt\"},\"line_color\":{\"value\":\"#30a2da\"},\"line_dash\":{\"value\":[]},\"line_dash_offset\":{\"value\":0},\"line_join\":{\"value\":\"bevel\"},\"line_width\":{\"value\":1},\"marker\":{\"value\":\"circle\"},\"size\":{\"value\":5.477225575051661},\"x\":{\"field\":\"price_change_percentage_24h\"},\"y\":{\"field\":\"price_change_percentage_7d\"}},\"id\":\"14972\",\"type\":\"Scatter\"},{\"attributes\":{\"fill_alpha\":{\"value\":0.1},\"fill_color\":{\"value\":\"#fc4f30\"},\"line_alpha\":{\"value\":0.1},\"line_color\":{\"value\":\"#fc4f30\"},\"size\":{\"value\":5.477225575051661},\"x\":{\"field\":\"price_change_percentage_24h\"},\"y\":{\"field\":\"price_change_percentage_7d\"}},\"id\":\"14977\",\"type\":\"Scatter\"},{\"attributes\":{},\"id\":\"14923\",\"type\":\"LinearScale\"},{\"attributes\":{\"end\":2.997678656273595,\"reset_end\":2.997678656273595,\"reset_start\":-2.107454305728652,\"start\":-2.107454305728652,\"tags\":[[[\"price_change_percentage_7d\",\"price_change_percentage_7d\",null]]]},\"id\":\"14911\",\"type\":\"Range1d\"},{\"attributes\":{},\"id\":\"14935\",\"type\":\"WheelZoomTool\"},{\"attributes\":{\"label\":{\"value\":\"1\"},\"renderers\":[{\"id\":\"14979\"}]},\"id\":\"14993\",\"type\":\"LegendItem\"},{\"attributes\":{\"axis\":{\"id\":\"14925\"},\"grid_line_color\":null,\"ticker\":null},\"id\":\"14928\",\"type\":\"Grid\"},{\"attributes\":{\"axis_label\":\"price_change_percentage_7d\",\"formatter\":{\"id\":\"14951\"},\"major_label_policy\":{\"id\":\"14949\"},\"ticker\":{\"id\":\"14930\"}},\"id\":\"14929\",\"type\":\"LinearAxis\"},{\"attributes\":{\"axis\":{\"id\":\"14929\"},\"dimension\":1,\"grid_line_color\":null,\"ticker\":null},\"id\":\"14932\",\"type\":\"Grid\"},{\"attributes\":{},\"id\":\"14930\",\"type\":\"BasicTicker\"},{\"attributes\":{},\"id\":\"14948\",\"type\":\"BasicTickFormatter\"},{\"attributes\":{},\"id\":\"14933\",\"type\":\"SaveTool\"},{\"attributes\":{\"fill_color\":{\"value\":\"#6d904f\"},\"line_color\":{\"value\":\"#6d904f\"},\"size\":{\"value\":5.477225575051661},\"x\":{\"field\":\"price_change_percentage_24h\"},\"y\":{\"field\":\"price_change_percentage_7d\"}},\"id\":\"15022\",\"type\":\"Scatter\"},{\"attributes\":{\"overlay\":{\"id\":\"14938\"}},\"id\":\"14936\",\"type\":\"BoxZoomTool\"},{\"attributes\":{},\"id\":\"14937\",\"type\":\"ResetTool\"},{\"attributes\":{\"angle\":{\"value\":0.0},\"fill_alpha\":{\"value\":1.0},\"fill_color\":{\"value\":\"#e5ae38\"},\"hatch_alpha\":{\"value\":1.0},\"hatch_color\":{\"value\":\"black\"},\"hatch_scale\":{\"value\":12.0},\"hatch_weight\":{\"value\":1.0},\"line_alpha\":{\"value\":1.0},\"line_cap\":{\"value\":\"butt\"},\"line_color\":{\"value\":\"#e5ae38\"},\"line_dash\":{\"value\":[]},\"line_dash_offset\":{\"value\":0},\"line_join\":{\"value\":\"bevel\"},\"line_width\":{\"value\":1},\"marker\":{\"value\":\"circle\"},\"size\":{\"value\":5.477225575051661},\"x\":{\"field\":\"price_change_percentage_24h\"},\"y\":{\"field\":\"price_change_percentage_7d\"}},\"id\":\"15018\",\"type\":\"Scatter\"},{\"attributes\":{\"data_source\":{\"id\":\"15019\"},\"glyph\":{\"id\":\"15022\"},\"hover_glyph\":null,\"muted_glyph\":{\"id\":\"15024\"},\"nonselection_glyph\":{\"id\":\"15023\"},\"selection_glyph\":{\"id\":\"15044\"},\"view\":{\"id\":\"15026\"}},\"id\":\"15025\",\"type\":\"GlyphRenderer\"},{\"attributes\":{\"fill_alpha\":{\"value\":0.2},\"fill_color\":{\"value\":\"#fc4f30\"},\"line_alpha\":{\"value\":0.2},\"line_color\":{\"value\":\"#fc4f30\"},\"size\":{\"value\":5.477225575051661},\"x\":{\"field\":\"price_change_percentage_24h\"},\"y\":{\"field\":\"price_change_percentage_7d\"}},\"id\":\"14978\",\"type\":\"Scatter\"},{\"attributes\":{},\"id\":\"14974\",\"type\":\"Selection\"},{\"attributes\":{\"data\":{\"coin_id\":[\"celsius-degree-token\"],\"predicted_cluster\":[1],\"price_change_percentage_24h\":{\"__ndarray__\":\"VLqXBn668D8=\",\"dtype\":\"float64\",\"order\":\"little\",\"shape\":[1]},\"price_change_percentage_7d\":{\"__ndarray__\":\"Nv03JFjJ478=\",\"dtype\":\"float64\",\"order\":\"little\",\"shape\":[1]}},\"selected\":{\"id\":\"14974\"},\"selection_policy\":{\"id\":\"14991\"}},\"id\":\"14973\",\"type\":\"ColumnDataSource\"},{\"attributes\":{},\"id\":\"14991\",\"type\":\"UnionRenderers\"},{\"attributes\":{\"data_source\":{\"id\":\"14973\"},\"glyph\":{\"id\":\"14976\"},\"hover_glyph\":null,\"muted_glyph\":{\"id\":\"14978\"},\"nonselection_glyph\":{\"id\":\"14977\"},\"selection_glyph\":{\"id\":\"14994\"},\"view\":{\"id\":\"14980\"}},\"id\":\"14979\",\"type\":\"GlyphRenderer\"},{\"attributes\":{\"source\":{\"id\":\"14973\"}},\"id\":\"14980\",\"type\":\"CDSView\"},{\"attributes\":{\"angle\":{\"value\":0.0},\"fill_alpha\":{\"value\":1.0},\"fill_color\":{\"value\":\"#6d904f\"},\"hatch_alpha\":{\"value\":1.0},\"hatch_color\":{\"value\":\"black\"},\"hatch_scale\":{\"value\":12.0},\"hatch_weight\":{\"value\":1.0},\"line_alpha\":{\"value\":1.0},\"line_cap\":{\"value\":\"butt\"},\"line_color\":{\"value\":\"#6d904f\"},\"line_dash\":{\"value\":[]},\"line_dash_offset\":{\"value\":0},\"line_join\":{\"value\":\"bevel\"},\"line_width\":{\"value\":1},\"marker\":{\"value\":\"circle\"},\"size\":{\"value\":5.477225575051661},\"x\":{\"field\":\"price_change_percentage_24h\"},\"y\":{\"field\":\"price_change_percentage_7d\"}},\"id\":\"15044\",\"type\":\"Scatter\"},{\"attributes\":{\"fill_alpha\":{\"value\":0.2},\"fill_color\":{\"value\":\"#6d904f\"},\"line_alpha\":{\"value\":0.2},\"line_color\":{\"value\":\"#6d904f\"},\"size\":{\"value\":5.477225575051661},\"x\":{\"field\":\"price_change_percentage_24h\"},\"y\":{\"field\":\"price_change_percentage_7d\"}},\"id\":\"15024\",\"type\":\"Scatter\"},{\"attributes\":{\"source\":{\"id\":\"15019\"}},\"id\":\"15026\",\"type\":\"CDSView\"},{\"attributes\":{\"bottom_units\":\"screen\",\"fill_alpha\":0.5,\"fill_color\":\"lightgrey\",\"left_units\":\"screen\",\"level\":\"overlay\",\"line_alpha\":1.0,\"line_color\":\"black\",\"line_dash\":[4,4],\"line_width\":2,\"right_units\":\"screen\",\"syncable\":false,\"top_units\":\"screen\"},\"id\":\"14938\",\"type\":\"BoxAnnotation\"},{\"attributes\":{\"end\":2.2155632386560065,\"reset_end\":2.2155632386560065,\"reset_start\":-5.276792781891412,\"start\":-5.276792781891412,\"tags\":[[[\"price_change_percentage_24h\",\"price_change_percentage_24h\",null]]]},\"id\":\"14910\",\"type\":\"Range1d\"},{\"attributes\":{\"fill_alpha\":{\"value\":0.1},\"fill_color\":{\"value\":\"#6d904f\"},\"line_alpha\":{\"value\":0.1},\"line_color\":{\"value\":\"#6d904f\"},\"size\":{\"value\":5.477225575051661},\"x\":{\"field\":\"price_change_percentage_24h\"},\"y\":{\"field\":\"price_change_percentage_7d\"}},\"id\":\"15023\",\"type\":\"Scatter\"},{\"attributes\":{},\"id\":\"15041\",\"type\":\"UnionRenderers\"},{\"attributes\":{\"angle\":{\"value\":0.0},\"fill_alpha\":{\"value\":1.0},\"fill_color\":{\"value\":\"#fc4f30\"},\"hatch_alpha\":{\"value\":1.0},\"hatch_color\":{\"value\":\"black\"},\"hatch_scale\":{\"value\":12.0},\"hatch_weight\":{\"value\":1.0},\"line_alpha\":{\"value\":1.0},\"line_cap\":{\"value\":\"butt\"},\"line_color\":{\"value\":\"#fc4f30\"},\"line_dash\":{\"value\":[]},\"line_dash_offset\":{\"value\":0},\"line_join\":{\"value\":\"bevel\"},\"line_width\":{\"value\":1},\"marker\":{\"value\":\"circle\"},\"size\":{\"value\":5.477225575051661},\"x\":{\"field\":\"price_change_percentage_24h\"},\"y\":{\"field\":\"price_change_percentage_7d\"}},\"id\":\"14994\",\"type\":\"Scatter\"},{\"attributes\":{\"children\":[{\"id\":\"14909\"},{\"id\":\"14916\"},{\"id\":\"15189\"}],\"margin\":[0,0,0,0],\"name\":\"Row30078\",\"tags\":[\"embedded\"]},\"id\":\"14908\",\"type\":\"Row\"},{\"attributes\":{\"fill_color\":{\"value\":\"#e5ae38\"},\"line_color\":{\"value\":\"#e5ae38\"},\"size\":{\"value\":5.477225575051661},\"x\":{\"field\":\"price_change_percentage_24h\"},\"y\":{\"field\":\"price_change_percentage_7d\"}},\"id\":\"14998\",\"type\":\"Scatter\"},{\"attributes\":{},\"id\":\"15020\",\"type\":\"Selection\"},{\"attributes\":{\"margin\":[5,5,5,5],\"name\":\"HSpacer30082\",\"sizing_mode\":\"stretch_width\"},\"id\":\"14909\",\"type\":\"Spacer\"},{\"attributes\":{},\"id\":\"14968\",\"type\":\"UnionRenderers\"},{\"attributes\":{\"active_multi\":null,\"tools\":[{\"id\":\"14912\"},{\"id\":\"14933\"},{\"id\":\"14934\"},{\"id\":\"14935\"},{\"id\":\"14936\"},{\"id\":\"14937\"}]},\"id\":\"14939\",\"type\":\"Toolbar\"},{\"attributes\":{\"data_source\":{\"id\":\"14995\"},\"glyph\":{\"id\":\"14998\"},\"hover_glyph\":null,\"muted_glyph\":{\"id\":\"15000\"},\"nonselection_glyph\":{\"id\":\"14999\"},\"selection_glyph\":{\"id\":\"15018\"},\"view\":{\"id\":\"15002\"}},\"id\":\"15001\",\"type\":\"GlyphRenderer\"},{\"attributes\":{},\"id\":\"14946\",\"type\":\"AllLabels\"},{\"attributes\":{\"fill_alpha\":{\"value\":0.2},\"fill_color\":{\"value\":\"#e5ae38\"},\"line_alpha\":{\"value\":0.2},\"line_color\":{\"value\":\"#e5ae38\"},\"size\":{\"value\":5.477225575051661},\"x\":{\"field\":\"price_change_percentage_24h\"},\"y\":{\"field\":\"price_change_percentage_7d\"}},\"id\":\"15000\",\"type\":\"Scatter\"},{\"attributes\":{\"data\":{\"coin_id\":[\"tether\",\"ripple\",\"bitcoin-cash-sv\",\"crypto-com-chain\",\"usd-coin\",\"eos\",\"tron\",\"okb\",\"stellar\",\"cdai\",\"neo\",\"leo-token\",\"huobi-token\",\"nem\",\"binance-usd\",\"iota\",\"vechain\",\"theta-token\",\"dash\",\"ethereum-classic\",\"havven\",\"omisego\",\"ontology\",\"ftx-token\",\"true-usd\",\"digibyte\"],\"predicted_cluster\":[0,0,0,0,0,0,0,0,0,0,0,0,0,0,0,0,0,0,0,0,0,0,0,0,0,0],\"price_change_percentage_24h\":{\"__ndarray__\":\"mCJF1OlLlj/mJRG3Ed+kv1qZGRifu9w//rJXHrAz1T/yMTqenpahPx9kk3dK7sM/GTRehHalwD90fnl54Irtv9XPDahDw9G/+VOWQSEmxz+kpbukw1bSP6eM4M4OgKo/BcMOj9+jqr/Chq6S5ebLv2h3TIfCZ68/weEQ8QyV0D/KmZTmC7niP1YH9WGFy/m/N7JuVBEB07/EU4GAhEGyv8Ocf0hw2/a/lrPBJY23/j/IKcQzxy3av5WrmDyeito/Bf22eE/6sz9Y362Ir3rzPw==\",\"dtype\":\"float64\",\"order\":\"little\",\"shape\":[26]},\"price_change_percentage_7d\":{\"__ndarray__\":\"bZSIvk+a5r9RujxqH/Ppvw2U7adXaMi/d+r7VGbW+b9EGSx/8nTnv4rfBo4Lhe2/BEBwXEEApb8Udj8VbP/2vySelkVDp9i/7SZvVsyO5r8uu+JVH+LUvziN+gRMte2/o2qlez1D3b/CtPLKIS7rvyYjaswHnea/US6joeTvzz/dRmuCvtDvv/9TV66U6fq/ZWX+mWVCuD8GJ0pHuV/Nv8nIE2ZWH5q/TTxj/me11z+Htdvf1gXtv2Avihmzf9o/e31xtwIC5r/STlu6Y3Ljvw==\",\"dtype\":\"float64\",\"order\":\"little\",\"shape\":[26]}},\"selected\":{\"id\":\"14953\"},\"selection_policy\":{\"id\":\"14968\"}},\"id\":\"14952\",\"type\":\"ColumnDataSource\"},{\"attributes\":{\"source\":{\"id\":\"14995\"}},\"id\":\"15002\",\"type\":\"CDSView\"},{\"attributes\":{},\"id\":\"14953\",\"type\":\"Selection\"},{\"attributes\":{\"data\":{\"coin_id\":[\"bitcoin\",\"ethereum\",\"bitcoin-cash\",\"binancecoin\",\"chainlink\",\"cardano\",\"litecoin\",\"monero\",\"tezos\",\"cosmos\",\"wrapped-bitcoin\",\"zcash\",\"maker\"],\"predicted_cluster\":[2,2,2,2,2,2,2,2,2,2,2,2,2],\"price_change_percentage_24h\":{\"__ndarray__\":\"DdlqYN9F4D86azDosLzHPzALIwCtFvM/9w6McDSK7D/VDHOpb1eHPzMEvaFkP7o/Sds39trWsz9Epj8/c9DQP4xAeNEVZ8O/qq8st/Fh0L8FWWk3mH7gP6wo083aUMC//ACFOIMFwL8=\",\"dtype\":\"float64\",\"order\":\"little\",\"shape\":[13]},\"price_change_percentage_7d\":{\"__ndarray__\":\"U1k8q3mQ3z9yoPpI+ebtPzAB2dP2AQBAgmkOMZk89T8FNulI+JMEQCZRaSLGIPg/84wjaB1l1T8rMp3jf678P2VmURqKqeY/XK6ZksNx/T9DfMqy1o7dPyTPDB1Xu+0/srW7TleV4j8=\",\"dtype\":\"float64\",\"order\":\"little\",\"shape\":[13]}},\"selected\":{\"id\":\"14996\"},\"selection_policy\":{\"id\":\"15015\"}},\"id\":\"14995\",\"type\":\"ColumnDataSource\"},{\"attributes\":{\"label\":{\"value\":\"2\"},\"renderers\":[{\"id\":\"15001\"}]},\"id\":\"15017\",\"type\":\"LegendItem\"},{\"attributes\":{\"callback\":null,\"renderers\":[{\"id\":\"14958\"},{\"id\":\"14979\"},{\"id\":\"15001\"},{\"id\":\"15025\"}],\"tags\":[\"hv_created\"],\"tooltips\":[[\"predicted_cluster\",\"@{predicted_cluster}\"],[\"price_change_percentage_24h\",\"@{price_change_percentage_24h}\"],[\"price_change_percentage_7d\",\"@{price_change_percentage_7d}\"],[\"coin_id\",\"@{coin_id}\"]]},\"id\":\"14912\",\"type\":\"HoverTool\"},{\"attributes\":{},\"id\":\"14951\",\"type\":\"BasicTickFormatter\"},{\"attributes\":{\"fill_alpha\":{\"value\":0.1},\"fill_color\":{\"value\":\"#e5ae38\"},\"line_alpha\":{\"value\":0.1},\"line_color\":{\"value\":\"#e5ae38\"},\"size\":{\"value\":5.477225575051661},\"x\":{\"field\":\"price_change_percentage_24h\"},\"y\":{\"field\":\"price_change_percentage_7d\"}},\"id\":\"14999\",\"type\":\"Scatter\"},{\"attributes\":{\"text_color\":\"black\",\"text_font_size\":\"12pt\"},\"id\":\"14917\",\"type\":\"Title\"},{\"attributes\":{\"fill_color\":{\"value\":\"#fc4f30\"},\"line_color\":{\"value\":\"#fc4f30\"},\"size\":{\"value\":5.477225575051661},\"x\":{\"field\":\"price_change_percentage_24h\"},\"y\":{\"field\":\"price_change_percentage_7d\"}},\"id\":\"14976\",\"type\":\"Scatter\"},{\"attributes\":{\"data_source\":{\"id\":\"14952\"},\"glyph\":{\"id\":\"14955\"},\"hover_glyph\":null,\"muted_glyph\":{\"id\":\"14957\"},\"nonselection_glyph\":{\"id\":\"14956\"},\"selection_glyph\":{\"id\":\"14972\"},\"view\":{\"id\":\"14959\"}},\"id\":\"14958\",\"type\":\"GlyphRenderer\"},{\"attributes\":{\"margin\":[5,5,5,5],\"name\":\"HSpacer30083\",\"sizing_mode\":\"stretch_width\"},\"id\":\"15189\",\"type\":\"Spacer\"},{\"attributes\":{\"label\":{\"value\":\"3\"},\"renderers\":[{\"id\":\"15025\"}]},\"id\":\"15043\",\"type\":\"LegendItem\"},{\"attributes\":{},\"id\":\"14996\",\"type\":\"Selection\"},{\"attributes\":{},\"id\":\"14949\",\"type\":\"AllLabels\"},{\"attributes\":{},\"id\":\"15015\",\"type\":\"UnionRenderers\"},{\"attributes\":{\"below\":[{\"id\":\"14925\"}],\"center\":[{\"id\":\"14928\"},{\"id\":\"14932\"}],\"height\":300,\"left\":[{\"id\":\"14929\"}],\"margin\":[5,5,5,5],\"min_border_bottom\":10,\"min_border_left\":10,\"min_border_right\":10,\"min_border_top\":10,\"renderers\":[{\"id\":\"14958\"},{\"id\":\"14979\"},{\"id\":\"15001\"},{\"id\":\"15025\"}],\"right\":[{\"id\":\"14970\"}],\"sizing_mode\":\"fixed\",\"title\":{\"id\":\"14917\"},\"toolbar\":{\"id\":\"14939\"},\"width\":700,\"x_range\":{\"id\":\"14910\"},\"x_scale\":{\"id\":\"14921\"},\"y_range\":{\"id\":\"14911\"},\"y_scale\":{\"id\":\"14923\"}},\"id\":\"14916\",\"subtype\":\"Figure\",\"type\":\"Plot\"},{\"attributes\":{\"source\":{\"id\":\"14952\"}},\"id\":\"14959\",\"type\":\"CDSView\"},{\"attributes\":{\"data\":{\"coin_id\":[\"ethlend\"],\"predicted_cluster\":[3],\"price_change_percentage_24h\":{\"__ndarray__\":\"3WeHPpbsE8A=\",\"dtype\":\"float64\",\"order\":\"little\",\"shape\":[1]},\"price_change_percentage_7d\":{\"__ndarray__\":\"dIWi2pshp78=\",\"dtype\":\"float64\",\"order\":\"little\",\"shape\":[1]}},\"selected\":{\"id\":\"15020\"},\"selection_policy\":{\"id\":\"15041\"}},\"id\":\"15019\",\"type\":\"ColumnDataSource\"},{\"attributes\":{\"fill_alpha\":{\"value\":0.2},\"fill_color\":{\"value\":\"#30a2da\"},\"line_alpha\":{\"value\":0.2},\"line_color\":{\"value\":\"#30a2da\"},\"size\":{\"value\":5.477225575051661},\"x\":{\"field\":\"price_change_percentage_24h\"},\"y\":{\"field\":\"price_change_percentage_7d\"}},\"id\":\"14957\",\"type\":\"Scatter\"},{\"attributes\":{\"fill_color\":{\"value\":\"#30a2da\"},\"line_color\":{\"value\":\"#30a2da\"},\"size\":{\"value\":5.477225575051661},\"x\":{\"field\":\"price_change_percentage_24h\"},\"y\":{\"field\":\"price_change_percentage_7d\"}},\"id\":\"14955\",\"type\":\"Scatter\"},{\"attributes\":{\"fill_alpha\":{\"value\":0.1},\"fill_color\":{\"value\":\"#30a2da\"},\"line_alpha\":{\"value\":0.1},\"line_color\":{\"value\":\"#30a2da\"},\"size\":{\"value\":5.477225575051661},\"x\":{\"field\":\"price_change_percentage_24h\"},\"y\":{\"field\":\"price_change_percentage_7d\"}},\"id\":\"14956\",\"type\":\"Scatter\"}],\"root_ids\":[\"14908\"]},\"title\":\"Bokeh Application\",\"version\":\"2.3.3\"}};\n",
       "    var render_items = [{\"docid\":\"eb0d4729-5259-4bd2-a475-0e71081bb6f9\",\"root_ids\":[\"14908\"],\"roots\":{\"14908\":\"a0688f90-9f35-4789-a14a-608a1f92ad6d\"}}];\n",
       "    root.Bokeh.embed.embed_items_notebook(docs_json, render_items);\n",
       "  }\n",
       "  if (root.Bokeh !== undefined && root.Bokeh.Panel !== undefined) {\n",
       "    embed_document(root);\n",
       "  } else {\n",
       "    var attempts = 0;\n",
       "    var timer = setInterval(function(root) {\n",
       "      if (root.Bokeh !== undefined && root.Bokeh.Panel !== undefined) {\n",
       "        clearInterval(timer);\n",
       "        embed_document(root);\n",
       "      } else if (document.readyState == \"complete\") {\n",
       "        attempts++;\n",
       "        if (attempts > 200) {\n",
       "          clearInterval(timer);\n",
       "          console.log(\"Bokeh: ERROR: Unable to run BokehJS code because BokehJS library is missing\");\n",
       "        }\n",
       "      }\n",
       "    }, 25, root)\n",
       "  }\n",
       "})(window);</script>"
      ]
     },
     "metadata": {
      "application/vnd.holoviews_exec.v0+json": {
       "id": "14908"
      }
     },
     "execution_count": 390
    }
   ],
   "metadata": {}
  },
  {
   "cell_type": "markdown",
   "source": [
    "---"
   ],
   "metadata": {}
  },
  {
   "cell_type": "markdown",
   "source": [
    "### Optimize Clusters with Principal Component Analysis\n",
    "\n",
    "In this section, you will perform a principal component analysis (PCA) and reduce the features to three principal components.\n",
    "\n",
    "1. Create a PCA model instance and set `n_components=3`.\n",
    "\n",
    "2. Use the PCA model to reduce to three principal components. View the first five rows of the DataFrame. \n",
    "\n",
    "3. Retrieve the explained variance to determine how much information can be attributed to each principal component.\n",
    "\n",
    "4. Answer the following question: What is the total explained variance of the three principal components?\n",
    "\n",
    "5. Create a new DataFrame with the PCA data. Be sure to set the `coin_id` index from the original DataFrame as the index for the new DataFrame. Review the resulting DataFrame."
   ],
   "metadata": {}
  },
  {
   "cell_type": "code",
   "execution_count": 391,
   "source": [
    "# Create a PCA model instance and set `n_components=3`.\r\n",
    "n_compon = 3\r\n",
    "pca = PCA(n_components = n_compon)\r\n"
   ],
   "outputs": [],
   "metadata": {}
  },
  {
   "cell_type": "code",
   "execution_count": 392,
   "source": [
    "# Use the PCA model with `fit_transform` to reduce to \r\n",
    "# three principal components.\r\n",
    "prin_comp = pca.fit_transform(df_market_data_scaled)\r\n",
    "\r\n",
    "# View the first five rows of the DataFrame. \r\n",
    "prin_comp[0 : 5]"
   ],
   "outputs": [
    {
     "output_type": "execute_result",
     "data": {
      "text/plain": [
       "array([[ 0.44890795, -1.24537573, -0.8506404 ],\n",
       "       [ 0.49536709, -0.899823  , -1.31755943],\n",
       "       [-0.81884571,  0.07189909,  0.69501507],\n",
       "       [-0.84035711,  0.08005407,  0.54435952],\n",
       "       [ 0.81324004, -2.66952035, -1.64332113]])"
      ]
     },
     "metadata": {},
     "execution_count": 392
    }
   ],
   "metadata": {}
  },
  {
   "cell_type": "code",
   "execution_count": 393,
   "source": [
    "# Retrieve the explained variance to determine how much information \r\n",
    "# can be attributed to each principal component.\r\n",
    "pca.explained_variance_ratio_"
   ],
   "outputs": [
    {
     "output_type": "execute_result",
     "data": {
      "text/plain": [
       "array([0.34871677, 0.31363391, 0.22627118])"
      ]
     },
     "metadata": {},
     "execution_count": 393
    }
   ],
   "metadata": {}
  },
  {
   "cell_type": "markdown",
   "source": [
    "#### Answer the following question: What is the total explained variance of the three principal components?\r\n",
    "\r\n",
    "**Question:** What is the total explained variance of the three principal components?\r\n",
    "\r\n",
    "**Answer:** The total explained variance is 0.88862186"
   ],
   "metadata": {}
  },
  {
   "cell_type": "code",
   "execution_count": 394,
   "source": [
    "# Create a new DataFrame with the PCA data.\r\n",
    "# Note: The code for this step is provided for you --- WHERE?\r\n",
    "\r\n",
    "# Creating a DataFrame with the PCA data\r\n",
    "df_crypto_pca = pd.DataFrame(\r\n",
    "    prin_comp,\r\n",
    "    columns = ['PCA1', 'PCA2', 'PCA3']\r\n",
    ")\r\n",
    "\r\n",
    "# Copy the crypto names from the original data\r\n",
    "crypto_names =list(df_market_data_scaled.index)\r\n",
    "\r\n",
    "# Set the coinid column as index\r\n",
    "df_crypto_pca.index = crypto_names\r\n",
    "\r\n",
    "# Display sample data\r\n",
    "df_crypto_pca"
   ],
   "outputs": [
    {
     "output_type": "execute_result",
     "data": {
      "text/plain": [
       "                          PCA1      PCA2      PCA3\n",
       "bitcoin               0.448908 -1.245376 -0.850640\n",
       "ethereum              0.495367 -0.899823 -1.317559\n",
       "tether               -0.818846  0.071899  0.695015\n",
       "ripple               -0.840357  0.080054  0.544360\n",
       "bitcoin-cash          0.813240 -2.669520 -1.643321\n",
       "binancecoin           0.822871 -1.682096 -0.905203\n",
       "chainlink             0.913868 -1.128684 -2.730038\n",
       "cardano               0.811102 -1.113378 -1.598655\n",
       "litecoin              0.258728 -0.946884 -1.103560\n",
       "bitcoin-cash-sv      -1.003921 -0.119410  0.278564\n",
       "crypto-com-chain     -1.363289  1.245349  0.950712\n",
       "usd-coin             -0.830643  0.077047  0.707661\n",
       "eos                  -1.135458  0.171401  0.441569\n",
       "monero                2.084978 -2.688979 -0.776469\n",
       "tron                 -0.633198 -0.016911  0.249426\n",
       "tezos                -0.161908 -0.310904 -1.818521\n",
       "okb                  -0.996987  1.292574  0.793701\n",
       "stellar              -0.990512  0.449877  0.052002\n",
       "cosmos                0.878129 -1.093136 -1.774115\n",
       "cdai                 -0.874815  0.008933  0.694993\n",
       "neo                  -1.135199  0.792113  0.499484\n",
       "wrapped-bitcoin       0.434801 -1.232506 -0.839794\n",
       "leo-token            -1.110348  0.540593  0.854934\n",
       "huobi-token          -0.758629  0.094085  0.466658\n",
       "nem                   0.222636  0.083977  1.584956\n",
       "binance-usd          -0.826142  0.049070  0.700753\n",
       "iota                 -1.059844  0.097044 -0.149781\n",
       "vechain              -1.808829  1.520236  0.527335\n",
       "zcash                 0.558082 -0.920479 -1.377145\n",
       "theta-token           1.452903  1.756424  2.506866\n",
       "dash                 -0.897830  0.134758 -0.197015\n",
       "ethereum-classic     -0.908899  0.095612  0.194364\n",
       "ethlend               6.049082  7.033268 -2.235723\n",
       "maker                 0.307206 -0.565760 -0.968488\n",
       "havven               -0.507111  2.407910 -0.392697\n",
       "omisego              -0.236488 -0.071399  1.445063\n",
       "celsius-degree-token  6.454065 -2.823519  4.810646\n",
       "ontology             -1.823588  1.561754  0.000663\n",
       "ftx-token            -0.689158 -0.253900  0.073233\n",
       "true-usd             -0.823298  0.031016  0.694746\n",
       "digibyte             -0.770668  0.187671  0.911020"
      ],
      "text/html": [
       "<div>\n",
       "<style scoped>\n",
       "    .dataframe tbody tr th:only-of-type {\n",
       "        vertical-align: middle;\n",
       "    }\n",
       "\n",
       "    .dataframe tbody tr th {\n",
       "        vertical-align: top;\n",
       "    }\n",
       "\n",
       "    .dataframe thead th {\n",
       "        text-align: right;\n",
       "    }\n",
       "</style>\n",
       "<table border=\"1\" class=\"dataframe\">\n",
       "  <thead>\n",
       "    <tr style=\"text-align: right;\">\n",
       "      <th></th>\n",
       "      <th>PCA1</th>\n",
       "      <th>PCA2</th>\n",
       "      <th>PCA3</th>\n",
       "    </tr>\n",
       "  </thead>\n",
       "  <tbody>\n",
       "    <tr>\n",
       "      <th>bitcoin</th>\n",
       "      <td>0.448908</td>\n",
       "      <td>-1.245376</td>\n",
       "      <td>-0.850640</td>\n",
       "    </tr>\n",
       "    <tr>\n",
       "      <th>ethereum</th>\n",
       "      <td>0.495367</td>\n",
       "      <td>-0.899823</td>\n",
       "      <td>-1.317559</td>\n",
       "    </tr>\n",
       "    <tr>\n",
       "      <th>tether</th>\n",
       "      <td>-0.818846</td>\n",
       "      <td>0.071899</td>\n",
       "      <td>0.695015</td>\n",
       "    </tr>\n",
       "    <tr>\n",
       "      <th>ripple</th>\n",
       "      <td>-0.840357</td>\n",
       "      <td>0.080054</td>\n",
       "      <td>0.544360</td>\n",
       "    </tr>\n",
       "    <tr>\n",
       "      <th>bitcoin-cash</th>\n",
       "      <td>0.813240</td>\n",
       "      <td>-2.669520</td>\n",
       "      <td>-1.643321</td>\n",
       "    </tr>\n",
       "    <tr>\n",
       "      <th>binancecoin</th>\n",
       "      <td>0.822871</td>\n",
       "      <td>-1.682096</td>\n",
       "      <td>-0.905203</td>\n",
       "    </tr>\n",
       "    <tr>\n",
       "      <th>chainlink</th>\n",
       "      <td>0.913868</td>\n",
       "      <td>-1.128684</td>\n",
       "      <td>-2.730038</td>\n",
       "    </tr>\n",
       "    <tr>\n",
       "      <th>cardano</th>\n",
       "      <td>0.811102</td>\n",
       "      <td>-1.113378</td>\n",
       "      <td>-1.598655</td>\n",
       "    </tr>\n",
       "    <tr>\n",
       "      <th>litecoin</th>\n",
       "      <td>0.258728</td>\n",
       "      <td>-0.946884</td>\n",
       "      <td>-1.103560</td>\n",
       "    </tr>\n",
       "    <tr>\n",
       "      <th>bitcoin-cash-sv</th>\n",
       "      <td>-1.003921</td>\n",
       "      <td>-0.119410</td>\n",
       "      <td>0.278564</td>\n",
       "    </tr>\n",
       "    <tr>\n",
       "      <th>crypto-com-chain</th>\n",
       "      <td>-1.363289</td>\n",
       "      <td>1.245349</td>\n",
       "      <td>0.950712</td>\n",
       "    </tr>\n",
       "    <tr>\n",
       "      <th>usd-coin</th>\n",
       "      <td>-0.830643</td>\n",
       "      <td>0.077047</td>\n",
       "      <td>0.707661</td>\n",
       "    </tr>\n",
       "    <tr>\n",
       "      <th>eos</th>\n",
       "      <td>-1.135458</td>\n",
       "      <td>0.171401</td>\n",
       "      <td>0.441569</td>\n",
       "    </tr>\n",
       "    <tr>\n",
       "      <th>monero</th>\n",
       "      <td>2.084978</td>\n",
       "      <td>-2.688979</td>\n",
       "      <td>-0.776469</td>\n",
       "    </tr>\n",
       "    <tr>\n",
       "      <th>tron</th>\n",
       "      <td>-0.633198</td>\n",
       "      <td>-0.016911</td>\n",
       "      <td>0.249426</td>\n",
       "    </tr>\n",
       "    <tr>\n",
       "      <th>tezos</th>\n",
       "      <td>-0.161908</td>\n",
       "      <td>-0.310904</td>\n",
       "      <td>-1.818521</td>\n",
       "    </tr>\n",
       "    <tr>\n",
       "      <th>okb</th>\n",
       "      <td>-0.996987</td>\n",
       "      <td>1.292574</td>\n",
       "      <td>0.793701</td>\n",
       "    </tr>\n",
       "    <tr>\n",
       "      <th>stellar</th>\n",
       "      <td>-0.990512</td>\n",
       "      <td>0.449877</td>\n",
       "      <td>0.052002</td>\n",
       "    </tr>\n",
       "    <tr>\n",
       "      <th>cosmos</th>\n",
       "      <td>0.878129</td>\n",
       "      <td>-1.093136</td>\n",
       "      <td>-1.774115</td>\n",
       "    </tr>\n",
       "    <tr>\n",
       "      <th>cdai</th>\n",
       "      <td>-0.874815</td>\n",
       "      <td>0.008933</td>\n",
       "      <td>0.694993</td>\n",
       "    </tr>\n",
       "    <tr>\n",
       "      <th>neo</th>\n",
       "      <td>-1.135199</td>\n",
       "      <td>0.792113</td>\n",
       "      <td>0.499484</td>\n",
       "    </tr>\n",
       "    <tr>\n",
       "      <th>wrapped-bitcoin</th>\n",
       "      <td>0.434801</td>\n",
       "      <td>-1.232506</td>\n",
       "      <td>-0.839794</td>\n",
       "    </tr>\n",
       "    <tr>\n",
       "      <th>leo-token</th>\n",
       "      <td>-1.110348</td>\n",
       "      <td>0.540593</td>\n",
       "      <td>0.854934</td>\n",
       "    </tr>\n",
       "    <tr>\n",
       "      <th>huobi-token</th>\n",
       "      <td>-0.758629</td>\n",
       "      <td>0.094085</td>\n",
       "      <td>0.466658</td>\n",
       "    </tr>\n",
       "    <tr>\n",
       "      <th>nem</th>\n",
       "      <td>0.222636</td>\n",
       "      <td>0.083977</td>\n",
       "      <td>1.584956</td>\n",
       "    </tr>\n",
       "    <tr>\n",
       "      <th>binance-usd</th>\n",
       "      <td>-0.826142</td>\n",
       "      <td>0.049070</td>\n",
       "      <td>0.700753</td>\n",
       "    </tr>\n",
       "    <tr>\n",
       "      <th>iota</th>\n",
       "      <td>-1.059844</td>\n",
       "      <td>0.097044</td>\n",
       "      <td>-0.149781</td>\n",
       "    </tr>\n",
       "    <tr>\n",
       "      <th>vechain</th>\n",
       "      <td>-1.808829</td>\n",
       "      <td>1.520236</td>\n",
       "      <td>0.527335</td>\n",
       "    </tr>\n",
       "    <tr>\n",
       "      <th>zcash</th>\n",
       "      <td>0.558082</td>\n",
       "      <td>-0.920479</td>\n",
       "      <td>-1.377145</td>\n",
       "    </tr>\n",
       "    <tr>\n",
       "      <th>theta-token</th>\n",
       "      <td>1.452903</td>\n",
       "      <td>1.756424</td>\n",
       "      <td>2.506866</td>\n",
       "    </tr>\n",
       "    <tr>\n",
       "      <th>dash</th>\n",
       "      <td>-0.897830</td>\n",
       "      <td>0.134758</td>\n",
       "      <td>-0.197015</td>\n",
       "    </tr>\n",
       "    <tr>\n",
       "      <th>ethereum-classic</th>\n",
       "      <td>-0.908899</td>\n",
       "      <td>0.095612</td>\n",
       "      <td>0.194364</td>\n",
       "    </tr>\n",
       "    <tr>\n",
       "      <th>ethlend</th>\n",
       "      <td>6.049082</td>\n",
       "      <td>7.033268</td>\n",
       "      <td>-2.235723</td>\n",
       "    </tr>\n",
       "    <tr>\n",
       "      <th>maker</th>\n",
       "      <td>0.307206</td>\n",
       "      <td>-0.565760</td>\n",
       "      <td>-0.968488</td>\n",
       "    </tr>\n",
       "    <tr>\n",
       "      <th>havven</th>\n",
       "      <td>-0.507111</td>\n",
       "      <td>2.407910</td>\n",
       "      <td>-0.392697</td>\n",
       "    </tr>\n",
       "    <tr>\n",
       "      <th>omisego</th>\n",
       "      <td>-0.236488</td>\n",
       "      <td>-0.071399</td>\n",
       "      <td>1.445063</td>\n",
       "    </tr>\n",
       "    <tr>\n",
       "      <th>celsius-degree-token</th>\n",
       "      <td>6.454065</td>\n",
       "      <td>-2.823519</td>\n",
       "      <td>4.810646</td>\n",
       "    </tr>\n",
       "    <tr>\n",
       "      <th>ontology</th>\n",
       "      <td>-1.823588</td>\n",
       "      <td>1.561754</td>\n",
       "      <td>0.000663</td>\n",
       "    </tr>\n",
       "    <tr>\n",
       "      <th>ftx-token</th>\n",
       "      <td>-0.689158</td>\n",
       "      <td>-0.253900</td>\n",
       "      <td>0.073233</td>\n",
       "    </tr>\n",
       "    <tr>\n",
       "      <th>true-usd</th>\n",
       "      <td>-0.823298</td>\n",
       "      <td>0.031016</td>\n",
       "      <td>0.694746</td>\n",
       "    </tr>\n",
       "    <tr>\n",
       "      <th>digibyte</th>\n",
       "      <td>-0.770668</td>\n",
       "      <td>0.187671</td>\n",
       "      <td>0.911020</td>\n",
       "    </tr>\n",
       "  </tbody>\n",
       "</table>\n",
       "</div>"
      ]
     },
     "metadata": {},
     "execution_count": 394
    }
   ],
   "metadata": {}
  },
  {
   "cell_type": "markdown",
   "source": [
    "---"
   ],
   "metadata": {}
  },
  {
   "cell_type": "markdown",
   "source": [
    "### Find the Best Value for k Using the PCA Data\n",
    "\n",
    "In this section, you will use the elbow method to find the best value for `k` using the PCA data.\n",
    "\n",
    "1. Code the elbow method algorithm and use the PCA data to find the best value for `k`. Use a range from 1 to 11. \n",
    "\n",
    "2. Plot a line chart with all the inertia values computed with the different values of `k` to visually identify the optimal value for `k`.\n",
    "\n",
    "3. Answer the following questions: What is the best value for k when using the PCA data? Does it differ from the best k value found using the original data?"
   ],
   "metadata": {}
  },
  {
   "cell_type": "code",
   "execution_count": 395,
   "source": [
    "# Create a list with the number of k-values to try\r\n",
    "# Use a range from 1 to 11\r\n",
    "k_list = list(range(1, 12))"
   ],
   "outputs": [],
   "metadata": {}
  },
  {
   "cell_type": "code",
   "execution_count": 396,
   "source": [
    "# Create an empy list to store the inertia values\r\n",
    "inertia_values = []"
   ],
   "outputs": [],
   "metadata": {}
  },
  {
   "cell_type": "code",
   "execution_count": 397,
   "source": [
    "# Create a for loop to compute the inertia with each possible value of k\r\n",
    "# Inside the loop:\r\n",
    "# 1. Create a KMeans model using the loop counter for the n_clusters\r\n",
    "# 2. Fit the model to the data using `df_market_data_pca`\r\n",
    "# 3. Append the model.inertia_ to the inertia list\r\n",
    "for i in k_list:\r\n",
    "    model = KMeans(n_clusters = i)\r\n",
    "    model.fit(df_crypto_pca)\r\n",
    "    inertia_values.append(model.inertia_)\r\n"
   ],
   "outputs": [
    {
     "output_type": "stream",
     "name": "stderr",
     "text": [
      "C:\\Users\\jcarb\\.conda\\envs\\dev\\lib\\site-packages\\sklearn\\cluster\\_kmeans.py:881: UserWarning: KMeans is known to have a memory leak on Windows with MKL, when there are less chunks than available threads. You can avoid it by setting the environment variable OMP_NUM_THREADS=1.\n",
      "  warnings.warn(\n"
     ]
    }
   ],
   "metadata": {}
  },
  {
   "cell_type": "code",
   "execution_count": 398,
   "source": [
    "# Create a dictionary with the data to plot the Elbow curve\r\n",
    "elbow_data = {\"k\": k_list, \"inertia\": inertia_values}\r\n",
    "\r\n",
    "# Create a DataFrame with the data to plot the Elbow curve\r\n",
    "df_elbow_curve = pd.DataFrame(elbow_data)"
   ],
   "outputs": [],
   "metadata": {}
  },
  {
   "cell_type": "code",
   "execution_count": 399,
   "source": [
    "# Plot a line chart with all the inertia values computed with \r\n",
    "# the different values of k to visually identify the optimal value for k.\r\n",
    "plot_elbow_1 = df_elbow_curve.hvplot.line(x = \"k\", y = \"inertia\", xticks = k_list, title = \"Elbow Curve PCA Data\")\r\n",
    "plot_elbow_1"
   ],
   "outputs": [
    {
     "output_type": "display_data",
     "data": {},
     "metadata": {}
    },
    {
     "output_type": "execute_result",
     "data": {
      "application/vnd.holoviews_exec.v0+json": "",
      "text/plain": [
       ":Curve   [k]   (inertia)"
      ],
      "text/html": [
       "<div id='15271'>\n",
       "\n",
       "\n",
       "\n",
       "\n",
       "\n",
       "  <div class=\"bk-root\" id=\"53b1cf53-0e90-4a04-9e7f-bf5c3145cbeb\" data-root-id=\"15271\"></div>\n",
       "</div>\n",
       "<script type=\"application/javascript\">(function(root) {\n",
       "  function embed_document(root) {\n",
       "    var docs_json = {\"07e54be8-3e6b-40a7-ac6d-3642ceae661d\":{\"defs\":[{\"extends\":null,\"module\":null,\"name\":\"ReactiveHTML1\",\"overrides\":[],\"properties\":[]},{\"extends\":null,\"module\":null,\"name\":\"FlexBox1\",\"overrides\":[],\"properties\":[{\"default\":\"flex-start\",\"kind\":null,\"name\":\"align_content\"},{\"default\":\"flex-start\",\"kind\":null,\"name\":\"align_items\"},{\"default\":\"row\",\"kind\":null,\"name\":\"flex_direction\"},{\"default\":\"wrap\",\"kind\":null,\"name\":\"flex_wrap\"},{\"default\":\"flex-start\",\"kind\":null,\"name\":\"justify_content\"}]},{\"extends\":null,\"module\":null,\"name\":\"TemplateActions1\",\"overrides\":[],\"properties\":[{\"default\":0,\"kind\":null,\"name\":\"open_modal\"},{\"default\":0,\"kind\":null,\"name\":\"close_modal\"}]},{\"extends\":null,\"module\":null,\"name\":\"MaterialTemplateActions1\",\"overrides\":[],\"properties\":[{\"default\":0,\"kind\":null,\"name\":\"open_modal\"},{\"default\":0,\"kind\":null,\"name\":\"close_modal\"}]}],\"roots\":{\"references\":[{\"attributes\":{},\"id\":\"15281\",\"type\":\"LinearScale\"},{\"attributes\":{\"line_alpha\":0.1,\"line_color\":\"#30a2da\",\"line_width\":2,\"x\":{\"field\":\"k\"},\"y\":{\"field\":\"inertia\"}},\"id\":\"15310\",\"type\":\"Line\"},{\"attributes\":{\"line_alpha\":0.2,\"line_color\":\"#30a2da\",\"line_width\":2,\"x\":{\"field\":\"k\"},\"y\":{\"field\":\"inertia\"}},\"id\":\"15311\",\"type\":\"Line\"},{\"attributes\":{\"source\":{\"id\":\"15306\"}},\"id\":\"15313\",\"type\":\"CDSView\"},{\"attributes\":{\"axis\":{\"id\":\"15285\"},\"grid_line_color\":null,\"ticker\":null},\"id\":\"15288\",\"type\":\"Grid\"},{\"attributes\":{\"line_color\":\"#30a2da\",\"line_width\":2,\"x\":{\"field\":\"k\"},\"y\":{\"field\":\"inertia\"}},\"id\":\"15314\",\"type\":\"Line\"},{\"attributes\":{\"callback\":null,\"renderers\":[{\"id\":\"15312\"}],\"tags\":[\"hv_created\"],\"tooltips\":[[\"k\",\"@{k}\"],[\"inertia\",\"@{inertia}\"]]},\"id\":\"15275\",\"type\":\"HoverTool\"},{\"attributes\":{\"bottom_units\":\"screen\",\"fill_alpha\":0.5,\"fill_color\":\"lightgrey\",\"left_units\":\"screen\",\"level\":\"overlay\",\"line_alpha\":1.0,\"line_color\":\"black\",\"line_dash\":[4,4],\"line_width\":2,\"right_units\":\"screen\",\"syncable\":false,\"top_units\":\"screen\"},\"id\":\"15298\",\"type\":\"BoxAnnotation\"},{\"attributes\":{\"text\":\"Elbow Curve PCA Data\",\"text_color\":\"black\",\"text_font_size\":\"12pt\"},\"id\":\"15277\",\"type\":\"Title\"},{\"attributes\":{\"end\":11.0,\"reset_end\":11.0,\"reset_start\":1.0,\"start\":1.0,\"tags\":[[[\"k\",\"k\",null]]]},\"id\":\"15273\",\"type\":\"Range1d\"},{\"attributes\":{},\"id\":\"15318\",\"type\":\"BasicTickFormatter\"},{\"attributes\":{\"end\":318.8673949991566,\"reset_end\":318.8673949991566,\"reset_start\":-20.069017135151697,\"start\":-20.069017135151697,\"tags\":[[[\"inertia\",\"inertia\",null]]]},\"id\":\"15274\",\"type\":\"Range1d\"},{\"attributes\":{\"data\":{\"inertia\":{\"__ndarray__\":\"jpv4jfYpckAC5GcTRKloQFW5Pcy1NlxA+ywbk7cQRkBTyEKWzX5AQDu3eDHtXzdAnmxHUU4rMUBFzMvnhVIrQMOSxdlkhyZAl/VMtQUrIkDvDqw881kgQA==\",\"dtype\":\"float64\",\"order\":\"little\",\"shape\":[11]},\"k\":[1,2,3,4,5,6,7,8,9,10,11]},\"selected\":{\"id\":\"15307\"},\"selection_policy\":{\"id\":\"15331\"}},\"id\":\"15306\",\"type\":\"ColumnDataSource\"},{\"attributes\":{},\"id\":\"15316\",\"type\":\"AllLabels\"},{\"attributes\":{\"ticks\":[1,2,3,4,5,6,7,8,9,10,11]},\"id\":\"15315\",\"type\":\"FixedTicker\"},{\"attributes\":{},\"id\":\"15321\",\"type\":\"AllLabels\"},{\"attributes\":{\"axis\":{\"id\":\"15289\"},\"dimension\":1,\"grid_line_color\":null,\"ticker\":null},\"id\":\"15292\",\"type\":\"Grid\"},{\"attributes\":{\"children\":[{\"id\":\"15272\"},{\"id\":\"15276\"},{\"id\":\"15342\"}],\"margin\":[0,0,0,0],\"name\":\"Row30795\",\"tags\":[\"embedded\"]},\"id\":\"15271\",\"type\":\"Row\"},{\"attributes\":{},\"id\":\"15323\",\"type\":\"BasicTickFormatter\"},{\"attributes\":{\"below\":[{\"id\":\"15285\"}],\"center\":[{\"id\":\"15288\"},{\"id\":\"15292\"}],\"height\":300,\"left\":[{\"id\":\"15289\"}],\"margin\":[5,5,5,5],\"min_border_bottom\":10,\"min_border_left\":10,\"min_border_right\":10,\"min_border_top\":10,\"renderers\":[{\"id\":\"15312\"}],\"sizing_mode\":\"fixed\",\"title\":{\"id\":\"15277\"},\"toolbar\":{\"id\":\"15299\"},\"width\":700,\"x_range\":{\"id\":\"15273\"},\"x_scale\":{\"id\":\"15281\"},\"y_range\":{\"id\":\"15274\"},\"y_scale\":{\"id\":\"15283\"}},\"id\":\"15276\",\"subtype\":\"Figure\",\"type\":\"Plot\"},{\"attributes\":{},\"id\":\"15294\",\"type\":\"PanTool\"},{\"attributes\":{},\"id\":\"15283\",\"type\":\"LinearScale\"},{\"attributes\":{\"axis_label\":\"k\",\"formatter\":{\"id\":\"15318\"},\"major_label_policy\":{\"id\":\"15316\"},\"ticker\":{\"id\":\"15315\"}},\"id\":\"15285\",\"type\":\"LinearAxis\"},{\"attributes\":{\"axis_label\":\"inertia\",\"formatter\":{\"id\":\"15323\"},\"major_label_policy\":{\"id\":\"15321\"},\"ticker\":{\"id\":\"15290\"}},\"id\":\"15289\",\"type\":\"LinearAxis\"},{\"attributes\":{\"margin\":[5,5,5,5],\"name\":\"HSpacer30800\",\"sizing_mode\":\"stretch_width\"},\"id\":\"15342\",\"type\":\"Spacer\"},{\"attributes\":{\"active_multi\":null,\"tools\":[{\"id\":\"15275\"},{\"id\":\"15293\"},{\"id\":\"15294\"},{\"id\":\"15295\"},{\"id\":\"15296\"},{\"id\":\"15297\"}]},\"id\":\"15299\",\"type\":\"Toolbar\"},{\"attributes\":{},\"id\":\"15290\",\"type\":\"BasicTicker\"},{\"attributes\":{},\"id\":\"15295\",\"type\":\"WheelZoomTool\"},{\"attributes\":{},\"id\":\"15293\",\"type\":\"SaveTool\"},{\"attributes\":{\"margin\":[5,5,5,5],\"name\":\"HSpacer30799\",\"sizing_mode\":\"stretch_width\"},\"id\":\"15272\",\"type\":\"Spacer\"},{\"attributes\":{\"overlay\":{\"id\":\"15298\"}},\"id\":\"15296\",\"type\":\"BoxZoomTool\"},{\"attributes\":{},\"id\":\"15297\",\"type\":\"ResetTool\"},{\"attributes\":{\"data_source\":{\"id\":\"15306\"},\"glyph\":{\"id\":\"15309\"},\"hover_glyph\":null,\"muted_glyph\":{\"id\":\"15311\"},\"nonselection_glyph\":{\"id\":\"15310\"},\"selection_glyph\":{\"id\":\"15314\"},\"view\":{\"id\":\"15313\"}},\"id\":\"15312\",\"type\":\"GlyphRenderer\"},{\"attributes\":{\"line_color\":\"#30a2da\",\"line_width\":2,\"x\":{\"field\":\"k\"},\"y\":{\"field\":\"inertia\"}},\"id\":\"15309\",\"type\":\"Line\"},{\"attributes\":{},\"id\":\"15331\",\"type\":\"UnionRenderers\"},{\"attributes\":{},\"id\":\"15307\",\"type\":\"Selection\"}],\"root_ids\":[\"15271\"]},\"title\":\"Bokeh Application\",\"version\":\"2.3.3\"}};\n",
       "    var render_items = [{\"docid\":\"07e54be8-3e6b-40a7-ac6d-3642ceae661d\",\"root_ids\":[\"15271\"],\"roots\":{\"15271\":\"53b1cf53-0e90-4a04-9e7f-bf5c3145cbeb\"}}];\n",
       "    root.Bokeh.embed.embed_items_notebook(docs_json, render_items);\n",
       "  }\n",
       "  if (root.Bokeh !== undefined && root.Bokeh.Panel !== undefined) {\n",
       "    embed_document(root);\n",
       "  } else {\n",
       "    var attempts = 0;\n",
       "    var timer = setInterval(function(root) {\n",
       "      if (root.Bokeh !== undefined && root.Bokeh.Panel !== undefined) {\n",
       "        clearInterval(timer);\n",
       "        embed_document(root);\n",
       "      } else if (document.readyState == \"complete\") {\n",
       "        attempts++;\n",
       "        if (attempts > 200) {\n",
       "          clearInterval(timer);\n",
       "          console.log(\"Bokeh: ERROR: Unable to run BokehJS code because BokehJS library is missing\");\n",
       "        }\n",
       "      }\n",
       "    }, 25, root)\n",
       "  }\n",
       "})(window);</script>"
      ]
     },
     "metadata": {
      "application/vnd.holoviews_exec.v0+json": {
       "id": "15271"
      }
     },
     "execution_count": 399
    }
   ],
   "metadata": {}
  },
  {
   "cell_type": "markdown",
   "source": [
    "#### Answer the following questions: What is the best value for k when using the PCA data? Does it differ from the best k value found using the original data?\r\n",
    "* **Question:** What is the best value for `k` when using the PCA data?\r\n",
    "\r\n",
    "  * **Answer:** The best value for K when using the PCA data is still 4.\r\n",
    "\r\n",
    "\r\n",
    "* **Question:** Does it differ from the best k value found using the original data?\r\n",
    "\r\n",
    "  * **Answer:** It does not differ from the best k value found using the original data."
   ],
   "metadata": {}
  },
  {
   "cell_type": "markdown",
   "source": [
    "---"
   ],
   "metadata": {}
  },
  {
   "cell_type": "markdown",
   "source": [
    "### Cluster Cryptocurrencies with K-means Using the PCA Data\n",
    "\n",
    "In this section, you will use the PCA data and the K-Means algorithm with the best value for `k` found in the previous section to cluster the cryptocurrencies according to the principal components.\n",
    "\n",
    "1. Initialize the K-Means model with four clusters using the best value for `k`. \n",
    "\n",
    "2. Fit the K-Means model using the PCA data.\n",
    "\n",
    "3. Predict the clusters to group the cryptocurrencies using the PCA data. View the resulting array of cluster values.\n",
    "\n",
    "4. Add a new column to the DataFrame with the PCA data to store the predicted clusters.\n",
    "\n",
    "5. Create a scatter plot using hvPlot by setting `x=\"price_change_percentage_24h\"` and `y=\"price_change_percentage_7d\"`. Color the graph points with the labels found using K-Means and add the crypto name in the `hover_cols` parameter to identify the cryptocurrency represented by each data point."
   ],
   "metadata": {}
  },
  {
   "cell_type": "code",
   "execution_count": 400,
   "source": [
    "# Initialize the K-Means model using the best value for k\r\n",
    "model_pca = KMeans(n_clusters=2, random_state=2)"
   ],
   "outputs": [],
   "metadata": {}
  },
  {
   "cell_type": "code",
   "execution_count": 401,
   "source": [
    "# Fit the K-Means model using the PCA data\r\n",
    "model_pca.fit(df_crypto_pca)"
   ],
   "outputs": [
    {
     "output_type": "execute_result",
     "data": {
      "text/plain": [
       "KMeans(n_clusters=2, random_state=2)"
      ]
     },
     "metadata": {},
     "execution_count": 401
    }
   ],
   "metadata": {}
  },
  {
   "cell_type": "code",
   "execution_count": 402,
   "source": [
    "# Predict the clusters to group the cryptocurrencies using the PCA data\r\n",
    "k_prediction = model.predict(df_crypto_pca)\r\n",
    "\r\n",
    "# View the resulting array of cluster values.\r\n",
    "k_prediction"
   ],
   "outputs": [
    {
     "output_type": "execute_result",
     "data": {
      "text/plain": [
       "array([ 8,  8,  0,  0,  7,  2, 10, 10,  8,  0,  6,  0,  0,  7,  0,  8,  6,\n",
       "        0, 10,  0,  0,  8,  0,  0,  9,  0,  0,  6,  8,  4,  0,  0,  1,  8,\n",
       "        5,  9,  3,  6,  0,  0,  0])"
      ]
     },
     "metadata": {},
     "execution_count": 402
    }
   ],
   "metadata": {}
  },
  {
   "cell_type": "code",
   "execution_count": 403,
   "source": [
    "# Add a new column to the DataFrame with the predicted clusters\r\n",
    "df_crypto_pca[\"coin_id\"] = k_prediction\r\n",
    "\r\n",
    "# Display sample data\r\n",
    "df_crypto_pca[\"coin_id\"]"
   ],
   "outputs": [
    {
     "output_type": "execute_result",
     "data": {
      "text/plain": [
       "bitcoin                  8\n",
       "ethereum                 8\n",
       "tether                   0\n",
       "ripple                   0\n",
       "bitcoin-cash             7\n",
       "binancecoin              2\n",
       "chainlink               10\n",
       "cardano                 10\n",
       "litecoin                 8\n",
       "bitcoin-cash-sv          0\n",
       "crypto-com-chain         6\n",
       "usd-coin                 0\n",
       "eos                      0\n",
       "monero                   7\n",
       "tron                     0\n",
       "tezos                    8\n",
       "okb                      6\n",
       "stellar                  0\n",
       "cosmos                  10\n",
       "cdai                     0\n",
       "neo                      0\n",
       "wrapped-bitcoin          8\n",
       "leo-token                0\n",
       "huobi-token              0\n",
       "nem                      9\n",
       "binance-usd              0\n",
       "iota                     0\n",
       "vechain                  6\n",
       "zcash                    8\n",
       "theta-token              4\n",
       "dash                     0\n",
       "ethereum-classic         0\n",
       "ethlend                  1\n",
       "maker                    8\n",
       "havven                   5\n",
       "omisego                  9\n",
       "celsius-degree-token     3\n",
       "ontology                 6\n",
       "ftx-token                0\n",
       "true-usd                 0\n",
       "digibyte                 0\n",
       "Name: coin_id, dtype: int32"
      ]
     },
     "metadata": {},
     "execution_count": 403
    }
   ],
   "metadata": {}
  },
  {
   "cell_type": "code",
   "execution_count": 404,
   "source": [
    "# Create a scatter plot using hvPlot by setting \r\n",
    "# `x=\"price_change_percentage_24h\"` and `y=\"price_change_percentage_7d\"`. \r\n",
    "# Color the graph points with the labels found using K-Means and \r\n",
    "# add the crypto name in the `hover_cols` parameter to identify \r\n",
    "# the cryptocurrency represented by each data point.\r\n",
    "plot_scatter1 = df_crypto_pca.hvplot.scatter(x = \"PCA1\", y = \"PCA2\", xlabel = \"price_change_percentage_24h\", ylabel =\"price_change_percentage_7d\", by = \"coin_id\")\r\n",
    "plot_scatter1"
   ],
   "outputs": [
    {
     "output_type": "display_data",
     "data": {},
     "metadata": {}
    },
    {
     "output_type": "execute_result",
     "data": {
      "application/vnd.holoviews_exec.v0+json": "",
      "text/plain": [
       ":NdOverlay   [coin_id]\n",
       "   :Scatter   [PCA1]   (PCA2)"
      ],
      "text/html": [
       "<div id='15389'>\n",
       "\n",
       "\n",
       "\n",
       "\n",
       "\n",
       "  <div class=\"bk-root\" id=\"886455d2-20b0-4fed-8b87-c5b5eb421235\" data-root-id=\"15389\"></div>\n",
       "</div>\n",
       "<script type=\"application/javascript\">(function(root) {\n",
       "  function embed_document(root) {\n",
       "    var docs_json = {\"a0ab06bb-dfea-4828-ae12-426e9cd3bb22\":{\"defs\":[{\"extends\":null,\"module\":null,\"name\":\"ReactiveHTML1\",\"overrides\":[],\"properties\":[]},{\"extends\":null,\"module\":null,\"name\":\"FlexBox1\",\"overrides\":[],\"properties\":[{\"default\":\"flex-start\",\"kind\":null,\"name\":\"align_content\"},{\"default\":\"flex-start\",\"kind\":null,\"name\":\"align_items\"},{\"default\":\"row\",\"kind\":null,\"name\":\"flex_direction\"},{\"default\":\"wrap\",\"kind\":null,\"name\":\"flex_wrap\"},{\"default\":\"flex-start\",\"kind\":null,\"name\":\"justify_content\"}]},{\"extends\":null,\"module\":null,\"name\":\"TemplateActions1\",\"overrides\":[],\"properties\":[{\"default\":0,\"kind\":null,\"name\":\"open_modal\"},{\"default\":0,\"kind\":null,\"name\":\"close_modal\"}]},{\"extends\":null,\"module\":null,\"name\":\"MaterialTemplateActions1\",\"overrides\":[],\"properties\":[{\"default\":0,\"kind\":null,\"name\":\"open_modal\"},{\"default\":0,\"kind\":null,\"name\":\"close_modal\"}]}],\"roots\":{\"references\":[{\"attributes\":{\"fill_alpha\":{\"value\":0.2},\"fill_color\":{\"value\":\"#e5ae38\"},\"line_alpha\":{\"value\":0.2},\"line_color\":{\"value\":\"#e5ae38\"},\"size\":{\"value\":5.477225575051661},\"x\":{\"field\":\"PCA1\"},\"y\":{\"field\":\"PCA2\"}},\"id\":\"15488\",\"type\":\"Scatter\"},{\"attributes\":{\"data_source\":{\"id\":\"15483\"},\"glyph\":{\"id\":\"15486\"},\"hover_glyph\":null,\"muted_glyph\":{\"id\":\"15488\"},\"nonselection_glyph\":{\"id\":\"15487\"},\"selection_glyph\":{\"id\":\"15506\"},\"view\":{\"id\":\"15490\"}},\"id\":\"15489\",\"type\":\"GlyphRenderer\"},{\"attributes\":{\"label\":{\"value\":\"2\"},\"renderers\":[{\"id\":\"15489\"}]},\"id\":\"15505\",\"type\":\"LegendItem\"},{\"attributes\":{\"data_source\":{\"id\":\"15533\"},\"glyph\":{\"id\":\"15536\"},\"hover_glyph\":null,\"muted_glyph\":{\"id\":\"15538\"},\"nonselection_glyph\":{\"id\":\"15537\"},\"selection_glyph\":{\"id\":\"15560\"},\"view\":{\"id\":\"15540\"}},\"id\":\"15539\",\"type\":\"GlyphRenderer\"},{\"attributes\":{\"fill_alpha\":{\"value\":0.2},\"fill_color\":{\"value\":\"#30a2da\"},\"line_alpha\":{\"value\":0.2},\"line_color\":{\"value\":\"#30a2da\"},\"size\":{\"value\":5.477225575051661},\"x\":{\"field\":\"PCA1\"},\"y\":{\"field\":\"PCA2\"}},\"id\":\"15445\",\"type\":\"Scatter\"},{\"attributes\":{\"source\":{\"id\":\"15483\"}},\"id\":\"15490\",\"type\":\"CDSView\"},{\"attributes\":{\"fill_alpha\":{\"value\":0.1},\"fill_color\":{\"value\":\"#8b8b8b\"},\"line_alpha\":{\"value\":0.1},\"line_color\":{\"value\":\"#8b8b8b\"},\"size\":{\"value\":5.477225575051661},\"x\":{\"field\":\"PCA1\"},\"y\":{\"field\":\"PCA2\"}},\"id\":\"15537\",\"type\":\"Scatter\"},{\"attributes\":{},\"id\":\"15587\",\"type\":\"UnionRenderers\"},{\"attributes\":{\"fill_alpha\":{\"value\":0.1},\"fill_color\":{\"value\":\"#30a2da\"},\"line_alpha\":{\"value\":0.1},\"line_color\":{\"value\":\"#30a2da\"},\"size\":{\"value\":5.477225575051661},\"x\":{\"field\":\"PCA1\"},\"y\":{\"field\":\"PCA2\"}},\"id\":\"15444\",\"type\":\"Scatter\"},{\"attributes\":{\"data_source\":{\"id\":\"15440\"},\"glyph\":{\"id\":\"15443\"},\"hover_glyph\":null,\"muted_glyph\":{\"id\":\"15445\"},\"nonselection_glyph\":{\"id\":\"15444\"},\"selection_glyph\":{\"id\":\"15460\"},\"view\":{\"id\":\"15447\"}},\"id\":\"15446\",\"type\":\"GlyphRenderer\"},{\"attributes\":{\"fill_color\":{\"value\":\"#9467bd\"},\"line_color\":{\"value\":\"#9467bd\"},\"size\":{\"value\":5.477225575051661},\"x\":{\"field\":\"PCA1\"},\"y\":{\"field\":\"PCA2\"}},\"id\":\"15594\",\"type\":\"Scatter\"},{\"attributes\":{\"angle\":{\"value\":0.0},\"fill_alpha\":{\"value\":1.0},\"fill_color\":{\"value\":\"#6d904f\"},\"hatch_alpha\":{\"value\":1.0},\"hatch_color\":{\"value\":\"black\"},\"hatch_scale\":{\"value\":12.0},\"hatch_weight\":{\"value\":1.0},\"line_alpha\":{\"value\":1.0},\"line_cap\":{\"value\":\"butt\"},\"line_color\":{\"value\":\"#6d904f\"},\"line_dash\":{\"value\":[]},\"line_dash_offset\":{\"value\":0},\"line_join\":{\"value\":\"bevel\"},\"line_width\":{\"value\":1},\"marker\":{\"value\":\"circle\"},\"size\":{\"value\":5.477225575051661},\"x\":{\"field\":\"PCA1\"},\"y\":{\"field\":\"PCA2\"}},\"id\":\"15532\",\"type\":\"Scatter\"},{\"attributes\":{\"fill_color\":{\"value\":\"#30a2da\"},\"line_color\":{\"value\":\"#30a2da\"},\"size\":{\"value\":5.477225575051661},\"x\":{\"field\":\"PCA1\"},\"y\":{\"field\":\"PCA2\"}},\"id\":\"15443\",\"type\":\"Scatter\"},{\"attributes\":{},\"id\":\"15534\",\"type\":\"Selection\"},{\"attributes\":{},\"id\":\"15441\",\"type\":\"Selection\"},{\"attributes\":{\"data\":{\"PCA1\":{\"__ndarray__\":\"WMpXk0IyGEA=\",\"dtype\":\"float64\",\"order\":\"little\",\"shape\":[1]},\"PCA2\":{\"__ndarray__\":\"B1cBIhEiHEA=\",\"dtype\":\"float64\",\"order\":\"little\",\"shape\":[1]},\"coin_id\":[1]},\"selected\":{\"id\":\"15462\"},\"selection_policy\":{\"id\":\"15479\"}},\"id\":\"15461\",\"type\":\"ColumnDataSource\"},{\"attributes\":{},\"id\":\"15767\",\"type\":\"UnionRenderers\"},{\"attributes\":{\"source\":{\"id\":\"15440\"}},\"id\":\"15447\",\"type\":\"CDSView\"},{\"attributes\":{\"click_policy\":\"mute\",\"items\":[{\"id\":\"15459\"},{\"id\":\"15481\"},{\"id\":\"15505\"},{\"id\":\"15531\"},{\"id\":\"15559\"},{\"id\":\"15589\"},{\"id\":\"15621\"},{\"id\":\"15655\"},{\"id\":\"15691\"},{\"id\":\"15729\"},{\"id\":\"15769\"}],\"location\":[0,0],\"title\":\"coin_id\"},\"id\":\"15458\",\"type\":\"Legend\"},{\"attributes\":{\"fill_alpha\":{\"value\":0.2},\"fill_color\":{\"value\":\"#8b8b8b\"},\"line_alpha\":{\"value\":0.2},\"line_color\":{\"value\":\"#8b8b8b\"},\"size\":{\"value\":5.477225575051661},\"x\":{\"field\":\"PCA1\"},\"y\":{\"field\":\"PCA2\"}},\"id\":\"15538\",\"type\":\"Scatter\"},{\"attributes\":{\"label\":{\"value\":\"0\"},\"renderers\":[{\"id\":\"15446\"}]},\"id\":\"15459\",\"type\":\"LegendItem\"},{\"attributes\":{},\"id\":\"15503\",\"type\":\"UnionRenderers\"},{\"attributes\":{\"data\":{\"PCA1\":{\"__ndarray__\":\"r681oQfQ9b8PaRyKUOfvv40e1Fb28Py/RfHYAmst/b8=\",\"dtype\":\"float64\",\"order\":\"little\",\"shape\":[4]},\"PCA2\":{\"__ndarray__\":\"MFJB1PLs8z+4oOcIYq70P2e8knjjUvg/jiZSXfH8+D8=\",\"dtype\":\"float64\",\"order\":\"little\",\"shape\":[4]},\"coin_id\":[6,6,6,6]},\"selected\":{\"id\":\"15592\"},\"selection_policy\":{\"id\":\"15619\"}},\"id\":\"15591\",\"type\":\"ColumnDataSource\"},{\"attributes\":{\"fill_color\":{\"value\":\"#8b8b8b\"},\"line_color\":{\"value\":\"#8b8b8b\"},\"size\":{\"value\":5.477225575051661},\"x\":{\"field\":\"PCA1\"},\"y\":{\"field\":\"PCA2\"}},\"id\":\"15536\",\"type\":\"Scatter\"},{\"attributes\":{\"source\":{\"id\":\"15533\"}},\"id\":\"15540\",\"type\":\"CDSView\"},{\"attributes\":{\"label\":{\"value\":\"4\"},\"renderers\":[{\"id\":\"15539\"}]},\"id\":\"15559\",\"type\":\"LegendItem\"},{\"attributes\":{\"angle\":{\"value\":0.0},\"fill_alpha\":{\"value\":1.0},\"fill_color\":{\"value\":\"#17becf\"},\"hatch_alpha\":{\"value\":1.0},\"hatch_color\":{\"value\":\"black\"},\"hatch_scale\":{\"value\":12.0},\"hatch_weight\":{\"value\":1.0},\"line_alpha\":{\"value\":1.0},\"line_cap\":{\"value\":\"butt\"},\"line_color\":{\"value\":\"#17becf\"},\"line_dash\":{\"value\":[]},\"line_dash_offset\":{\"value\":0},\"line_join\":{\"value\":\"bevel\"},\"line_width\":{\"value\":1},\"marker\":{\"value\":\"circle\"},\"size\":{\"value\":5.477225575051661},\"x\":{\"field\":\"PCA1\"},\"y\":{\"field\":\"PCA2\"}},\"id\":\"15590\",\"type\":\"Scatter\"},{\"attributes\":{},\"id\":\"15557\",\"type\":\"UnionRenderers\"},{\"attributes\":{\"label\":{\"value\":\"6\"},\"renderers\":[{\"id\":\"15597\"}]},\"id\":\"15621\",\"type\":\"LegendItem\"},{\"attributes\":{\"data_source\":{\"id\":\"15591\"},\"glyph\":{\"id\":\"15594\"},\"hover_glyph\":null,\"muted_glyph\":{\"id\":\"15596\"},\"nonselection_glyph\":{\"id\":\"15595\"},\"selection_glyph\":{\"id\":\"15622\"},\"view\":{\"id\":\"15598\"}},\"id\":\"15597\",\"type\":\"GlyphRenderer\"},{\"attributes\":{},\"id\":\"15508\",\"type\":\"Selection\"},{\"attributes\":{\"angle\":{\"value\":0.0},\"fill_alpha\":{\"value\":1.0},\"fill_color\":{\"value\":\"#8c564b\"},\"hatch_alpha\":{\"value\":1.0},\"hatch_color\":{\"value\":\"black\"},\"hatch_scale\":{\"value\":12.0},\"hatch_weight\":{\"value\":1.0},\"line_alpha\":{\"value\":1.0},\"line_cap\":{\"value\":\"butt\"},\"line_color\":{\"value\":\"#8c564b\"},\"line_dash\":{\"value\":[]},\"line_dash_offset\":{\"value\":0},\"line_join\":{\"value\":\"bevel\"},\"line_width\":{\"value\":1},\"marker\":{\"value\":\"circle\"},\"size\":{\"value\":5.477225575051661},\"x\":{\"field\":\"PCA1\"},\"y\":{\"field\":\"PCA2\"}},\"id\":\"15770\",\"type\":\"Scatter\"},{\"attributes\":{\"fill_alpha\":{\"value\":0.1},\"fill_color\":{\"value\":\"#9467bd\"},\"line_alpha\":{\"value\":0.1},\"line_color\":{\"value\":\"#9467bd\"},\"size\":{\"value\":5.477225575051661},\"x\":{\"field\":\"PCA1\"},\"y\":{\"field\":\"PCA2\"}},\"id\":\"15595\",\"type\":\"Scatter\"},{\"attributes\":{\"source\":{\"id\":\"15591\"}},\"id\":\"15598\",\"type\":\"CDSView\"},{\"attributes\":{\"angle\":{\"value\":0.0},\"fill_alpha\":{\"value\":1.0},\"fill_color\":{\"value\":\"#e5ae38\"},\"hatch_alpha\":{\"value\":1.0},\"hatch_color\":{\"value\":\"black\"},\"hatch_scale\":{\"value\":12.0},\"hatch_weight\":{\"value\":1.0},\"line_alpha\":{\"value\":1.0},\"line_cap\":{\"value\":\"butt\"},\"line_color\":{\"value\":\"#e5ae38\"},\"line_dash\":{\"value\":[]},\"line_dash_offset\":{\"value\":0},\"line_join\":{\"value\":\"bevel\"},\"line_width\":{\"value\":1},\"marker\":{\"value\":\"circle\"},\"size\":{\"value\":5.477225575051661},\"x\":{\"field\":\"PCA1\"},\"y\":{\"field\":\"PCA2\"}},\"id\":\"15506\",\"type\":\"Scatter\"},{\"attributes\":{\"fill_alpha\":{\"value\":0.2},\"fill_color\":{\"value\":\"#9467bd\"},\"line_alpha\":{\"value\":0.2},\"line_color\":{\"value\":\"#9467bd\"},\"size\":{\"value\":5.477225575051661},\"x\":{\"field\":\"PCA1\"},\"y\":{\"field\":\"PCA2\"}},\"id\":\"15596\",\"type\":\"Scatter\"},{\"attributes\":{\"fill_alpha\":{\"value\":0.1},\"fill_color\":{\"value\":\"#6d904f\"},\"line_alpha\":{\"value\":0.1},\"line_color\":{\"value\":\"#6d904f\"},\"size\":{\"value\":5.477225575051661},\"x\":{\"field\":\"PCA1\"},\"y\":{\"field\":\"PCA2\"}},\"id\":\"15511\",\"type\":\"Scatter\"},{\"attributes\":{\"data\":{\"PCA1\":{\"__ndarray__\":\"vQLKYxc/9z8=\",\"dtype\":\"float64\",\"order\":\"little\",\"shape\":[1]},\"PCA2\":{\"__ndarray__\":\"dEJdAlAa/D8=\",\"dtype\":\"float64\",\"order\":\"little\",\"shape\":[1]},\"coin_id\":[4]},\"selected\":{\"id\":\"15534\"},\"selection_policy\":{\"id\":\"15557\"}},\"id\":\"15533\",\"type\":\"ColumnDataSource\"},{\"attributes\":{},\"id\":\"15619\",\"type\":\"UnionRenderers\"},{\"attributes\":{\"fill_color\":{\"value\":\"#6d904f\"},\"line_color\":{\"value\":\"#6d904f\"},\"size\":{\"value\":5.477225575051661},\"x\":{\"field\":\"PCA1\"},\"y\":{\"field\":\"PCA2\"}},\"id\":\"15510\",\"type\":\"Scatter\"},{\"attributes\":{},\"id\":\"15592\",\"type\":\"Selection\"},{\"attributes\":{\"label\":{\"value\":\"3\"},\"renderers\":[{\"id\":\"15513\"}]},\"id\":\"15531\",\"type\":\"LegendItem\"},{\"attributes\":{\"angle\":{\"value\":0.0},\"fill_alpha\":{\"value\":1.0},\"fill_color\":{\"value\":\"#8b8b8b\"},\"hatch_alpha\":{\"value\":1.0},\"hatch_color\":{\"value\":\"black\"},\"hatch_scale\":{\"value\":12.0},\"hatch_weight\":{\"value\":1.0},\"line_alpha\":{\"value\":1.0},\"line_cap\":{\"value\":\"butt\"},\"line_color\":{\"value\":\"#8b8b8b\"},\"line_dash\":{\"value\":[]},\"line_dash_offset\":{\"value\":0},\"line_join\":{\"value\":\"bevel\"},\"line_width\":{\"value\":1},\"marker\":{\"value\":\"circle\"},\"size\":{\"value\":5.477225575051661},\"x\":{\"field\":\"PCA1\"},\"y\":{\"field\":\"PCA2\"}},\"id\":\"15560\",\"type\":\"Scatter\"},{\"attributes\":{\"callback\":null,\"renderers\":[{\"id\":\"15446\"},{\"id\":\"15467\"},{\"id\":\"15489\"},{\"id\":\"15513\"},{\"id\":\"15539\"},{\"id\":\"15567\"},{\"id\":\"15597\"},{\"id\":\"15629\"},{\"id\":\"15663\"},{\"id\":\"15699\"},{\"id\":\"15737\"}],\"tags\":[\"hv_created\"],\"tooltips\":[[\"coin_id\",\"@{coin_id}\"],[\"PCA1\",\"@{PCA1}\"],[\"PCA2\",\"@{PCA2}\"]]},\"id\":\"15393\",\"type\":\"HoverTool\"},{\"attributes\":{\"data_source\":{\"id\":\"15561\"},\"glyph\":{\"id\":\"15564\"},\"hover_glyph\":null,\"muted_glyph\":{\"id\":\"15566\"},\"nonselection_glyph\":{\"id\":\"15565\"},\"selection_glyph\":{\"id\":\"15590\"},\"view\":{\"id\":\"15568\"}},\"id\":\"15567\",\"type\":\"GlyphRenderer\"},{\"attributes\":{},\"id\":\"15456\",\"type\":\"UnionRenderers\"},{\"attributes\":{},\"id\":\"15529\",\"type\":\"UnionRenderers\"},{\"attributes\":{\"fill_alpha\":{\"value\":0.1},\"fill_color\":{\"value\":\"#17becf\"},\"line_alpha\":{\"value\":0.1},\"line_color\":{\"value\":\"#17becf\"},\"size\":{\"value\":5.477225575051661},\"x\":{\"field\":\"PCA1\"},\"y\":{\"field\":\"PCA2\"}},\"id\":\"15565\",\"type\":\"Scatter\"},{\"attributes\":{\"end\":6.808821414630454,\"reset_end\":6.808821414630454,\"reset_start\":-2.1783449488644253,\"start\":-2.1783449488644253,\"tags\":[[[\"PCA1\",\"PCA1\",null]]]},\"id\":\"15391\",\"type\":\"Range1d\"},{\"attributes\":{\"fill_alpha\":{\"value\":0.2},\"fill_color\":{\"value\":\"#17becf\"},\"line_alpha\":{\"value\":0.2},\"line_color\":{\"value\":\"#17becf\"},\"size\":{\"value\":5.477225575051661},\"x\":{\"field\":\"PCA1\"},\"y\":{\"field\":\"PCA2\"}},\"id\":\"15566\",\"type\":\"Scatter\"},{\"attributes\":{},\"id\":\"15562\",\"type\":\"Selection\"},{\"attributes\":{\"end\":8.018947220210707,\"reset_end\":8.018947220210707,\"reset_start\":-3.8091976434658825,\"start\":-3.8091976434658825,\"tags\":[[[\"PCA2\",\"PCA2\",null]]]},\"id\":\"15392\",\"type\":\"Range1d\"},{\"attributes\":{\"label\":{\"value\":\"5\"},\"renderers\":[{\"id\":\"15567\"}]},\"id\":\"15589\",\"type\":\"LegendItem\"},{\"attributes\":{\"below\":[{\"id\":\"15413\"}],\"center\":[{\"id\":\"15416\"},{\"id\":\"15420\"}],\"height\":300,\"left\":[{\"id\":\"15417\"}],\"margin\":[5,5,5,5],\"min_border_bottom\":10,\"min_border_left\":10,\"min_border_right\":10,\"min_border_top\":10,\"renderers\":[{\"id\":\"15446\"},{\"id\":\"15467\"},{\"id\":\"15489\"},{\"id\":\"15513\"},{\"id\":\"15539\"},{\"id\":\"15567\"},{\"id\":\"15597\"},{\"id\":\"15629\"},{\"id\":\"15663\"},{\"id\":\"15699\"},{\"id\":\"15737\"}],\"right\":[{\"id\":\"15458\"}],\"sizing_mode\":\"fixed\",\"title\":{\"id\":\"15405\"},\"toolbar\":{\"id\":\"15427\"},\"width\":700,\"x_range\":{\"id\":\"15391\"},\"x_scale\":{\"id\":\"15409\"},\"y_range\":{\"id\":\"15392\"},\"y_scale\":{\"id\":\"15411\"}},\"id\":\"15404\",\"subtype\":\"Figure\",\"type\":\"Plot\"},{\"attributes\":{\"data\":{\"PCA1\":{\"__ndarray__\":\"Lmz2o0E64L8=\",\"dtype\":\"float64\",\"order\":\"little\",\"shape\":[1]},\"PCA2\":{\"__ndarray__\":\"I/mZIWZDA0A=\",\"dtype\":\"float64\",\"order\":\"little\",\"shape\":[1]},\"coin_id\":[5]},\"selected\":{\"id\":\"15562\"},\"selection_policy\":{\"id\":\"15587\"}},\"id\":\"15561\",\"type\":\"ColumnDataSource\"},{\"attributes\":{\"fill_color\":{\"value\":\"#17becf\"},\"line_color\":{\"value\":\"#17becf\"},\"size\":{\"value\":5.477225575051661},\"x\":{\"field\":\"PCA1\"},\"y\":{\"field\":\"PCA2\"}},\"id\":\"15564\",\"type\":\"Scatter\"},{\"attributes\":{\"data\":{\"PCA1\":{\"__ndarray__\":\"vVDf+w8G6j93QkvuCK4AQA==\",\"dtype\":\"float64\",\"order\":\"little\",\"shape\":[2]},\"PCA2\":{\"__ndarray__\":\"SJFzfC1bBcDW0omNB4MFwA==\",\"dtype\":\"float64\",\"order\":\"little\",\"shape\":[2]},\"coin_id\":[7,7]},\"selected\":{\"id\":\"15624\"},\"selection_policy\":{\"id\":\"15653\"}},\"id\":\"15623\",\"type\":\"ColumnDataSource\"},{\"attributes\":{\"source\":{\"id\":\"15561\"}},\"id\":\"15568\",\"type\":\"CDSView\"},{\"attributes\":{\"angle\":{\"value\":0.0},\"fill_alpha\":{\"value\":1.0},\"fill_color\":{\"value\":\"#9467bd\"},\"hatch_alpha\":{\"value\":1.0},\"hatch_color\":{\"value\":\"black\"},\"hatch_scale\":{\"value\":12.0},\"hatch_weight\":{\"value\":1.0},\"line_alpha\":{\"value\":1.0},\"line_cap\":{\"value\":\"butt\"},\"line_color\":{\"value\":\"#9467bd\"},\"line_dash\":{\"value\":[]},\"line_dash_offset\":{\"value\":0},\"line_join\":{\"value\":\"bevel\"},\"line_width\":{\"value\":1},\"marker\":{\"value\":\"circle\"},\"size\":{\"value\":5.477225575051661},\"x\":{\"field\":\"PCA1\"},\"y\":{\"field\":\"PCA2\"}},\"id\":\"15622\",\"type\":\"Scatter\"},{\"attributes\":{\"data_source\":{\"id\":\"15623\"},\"glyph\":{\"id\":\"15626\"},\"hover_glyph\":null,\"muted_glyph\":{\"id\":\"15628\"},\"nonselection_glyph\":{\"id\":\"15627\"},\"selection_glyph\":{\"id\":\"15656\"},\"view\":{\"id\":\"15630\"}},\"id\":\"15629\",\"type\":\"GlyphRenderer\"},{\"attributes\":{\"axis\":{\"id\":\"15413\"},\"grid_line_color\":null,\"ticker\":null},\"id\":\"15416\",\"type\":\"Grid\"},{\"attributes\":{\"fill_alpha\":{\"value\":0.2},\"fill_color\":{\"value\":\"#d62728\"},\"line_alpha\":{\"value\":0.2},\"line_color\":{\"value\":\"#d62728\"},\"size\":{\"value\":5.477225575051661},\"x\":{\"field\":\"PCA1\"},\"y\":{\"field\":\"PCA2\"}},\"id\":\"15628\",\"type\":\"Scatter\"},{\"attributes\":{\"fill_alpha\":{\"value\":0.1},\"fill_color\":{\"value\":\"#d62728\"},\"line_alpha\":{\"value\":0.1},\"line_color\":{\"value\":\"#d62728\"},\"size\":{\"value\":5.477225575051661},\"x\":{\"field\":\"PCA1\"},\"y\":{\"field\":\"PCA2\"}},\"id\":\"15627\",\"type\":\"Scatter\"},{\"attributes\":{\"angle\":{\"value\":0.0},\"fill_alpha\":{\"value\":1.0},\"fill_color\":{\"value\":\"#1f77b4\"},\"hatch_alpha\":{\"value\":1.0},\"hatch_color\":{\"value\":\"black\"},\"hatch_scale\":{\"value\":12.0},\"hatch_weight\":{\"value\":1.0},\"line_alpha\":{\"value\":1.0},\"line_cap\":{\"value\":\"butt\"},\"line_color\":{\"value\":\"#1f77b4\"},\"line_dash\":{\"value\":[]},\"line_dash_offset\":{\"value\":0},\"line_join\":{\"value\":\"bevel\"},\"line_width\":{\"value\":1},\"marker\":{\"value\":\"circle\"},\"size\":{\"value\":5.477225575051661},\"x\":{\"field\":\"PCA1\"},\"y\":{\"field\":\"PCA2\"}},\"id\":\"15692\",\"type\":\"Scatter\"},{\"attributes\":{},\"id\":\"15414\",\"type\":\"BasicTicker\"},{\"attributes\":{},\"id\":\"15624\",\"type\":\"Selection\"},{\"attributes\":{\"text_color\":\"black\",\"text_font_size\":\"12pt\"},\"id\":\"15405\",\"type\":\"Title\"},{\"attributes\":{\"angle\":{\"value\":0.0},\"fill_alpha\":{\"value\":1.0},\"fill_color\":{\"value\":\"#30a2da\"},\"hatch_alpha\":{\"value\":1.0},\"hatch_color\":{\"value\":\"black\"},\"hatch_scale\":{\"value\":12.0},\"hatch_weight\":{\"value\":1.0},\"line_alpha\":{\"value\":1.0},\"line_cap\":{\"value\":\"butt\"},\"line_color\":{\"value\":\"#30a2da\"},\"line_dash\":{\"value\":[]},\"line_dash_offset\":{\"value\":0},\"line_join\":{\"value\":\"bevel\"},\"line_width\":{\"value\":1},\"marker\":{\"value\":\"circle\"},\"size\":{\"value\":5.477225575051661},\"x\":{\"field\":\"PCA1\"},\"y\":{\"field\":\"PCA2\"}},\"id\":\"15460\",\"type\":\"Scatter\"},{\"attributes\":{\"fill_color\":{\"value\":\"#d62728\"},\"line_color\":{\"value\":\"#d62728\"},\"size\":{\"value\":5.477225575051661},\"x\":{\"field\":\"PCA1\"},\"y\":{\"field\":\"PCA2\"}},\"id\":\"15626\",\"type\":\"Scatter\"},{\"attributes\":{\"fill_color\":{\"value\":\"#8c564b\"},\"line_color\":{\"value\":\"#8c564b\"},\"size\":{\"value\":5.477225575051661},\"x\":{\"field\":\"PCA1\"},\"y\":{\"field\":\"PCA2\"}},\"id\":\"15734\",\"type\":\"Scatter\"},{\"attributes\":{\"data_source\":{\"id\":\"15461\"},\"glyph\":{\"id\":\"15464\"},\"hover_glyph\":null,\"muted_glyph\":{\"id\":\"15466\"},\"nonselection_glyph\":{\"id\":\"15465\"},\"selection_glyph\":{\"id\":\"15482\"},\"view\":{\"id\":\"15468\"}},\"id\":\"15467\",\"type\":\"GlyphRenderer\"},{\"attributes\":{\"source\":{\"id\":\"15623\"}},\"id\":\"15630\",\"type\":\"CDSView\"},{\"attributes\":{},\"id\":\"15409\",\"type\":\"LinearScale\"},{\"attributes\":{\"label\":{\"value\":\"7\"},\"renderers\":[{\"id\":\"15629\"}]},\"id\":\"15655\",\"type\":\"LegendItem\"},{\"attributes\":{\"data_source\":{\"id\":\"15507\"},\"glyph\":{\"id\":\"15510\"},\"hover_glyph\":null,\"muted_glyph\":{\"id\":\"15512\"},\"nonselection_glyph\":{\"id\":\"15511\"},\"selection_glyph\":{\"id\":\"15532\"},\"view\":{\"id\":\"15514\"}},\"id\":\"15513\",\"type\":\"GlyphRenderer\"},{\"attributes\":{\"fill_alpha\":{\"value\":0.1},\"fill_color\":{\"value\":\"#e377c2\"},\"line_alpha\":{\"value\":0.1},\"line_color\":{\"value\":\"#e377c2\"},\"size\":{\"value\":5.477225575051661},\"x\":{\"field\":\"PCA1\"},\"y\":{\"field\":\"PCA2\"}},\"id\":\"15697\",\"type\":\"Scatter\"},{\"attributes\":{},\"id\":\"15411\",\"type\":\"LinearScale\"},{\"attributes\":{\"axis_label\":\"price_change_percentage_24h\",\"formatter\":{\"id\":\"15436\"},\"major_label_policy\":{\"id\":\"15434\"},\"ticker\":{\"id\":\"15414\"}},\"id\":\"15413\",\"type\":\"LinearAxis\"},{\"attributes\":{},\"id\":\"15423\",\"type\":\"WheelZoomTool\"},{\"attributes\":{\"data_source\":{\"id\":\"15693\"},\"glyph\":{\"id\":\"15696\"},\"hover_glyph\":null,\"muted_glyph\":{\"id\":\"15698\"},\"nonselection_glyph\":{\"id\":\"15697\"},\"selection_glyph\":{\"id\":\"15730\"},\"view\":{\"id\":\"15700\"}},\"id\":\"15699\",\"type\":\"GlyphRenderer\"},{\"attributes\":{},\"id\":\"15422\",\"type\":\"PanTool\"},{\"attributes\":{\"fill_alpha\":{\"value\":0.1},\"fill_color\":{\"value\":\"#fc4f30\"},\"line_alpha\":{\"value\":0.1},\"line_color\":{\"value\":\"#fc4f30\"},\"size\":{\"value\":5.477225575051661},\"x\":{\"field\":\"PCA1\"},\"y\":{\"field\":\"PCA2\"}},\"id\":\"15465\",\"type\":\"Scatter\"},{\"attributes\":{\"fill_alpha\":{\"value\":0.2},\"fill_color\":{\"value\":\"#e377c2\"},\"line_alpha\":{\"value\":0.2},\"line_color\":{\"value\":\"#e377c2\"},\"size\":{\"value\":5.477225575051661},\"x\":{\"field\":\"PCA1\"},\"y\":{\"field\":\"PCA2\"}},\"id\":\"15698\",\"type\":\"Scatter\"},{\"attributes\":{\"axis_label\":\"price_change_percentage_7d\",\"formatter\":{\"id\":\"15439\"},\"major_label_policy\":{\"id\":\"15437\"},\"ticker\":{\"id\":\"15418\"}},\"id\":\"15417\",\"type\":\"LinearAxis\"},{\"attributes\":{\"fill_alpha\":{\"value\":0.2},\"fill_color\":{\"value\":\"#fc4f30\"},\"line_alpha\":{\"value\":0.2},\"line_color\":{\"value\":\"#fc4f30\"},\"size\":{\"value\":5.477225575051661},\"x\":{\"field\":\"PCA1\"},\"y\":{\"field\":\"PCA2\"}},\"id\":\"15466\",\"type\":\"Scatter\"},{\"attributes\":{},\"id\":\"15694\",\"type\":\"Selection\"},{\"attributes\":{\"axis\":{\"id\":\"15417\"},\"dimension\":1,\"grid_line_color\":null,\"ticker\":null},\"id\":\"15420\",\"type\":\"Grid\"},{\"attributes\":{},\"id\":\"15418\",\"type\":\"BasicTicker\"},{\"attributes\":{},\"id\":\"15653\",\"type\":\"UnionRenderers\"},{\"attributes\":{},\"id\":\"15436\",\"type\":\"BasicTickFormatter\"},{\"attributes\":{},\"id\":\"15462\",\"type\":\"Selection\"},{\"attributes\":{\"margin\":[5,5,5,5],\"name\":\"HSpacer31183\",\"sizing_mode\":\"stretch_width\"},\"id\":\"16041\",\"type\":\"Spacer\"},{\"attributes\":{},\"id\":\"15421\",\"type\":\"SaveTool\"},{\"attributes\":{\"fill_color\":{\"value\":\"#e377c2\"},\"line_color\":{\"value\":\"#e377c2\"},\"size\":{\"value\":5.477225575051661},\"x\":{\"field\":\"PCA1\"},\"y\":{\"field\":\"PCA2\"}},\"id\":\"15696\",\"type\":\"Scatter\"},{\"attributes\":{\"overlay\":{\"id\":\"15426\"}},\"id\":\"15424\",\"type\":\"BoxZoomTool\"},{\"attributes\":{\"fill_color\":{\"value\":\"#fc4f30\"},\"line_color\":{\"value\":\"#fc4f30\"},\"size\":{\"value\":5.477225575051661},\"x\":{\"field\":\"PCA1\"},\"y\":{\"field\":\"PCA2\"}},\"id\":\"15464\",\"type\":\"Scatter\"},{\"attributes\":{},\"id\":\"15425\",\"type\":\"ResetTool\"},{\"attributes\":{\"fill_alpha\":{\"value\":0.2},\"fill_color\":{\"value\":\"#6d904f\"},\"line_alpha\":{\"value\":0.2},\"line_color\":{\"value\":\"#6d904f\"},\"size\":{\"value\":5.477225575051661},\"x\":{\"field\":\"PCA1\"},\"y\":{\"field\":\"PCA2\"}},\"id\":\"15512\",\"type\":\"Scatter\"},{\"attributes\":{\"source\":{\"id\":\"15693\"}},\"id\":\"15700\",\"type\":\"CDSView\"},{\"attributes\":{\"source\":{\"id\":\"15461\"}},\"id\":\"15468\",\"type\":\"CDSView\"},{\"attributes\":{\"label\":{\"value\":\"9\"},\"renderers\":[{\"id\":\"15699\"}]},\"id\":\"15729\",\"type\":\"LegendItem\"},{\"attributes\":{\"label\":{\"value\":\"1\"},\"renderers\":[{\"id\":\"15467\"}]},\"id\":\"15481\",\"type\":\"LegendItem\"},{\"attributes\":{\"margin\":[5,5,5,5],\"name\":\"HSpacer31182\",\"sizing_mode\":\"stretch_width\"},\"id\":\"15390\",\"type\":\"Spacer\"},{\"attributes\":{},\"id\":\"15727\",\"type\":\"UnionRenderers\"},{\"attributes\":{\"data_source\":{\"id\":\"15657\"},\"glyph\":{\"id\":\"15660\"},\"hover_glyph\":null,\"muted_glyph\":{\"id\":\"15662\"},\"nonselection_glyph\":{\"id\":\"15661\"},\"selection_glyph\":{\"id\":\"15692\"},\"view\":{\"id\":\"15664\"}},\"id\":\"15663\",\"type\":\"GlyphRenderer\"},{\"attributes\":{\"bottom_units\":\"screen\",\"fill_alpha\":0.5,\"fill_color\":\"lightgrey\",\"left_units\":\"screen\",\"level\":\"overlay\",\"line_alpha\":1.0,\"line_color\":\"black\",\"line_dash\":[4,4],\"line_width\":2,\"right_units\":\"screen\",\"syncable\":false,\"top_units\":\"screen\"},\"id\":\"15426\",\"type\":\"BoxAnnotation\"},{\"attributes\":{},\"id\":\"15479\",\"type\":\"UnionRenderers\"},{\"attributes\":{\"data\":{\"PCA1\":{\"__ndarray__\":\"A7XWV1J/zD/AXoG0P0XOvw==\",\"dtype\":\"float64\",\"order\":\"little\",\"shape\":[2]},\"PCA2\":{\"__ndarray__\":\"GIHf9IJ/tT/KwlH7MEeyvw==\",\"dtype\":\"float64\",\"order\":\"little\",\"shape\":[2]},\"coin_id\":[9,9]},\"selected\":{\"id\":\"15694\"},\"selection_policy\":{\"id\":\"15727\"}},\"id\":\"15693\",\"type\":\"ColumnDataSource\"},{\"attributes\":{\"angle\":{\"value\":0.0},\"fill_alpha\":{\"value\":1.0},\"fill_color\":{\"value\":\"#d62728\"},\"hatch_alpha\":{\"value\":1.0},\"hatch_color\":{\"value\":\"black\"},\"hatch_scale\":{\"value\":12.0},\"hatch_weight\":{\"value\":1.0},\"line_alpha\":{\"value\":1.0},\"line_cap\":{\"value\":\"butt\"},\"line_color\":{\"value\":\"#d62728\"},\"line_dash\":{\"value\":[]},\"line_dash_offset\":{\"value\":0},\"line_join\":{\"value\":\"bevel\"},\"line_width\":{\"value\":1},\"marker\":{\"value\":\"circle\"},\"size\":{\"value\":5.477225575051661},\"x\":{\"field\":\"PCA1\"},\"y\":{\"field\":\"PCA2\"}},\"id\":\"15656\",\"type\":\"Scatter\"},{\"attributes\":{\"children\":[{\"id\":\"15390\"},{\"id\":\"15404\"},{\"id\":\"16041\"}],\"margin\":[0,0,0,0],\"name\":\"Row31178\",\"tags\":[\"embedded\"]},\"id\":\"15389\",\"type\":\"Row\"},{\"attributes\":{\"fill_alpha\":{\"value\":0.1},\"fill_color\":{\"value\":\"#1f77b4\"},\"line_alpha\":{\"value\":0.1},\"line_color\":{\"value\":\"#1f77b4\"},\"size\":{\"value\":5.477225575051661},\"x\":{\"field\":\"PCA1\"},\"y\":{\"field\":\"PCA2\"}},\"id\":\"15661\",\"type\":\"Scatter\"},{\"attributes\":{\"fill_alpha\":{\"value\":0.2},\"fill_color\":{\"value\":\"#1f77b4\"},\"line_alpha\":{\"value\":0.2},\"line_color\":{\"value\":\"#1f77b4\"},\"size\":{\"value\":5.477225575051661},\"x\":{\"field\":\"PCA1\"},\"y\":{\"field\":\"PCA2\"}},\"id\":\"15662\",\"type\":\"Scatter\"},{\"attributes\":{},\"id\":\"15658\",\"type\":\"Selection\"},{\"attributes\":{\"data_source\":{\"id\":\"15731\"},\"glyph\":{\"id\":\"15734\"},\"hover_glyph\":null,\"muted_glyph\":{\"id\":\"15736\"},\"nonselection_glyph\":{\"id\":\"15735\"},\"selection_glyph\":{\"id\":\"15770\"},\"view\":{\"id\":\"15738\"}},\"id\":\"15737\",\"type\":\"GlyphRenderer\"},{\"attributes\":{\"data\":{\"PCA1\":{\"__ndarray__\":\"sdV0a+i63D8S/lwuGLTfP97aVTsAj9A/cxZHrGa5xL+cTDgaxtPbPwcgZMTP2+E/qtfqoUOp0z8=\",\"dtype\":\"float64\",\"order\":\"little\",\"shape\":[7]},\"PCA2\":{\"__ndarray__\":\"0kc0Gw/t8793MiiYWcvsv2DSLUPfTO6/yVcjbdvl07+xzka4WLjzv6IXJwOQdO2/XyxoqrQa4r8=\",\"dtype\":\"float64\",\"order\":\"little\",\"shape\":[7]},\"coin_id\":[8,8,8,8,8,8,8]},\"selected\":{\"id\":\"15658\"},\"selection_policy\":{\"id\":\"15689\"}},\"id\":\"15657\",\"type\":\"ColumnDataSource\"},{\"attributes\":{\"fill_color\":{\"value\":\"#1f77b4\"},\"line_color\":{\"value\":\"#1f77b4\"},\"size\":{\"value\":5.477225575051661},\"x\":{\"field\":\"PCA1\"},\"y\":{\"field\":\"PCA2\"}},\"id\":\"15660\",\"type\":\"Scatter\"},{\"attributes\":{\"source\":{\"id\":\"15657\"}},\"id\":\"15664\",\"type\":\"CDSView\"},{\"attributes\":{\"active_multi\":null,\"tools\":[{\"id\":\"15393\"},{\"id\":\"15421\"},{\"id\":\"15422\"},{\"id\":\"15423\"},{\"id\":\"15424\"},{\"id\":\"15425\"}]},\"id\":\"15427\",\"type\":\"Toolbar\"},{\"attributes\":{\"label\":{\"value\":\"8\"},\"renderers\":[{\"id\":\"15663\"}]},\"id\":\"15691\",\"type\":\"LegendItem\"},{\"attributes\":{\"data\":{\"PCA1\":{\"__ndarray__\":\"6cP86/sz6r/iLeyVNOTqvzTV6kYPEPC/RWXOTqGU6r83s/vH1Sryv69EgJooQ+S/R9OID0ey77+UhnySe/7rv3SipF/GKfK/I2RbxfzD8b94Sju6r0bov7ElPqzAb+q/3qHCqR718L+BYR0MBrvsv30h2gm0Fe2/zQ599pUN5r/BCQ/ndFjqv+vPW/NPqei/\",\"dtype\":\"float64\",\"order\":\"little\",\"shape\":[18]},\"PCA2\":{\"__ndarray__\":\"pGopk/pnsj/fHxtibH60P/qt18Gqkb6/7McX2Fy5sz9d826jdPDFP22/vdQ1UZG/q6gtAcrK3D/fY8matUuCP6RcQPb8WOk/SQaIJopM4T9/ALPI8RW4P8MWvMOkH6k/6iFtdNrXuD95CLMFwz/BP+/sHvIKerg/TSuGRuc/0L+P4a7ls8KfP3GL3qqXBcg/\",\"dtype\":\"float64\",\"order\":\"little\",\"shape\":[18]},\"coin_id\":[0,0,0,0,0,0,0,0,0,0,0,0,0,0,0,0,0,0]},\"selected\":{\"id\":\"15441\"},\"selection_policy\":{\"id\":\"15456\"}},\"id\":\"15440\",\"type\":\"ColumnDataSource\"},{\"attributes\":{\"angle\":{\"value\":0.0},\"fill_alpha\":{\"value\":1.0},\"fill_color\":{\"value\":\"#e377c2\"},\"hatch_alpha\":{\"value\":1.0},\"hatch_color\":{\"value\":\"black\"},\"hatch_scale\":{\"value\":12.0},\"hatch_weight\":{\"value\":1.0},\"line_alpha\":{\"value\":1.0},\"line_cap\":{\"value\":\"butt\"},\"line_color\":{\"value\":\"#e377c2\"},\"line_dash\":{\"value\":[]},\"line_dash_offset\":{\"value\":0},\"line_join\":{\"value\":\"bevel\"},\"line_width\":{\"value\":1},\"marker\":{\"value\":\"circle\"},\"size\":{\"value\":5.477225575051661},\"x\":{\"field\":\"PCA1\"},\"y\":{\"field\":\"PCA2\"}},\"id\":\"15730\",\"type\":\"Scatter\"},{\"attributes\":{},\"id\":\"15434\",\"type\":\"AllLabels\"},{\"attributes\":{},\"id\":\"15484\",\"type\":\"Selection\"},{\"attributes\":{\"angle\":{\"value\":0.0},\"fill_alpha\":{\"value\":1.0},\"fill_color\":{\"value\":\"#fc4f30\"},\"hatch_alpha\":{\"value\":1.0},\"hatch_color\":{\"value\":\"black\"},\"hatch_scale\":{\"value\":12.0},\"hatch_weight\":{\"value\":1.0},\"line_alpha\":{\"value\":1.0},\"line_cap\":{\"value\":\"butt\"},\"line_color\":{\"value\":\"#fc4f30\"},\"line_dash\":{\"value\":[]},\"line_dash_offset\":{\"value\":0},\"line_join\":{\"value\":\"bevel\"},\"line_width\":{\"value\":1},\"marker\":{\"value\":\"circle\"},\"size\":{\"value\":5.477225575051661},\"x\":{\"field\":\"PCA1\"},\"y\":{\"field\":\"PCA2\"}},\"id\":\"15482\",\"type\":\"Scatter\"},{\"attributes\":{\"fill_alpha\":{\"value\":0.1},\"fill_color\":{\"value\":\"#8c564b\"},\"line_alpha\":{\"value\":0.1},\"line_color\":{\"value\":\"#8c564b\"},\"size\":{\"value\":5.477225575051661},\"x\":{\"field\":\"PCA1\"},\"y\":{\"field\":\"PCA2\"}},\"id\":\"15735\",\"type\":\"Scatter\"},{\"attributes\":{\"data\":{\"PCA1\":{\"__ndarray__\":\"yK8bYPbQGUA=\",\"dtype\":\"float64\",\"order\":\"little\",\"shape\":[1]},\"PCA2\":{\"__ndarray__\":\"0e1eFJGWBsA=\",\"dtype\":\"float64\",\"order\":\"little\",\"shape\":[1]},\"coin_id\":[3]},\"selected\":{\"id\":\"15508\"},\"selection_policy\":{\"id\":\"15529\"}},\"id\":\"15507\",\"type\":\"ColumnDataSource\"},{\"attributes\":{\"fill_alpha\":{\"value\":0.2},\"fill_color\":{\"value\":\"#8c564b\"},\"line_alpha\":{\"value\":0.2},\"line_color\":{\"value\":\"#8c564b\"},\"size\":{\"value\":5.477225575051661},\"x\":{\"field\":\"PCA1\"},\"y\":{\"field\":\"PCA2\"}},\"id\":\"15736\",\"type\":\"Scatter\"},{\"attributes\":{},\"id\":\"15732\",\"type\":\"Selection\"},{\"attributes\":{},\"id\":\"15439\",\"type\":\"BasicTickFormatter\"},{\"attributes\":{\"fill_color\":{\"value\":\"#e5ae38\"},\"line_color\":{\"value\":\"#e5ae38\"},\"size\":{\"value\":5.477225575051661},\"x\":{\"field\":\"PCA1\"},\"y\":{\"field\":\"PCA2\"}},\"id\":\"15486\",\"type\":\"Scatter\"},{\"attributes\":{\"label\":{\"value\":\"10\"},\"renderers\":[{\"id\":\"15737\"}]},\"id\":\"15769\",\"type\":\"LegendItem\"},{\"attributes\":{\"data\":{\"PCA1\":{\"__ndarray__\":\"dFYYo/RU6j8=\",\"dtype\":\"float64\",\"order\":\"little\",\"shape\":[1]},\"PCA2\":{\"__ndarray__\":\"mrWzkd3p+r8=\",\"dtype\":\"float64\",\"order\":\"little\",\"shape\":[1]},\"coin_id\":[2]},\"selected\":{\"id\":\"15484\"},\"selection_policy\":{\"id\":\"15503\"}},\"id\":\"15483\",\"type\":\"ColumnDataSource\"},{\"attributes\":{},\"id\":\"15689\",\"type\":\"UnionRenderers\"},{\"attributes\":{\"fill_alpha\":{\"value\":0.1},\"fill_color\":{\"value\":\"#e5ae38\"},\"line_alpha\":{\"value\":0.1},\"line_color\":{\"value\":\"#e5ae38\"},\"size\":{\"value\":5.477225575051661},\"x\":{\"field\":\"PCA1\"},\"y\":{\"field\":\"PCA2\"}},\"id\":\"15487\",\"type\":\"Scatter\"},{\"attributes\":{\"data\":{\"PCA1\":{\"__ndarray__\":\"lMDGUWc+7T8kHc2ljPTpP34IC3yhGew/\",\"dtype\":\"float64\",\"order\":\"little\",\"shape\":[3]},\"PCA2\":{\"__ndarray__\":\"CTAx4BYP8r+sZ4pgZdDxv4lVsNJ7ffG/\",\"dtype\":\"float64\",\"order\":\"little\",\"shape\":[3]},\"coin_id\":[10,10,10]},\"selected\":{\"id\":\"15732\"},\"selection_policy\":{\"id\":\"15767\"}},\"id\":\"15731\",\"type\":\"ColumnDataSource\"},{\"attributes\":{\"source\":{\"id\":\"15507\"}},\"id\":\"15514\",\"type\":\"CDSView\"},{\"attributes\":{},\"id\":\"15437\",\"type\":\"AllLabels\"},{\"attributes\":{\"source\":{\"id\":\"15731\"}},\"id\":\"15738\",\"type\":\"CDSView\"}],\"root_ids\":[\"15389\"]},\"title\":\"Bokeh Application\",\"version\":\"2.3.3\"}};\n",
       "    var render_items = [{\"docid\":\"a0ab06bb-dfea-4828-ae12-426e9cd3bb22\",\"root_ids\":[\"15389\"],\"roots\":{\"15389\":\"886455d2-20b0-4fed-8b87-c5b5eb421235\"}}];\n",
       "    root.Bokeh.embed.embed_items_notebook(docs_json, render_items);\n",
       "  }\n",
       "  if (root.Bokeh !== undefined && root.Bokeh.Panel !== undefined) {\n",
       "    embed_document(root);\n",
       "  } else {\n",
       "    var attempts = 0;\n",
       "    var timer = setInterval(function(root) {\n",
       "      if (root.Bokeh !== undefined && root.Bokeh.Panel !== undefined) {\n",
       "        clearInterval(timer);\n",
       "        embed_document(root);\n",
       "      } else if (document.readyState == \"complete\") {\n",
       "        attempts++;\n",
       "        if (attempts > 200) {\n",
       "          clearInterval(timer);\n",
       "          console.log(\"Bokeh: ERROR: Unable to run BokehJS code because BokehJS library is missing\");\n",
       "        }\n",
       "      }\n",
       "    }, 25, root)\n",
       "  }\n",
       "})(window);</script>"
      ]
     },
     "metadata": {
      "application/vnd.holoviews_exec.v0+json": {
       "id": "15389"
      }
     },
     "execution_count": 404
    }
   ],
   "metadata": {}
  },
  {
   "cell_type": "markdown",
   "source": [
    "---"
   ],
   "metadata": {}
  },
  {
   "cell_type": "markdown",
   "source": [
    "### Visualize and Compare the Results\n",
    "\n",
    "In this section, you will visually analyze the cluster analysis results by contrasting the outcome with and without using the optimization techniques.\n",
    "\n",
    "1. Create a composite plot using hvPlot and the plus (`+`) operator to contrast the Elbow Curve that you created to find the best value for `k` with the original and the PCA data.\n",
    "\n",
    "2. Create a composite plot using hvPlot and the plus (`+`) operator to contrast the cryptocurrencies clusters using the original and the PCA data.\n",
    "\n",
    "3. Answer the following question: After visually analyzing the cluster analysis results, what is the impact of using fewer features to cluster the data using K-Means?\n",
    "\n",
    "> **Rewind:** Back in Lesson 3 of Module 6, you learned how to create composite plots. You can look at that lesson to review how to make these plots; also, you can check [the hvPlot documentation](https://holoviz.org/tutorial/Composing_Plots.html)."
   ],
   "metadata": {}
  },
  {
   "cell_type": "code",
   "execution_count": 405,
   "source": [
    "# Composite plot to contrast the Elbow curves\r\n",
    "plot_elbow + plot_elbow_1"
   ],
   "outputs": [
    {
     "output_type": "display_data",
     "data": {},
     "metadata": {}
    },
    {
     "output_type": "execute_result",
     "data": {
      "application/vnd.holoviews_exec.v0+json": "",
      "text/plain": [
       ":Layout\n",
       "   .Curve.I  :Curve   [k_values]   (inertia)\n",
       "   .Curve.II :Curve   [k]   (inertia)"
      ],
      "text/html": [
       "<div id='16193'>\n",
       "\n",
       "\n",
       "\n",
       "\n",
       "\n",
       "  <div class=\"bk-root\" id=\"6da9883e-c4d4-4305-9b90-4766cbf33afb\" data-root-id=\"16193\"></div>\n",
       "</div>\n",
       "<script type=\"application/javascript\">(function(root) {\n",
       "  function embed_document(root) {\n",
       "    var docs_json = {\"855629e9-7ca9-4138-a9fa-002c71ddf1f5\":{\"defs\":[{\"extends\":null,\"module\":null,\"name\":\"ReactiveHTML1\",\"overrides\":[],\"properties\":[]},{\"extends\":null,\"module\":null,\"name\":\"FlexBox1\",\"overrides\":[],\"properties\":[{\"default\":\"flex-start\",\"kind\":null,\"name\":\"align_content\"},{\"default\":\"flex-start\",\"kind\":null,\"name\":\"align_items\"},{\"default\":\"row\",\"kind\":null,\"name\":\"flex_direction\"},{\"default\":\"wrap\",\"kind\":null,\"name\":\"flex_wrap\"},{\"default\":\"flex-start\",\"kind\":null,\"name\":\"justify_content\"}]},{\"extends\":null,\"module\":null,\"name\":\"TemplateActions1\",\"overrides\":[],\"properties\":[{\"default\":0,\"kind\":null,\"name\":\"open_modal\"},{\"default\":0,\"kind\":null,\"name\":\"close_modal\"}]},{\"extends\":null,\"module\":null,\"name\":\"MaterialTemplateActions1\",\"overrides\":[],\"properties\":[{\"default\":0,\"kind\":null,\"name\":\"open_modal\"},{\"default\":0,\"kind\":null,\"name\":\"close_modal\"}]}],\"roots\":{\"references\":[{\"attributes\":{\"bottom_units\":\"screen\",\"fill_alpha\":0.5,\"fill_color\":\"lightgrey\",\"left_units\":\"screen\",\"level\":\"overlay\",\"line_alpha\":1.0,\"line_color\":\"black\",\"line_dash\":[4,4],\"line_width\":2,\"right_units\":\"screen\",\"syncable\":false,\"top_units\":\"screen\"},\"id\":\"16270\",\"type\":\"BoxAnnotation\"},{\"attributes\":{},\"id\":\"16303\",\"type\":\"UnionRenderers\"},{\"attributes\":{\"end\":11.0,\"reset_end\":11.0,\"reset_start\":1.0,\"start\":1.0,\"tags\":[[[\"k_values\",\"k_values\",null]]]},\"id\":\"16195\",\"type\":\"Range1d\"},{\"attributes\":{\"children\":[{\"id\":\"16194\"},{\"id\":\"16319\"},{\"id\":\"16482\"}],\"margin\":[0,0,0,0],\"name\":\"Row32727\",\"tags\":[\"embedded\"]},\"id\":\"16193\",\"type\":\"Row\"},{\"attributes\":{\"line_alpha\":0.1,\"line_color\":\"#30a2da\",\"line_width\":2,\"x\":{\"field\":\"k_values\"},\"y\":{\"field\":\"inertia\"}},\"id\":\"16232\",\"type\":\"Line\"},{\"attributes\":{\"line_color\":\"#30a2da\",\"line_width\":2,\"x\":{\"field\":\"k_values\"},\"y\":{\"field\":\"inertia\"}},\"id\":\"16231\",\"type\":\"Line\"},{\"attributes\":{},\"id\":\"16238\",\"type\":\"AllLabels\"},{\"attributes\":{},\"id\":\"16229\",\"type\":\"Selection\"},{\"attributes\":{\"below\":[{\"id\":\"16207\"}],\"center\":[{\"id\":\"16210\"},{\"id\":\"16214\"}],\"height\":300,\"left\":[{\"id\":\"16211\"}],\"margin\":null,\"min_border_bottom\":10,\"min_border_left\":10,\"min_border_right\":10,\"min_border_top\":10,\"renderers\":[{\"id\":\"16234\"}],\"sizing_mode\":\"fixed\",\"title\":{\"id\":\"16199\"},\"toolbar\":{\"id\":\"16221\"},\"toolbar_location\":null,\"width\":700,\"x_range\":{\"id\":\"16195\"},\"x_scale\":{\"id\":\"16203\"},\"y_range\":{\"id\":\"16196\"},\"y_scale\":{\"id\":\"16205\"}},\"id\":\"16198\",\"subtype\":\"Figure\",\"type\":\"Plot\"},{\"attributes\":{\"data_source\":{\"id\":\"16228\"},\"glyph\":{\"id\":\"16231\"},\"hover_glyph\":null,\"muted_glyph\":{\"id\":\"16233\"},\"nonselection_glyph\":{\"id\":\"16232\"},\"selection_glyph\":{\"id\":\"16236\"},\"view\":{\"id\":\"16235\"}},\"id\":\"16234\",\"type\":\"GlyphRenderer\"},{\"attributes\":{},\"id\":\"16243\",\"type\":\"AllLabels\"},{\"attributes\":{\"ticks\":[1,2,3,4,5,6,7,8,9,10,11]},\"id\":\"16237\",\"type\":\"FixedTicker\"},{\"attributes\":{\"text\":\"Elbow Curve\",\"text_color\":\"black\",\"text_font_size\":\"12pt\"},\"id\":\"16199\",\"type\":\"Title\"},{\"attributes\":{\"line_alpha\":0.2,\"line_color\":\"#30a2da\",\"line_width\":2,\"x\":{\"field\":\"k_values\"},\"y\":{\"field\":\"inertia\"}},\"id\":\"16233\",\"type\":\"Line\"},{\"attributes\":{\"children\":[{\"id\":\"16318\"},{\"id\":\"16316\"}]},\"id\":\"16319\",\"type\":\"Column\"},{\"attributes\":{\"source\":{\"id\":\"16228\"}},\"id\":\"16235\",\"type\":\"CDSView\"},{\"attributes\":{\"line_color\":\"#30a2da\",\"line_width\":2,\"x\":{\"field\":\"k_values\"},\"y\":{\"field\":\"inertia\"}},\"id\":\"16236\",\"type\":\"Line\"},{\"attributes\":{\"callback\":null,\"renderers\":[{\"id\":\"16234\"}],\"tags\":[\"hv_created\"],\"tooltips\":[[\"k_values\",\"@{k_values}\"],[\"inertia\",\"@{inertia}\"]]},\"id\":\"16197\",\"type\":\"HoverTool\"},{\"attributes\":{\"line_color\":\"#30a2da\",\"line_width\":2,\"x\":{\"field\":\"k\"},\"y\":{\"field\":\"inertia\"}},\"id\":\"16281\",\"type\":\"Line\"},{\"attributes\":{\"margin\":[5,5,5,5],\"name\":\"HSpacer32732\",\"sizing_mode\":\"stretch_width\"},\"id\":\"16482\",\"type\":\"Spacer\"},{\"attributes\":{},\"id\":\"16240\",\"type\":\"BasicTickFormatter\"},{\"attributes\":{\"line_alpha\":0.2,\"line_color\":\"#30a2da\",\"line_width\":2,\"x\":{\"field\":\"k\"},\"y\":{\"field\":\"inertia\"}},\"id\":\"16283\",\"type\":\"Line\"},{\"attributes\":{\"end\":318.8673949991566,\"reset_end\":318.8673949991566,\"reset_start\":-20.069017135151697,\"start\":-20.069017135151697,\"tags\":[[[\"inertia\",\"inertia\",null]]]},\"id\":\"16196\",\"type\":\"Range1d\"},{\"attributes\":{},\"id\":\"16265\",\"type\":\"SaveTool\"},{\"attributes\":{\"axis\":{\"id\":\"16257\"},\"grid_line_color\":null,\"ticker\":null},\"id\":\"16260\",\"type\":\"Grid\"},{\"attributes\":{},\"id\":\"16216\",\"type\":\"PanTool\"},{\"attributes\":{\"data_source\":{\"id\":\"16278\"},\"glyph\":{\"id\":\"16281\"},\"hover_glyph\":null,\"muted_glyph\":{\"id\":\"16283\"},\"nonselection_glyph\":{\"id\":\"16282\"},\"selection_glyph\":{\"id\":\"16286\"},\"view\":{\"id\":\"16285\"}},\"id\":\"16284\",\"type\":\"GlyphRenderer\"},{\"attributes\":{\"line_alpha\":0.1,\"line_color\":\"#30a2da\",\"line_width\":2,\"x\":{\"field\":\"k\"},\"y\":{\"field\":\"inertia\"}},\"id\":\"16282\",\"type\":\"Line\"},{\"attributes\":{\"below\":[{\"id\":\"16257\"}],\"center\":[{\"id\":\"16260\"},{\"id\":\"16264\"}],\"height\":300,\"left\":[{\"id\":\"16261\"}],\"margin\":null,\"min_border_bottom\":10,\"min_border_left\":10,\"min_border_right\":10,\"min_border_top\":10,\"renderers\":[{\"id\":\"16284\"}],\"sizing_mode\":\"fixed\",\"title\":{\"id\":\"16249\"},\"toolbar\":{\"id\":\"16271\"},\"toolbar_location\":null,\"width\":700,\"x_range\":{\"id\":\"16246\"},\"x_scale\":{\"id\":\"16253\"},\"y_range\":{\"id\":\"16196\"},\"y_scale\":{\"id\":\"16255\"}},\"id\":\"16248\",\"subtype\":\"Figure\",\"type\":\"Plot\"},{\"attributes\":{},\"id\":\"16203\",\"type\":\"LinearScale\"},{\"attributes\":{\"source\":{\"id\":\"16278\"}},\"id\":\"16285\",\"type\":\"CDSView\"},{\"attributes\":{},\"id\":\"16205\",\"type\":\"LinearScale\"},{\"attributes\":{\"line_color\":\"#30a2da\",\"line_width\":2,\"x\":{\"field\":\"k\"},\"y\":{\"field\":\"inertia\"}},\"id\":\"16286\",\"type\":\"Line\"},{\"attributes\":{},\"id\":\"16288\",\"type\":\"AllLabels\"},{\"attributes\":{},\"id\":\"16245\",\"type\":\"BasicTickFormatter\"},{\"attributes\":{\"data\":{\"inertia\":{\"__ndarray__\":\"AAAAAADwcUByhzI6P3poQOGRvNowzF5AGe6ulG/BU0BoEQsuWlNQQDozTFiaaUpAgRbl9XUPRkB6f2RDwE5CQJLTP9m5UkBAar8P68A6PECSN1iDBMY3QA==\",\"dtype\":\"float64\",\"order\":\"little\",\"shape\":[11]},\"k_values\":[1,2,3,4,5,6,7,8,9,10,11]},\"selected\":{\"id\":\"16229\"},\"selection_policy\":{\"id\":\"16303\"}},\"id\":\"16228\",\"type\":\"ColumnDataSource\"},{\"attributes\":{\"axis\":{\"id\":\"16207\"},\"grid_line_color\":null,\"ticker\":null},\"id\":\"16210\",\"type\":\"Grid\"},{\"attributes\":{},\"id\":\"16279\",\"type\":\"Selection\"},{\"attributes\":{\"margin\":[5,5,5,5],\"name\":\"HSpacer32731\",\"sizing_mode\":\"stretch_width\"},\"id\":\"16194\",\"type\":\"Spacer\"},{\"attributes\":{\"axis_label\":\"k_values\",\"formatter\":{\"id\":\"16240\"},\"major_label_policy\":{\"id\":\"16238\"},\"ticker\":{\"id\":\"16237\"}},\"id\":\"16207\",\"type\":\"LinearAxis\"},{\"attributes\":{\"axis\":{\"id\":\"16211\"},\"dimension\":1,\"grid_line_color\":null,\"ticker\":null},\"id\":\"16214\",\"type\":\"Grid\"},{\"attributes\":{\"children\":[[{\"id\":\"16198\"},0,0],[{\"id\":\"16248\"},0,1]]},\"id\":\"16316\",\"type\":\"GridBox\"},{\"attributes\":{\"toolbars\":[{\"id\":\"16221\"},{\"id\":\"16271\"}],\"tools\":[{\"id\":\"16197\"},{\"id\":\"16215\"},{\"id\":\"16216\"},{\"id\":\"16217\"},{\"id\":\"16218\"},{\"id\":\"16219\"},{\"id\":\"16247\"},{\"id\":\"16265\"},{\"id\":\"16266\"},{\"id\":\"16267\"},{\"id\":\"16268\"},{\"id\":\"16269\"}]},\"id\":\"16317\",\"type\":\"ProxyToolbar\"},{\"attributes\":{\"axis_label\":\"inertia\",\"formatter\":{\"id\":\"16245\"},\"major_label_policy\":{\"id\":\"16243\"},\"ticker\":{\"id\":\"16212\"}},\"id\":\"16211\",\"type\":\"LinearAxis\"},{\"attributes\":{\"text\":\"Elbow Curve PCA Data\",\"text_color\":\"black\",\"text_font_size\":\"12pt\"},\"id\":\"16249\",\"type\":\"Title\"},{\"attributes\":{},\"id\":\"16212\",\"type\":\"BasicTicker\"},{\"attributes\":{},\"id\":\"16217\",\"type\":\"WheelZoomTool\"},{\"attributes\":{},\"id\":\"16290\",\"type\":\"BasicTickFormatter\"},{\"attributes\":{},\"id\":\"16215\",\"type\":\"SaveTool\"},{\"attributes\":{},\"id\":\"16295\",\"type\":\"BasicTickFormatter\"},{\"attributes\":{\"ticks\":[1,2,3,4,5,6,7,8,9,10,11]},\"id\":\"16287\",\"type\":\"FixedTicker\"},{\"attributes\":{\"overlay\":{\"id\":\"16220\"}},\"id\":\"16218\",\"type\":\"BoxZoomTool\"},{\"attributes\":{\"end\":11.0,\"reset_end\":11.0,\"reset_start\":1.0,\"start\":1.0,\"tags\":[[[\"k\",\"k\",null]]]},\"id\":\"16246\",\"type\":\"Range1d\"},{\"attributes\":{},\"id\":\"16219\",\"type\":\"ResetTool\"},{\"attributes\":{\"data\":{\"inertia\":{\"__ndarray__\":\"jpv4jfYpckAC5GcTRKloQFW5Pcy1NlxA+ywbk7cQRkBTyEKWzX5AQDu3eDHtXzdAnmxHUU4rMUBFzMvnhVIrQMOSxdlkhyZAl/VMtQUrIkDvDqw881kgQA==\",\"dtype\":\"float64\",\"order\":\"little\",\"shape\":[11]},\"k\":[1,2,3,4,5,6,7,8,9,10,11]},\"selected\":{\"id\":\"16279\"},\"selection_policy\":{\"id\":\"16313\"}},\"id\":\"16278\",\"type\":\"ColumnDataSource\"},{\"attributes\":{\"active_multi\":null,\"tools\":[{\"id\":\"16197\"},{\"id\":\"16215\"},{\"id\":\"16216\"},{\"id\":\"16217\"},{\"id\":\"16218\"},{\"id\":\"16219\"}]},\"id\":\"16221\",\"type\":\"Toolbar\"},{\"attributes\":{},\"id\":\"16266\",\"type\":\"PanTool\"},{\"attributes\":{\"callback\":null,\"renderers\":[{\"id\":\"16284\"}],\"tags\":[\"hv_created\"],\"tooltips\":[[\"k\",\"@{k}\"],[\"inertia\",\"@{inertia}\"]]},\"id\":\"16247\",\"type\":\"HoverTool\"},{\"attributes\":{},\"id\":\"16255\",\"type\":\"LinearScale\"},{\"attributes\":{},\"id\":\"16253\",\"type\":\"LinearScale\"},{\"attributes\":{},\"id\":\"16293\",\"type\":\"AllLabels\"},{\"attributes\":{\"axis_label\":\"inertia\",\"formatter\":{\"id\":\"16295\"},\"major_label_policy\":{\"id\":\"16293\"},\"ticker\":{\"id\":\"16262\"}},\"id\":\"16261\",\"type\":\"LinearAxis\"},{\"attributes\":{\"axis\":{\"id\":\"16261\"},\"dimension\":1,\"grid_line_color\":null,\"ticker\":null},\"id\":\"16264\",\"type\":\"Grid\"},{\"attributes\":{\"axis_label\":\"k\",\"formatter\":{\"id\":\"16290\"},\"major_label_policy\":{\"id\":\"16288\"},\"ticker\":{\"id\":\"16287\"}},\"id\":\"16257\",\"type\":\"LinearAxis\"},{\"attributes\":{},\"id\":\"16262\",\"type\":\"BasicTicker\"},{\"attributes\":{\"overlay\":{\"id\":\"16270\"}},\"id\":\"16268\",\"type\":\"BoxZoomTool\"},{\"attributes\":{},\"id\":\"16267\",\"type\":\"WheelZoomTool\"},{\"attributes\":{\"bottom_units\":\"screen\",\"fill_alpha\":0.5,\"fill_color\":\"lightgrey\",\"left_units\":\"screen\",\"level\":\"overlay\",\"line_alpha\":1.0,\"line_color\":\"black\",\"line_dash\":[4,4],\"line_width\":2,\"right_units\":\"screen\",\"syncable\":false,\"top_units\":\"screen\"},\"id\":\"16220\",\"type\":\"BoxAnnotation\"},{\"attributes\":{},\"id\":\"16269\",\"type\":\"ResetTool\"},{\"attributes\":{\"active_multi\":null,\"tools\":[{\"id\":\"16247\"},{\"id\":\"16265\"},{\"id\":\"16266\"},{\"id\":\"16267\"},{\"id\":\"16268\"},{\"id\":\"16269\"}]},\"id\":\"16271\",\"type\":\"Toolbar\"},{\"attributes\":{},\"id\":\"16313\",\"type\":\"UnionRenderers\"},{\"attributes\":{\"toolbar\":{\"id\":\"16317\"},\"toolbar_location\":\"above\"},\"id\":\"16318\",\"type\":\"ToolbarBox\"}],\"root_ids\":[\"16193\"]},\"title\":\"Bokeh Application\",\"version\":\"2.3.3\"}};\n",
       "    var render_items = [{\"docid\":\"855629e9-7ca9-4138-a9fa-002c71ddf1f5\",\"root_ids\":[\"16193\"],\"roots\":{\"16193\":\"6da9883e-c4d4-4305-9b90-4766cbf33afb\"}}];\n",
       "    root.Bokeh.embed.embed_items_notebook(docs_json, render_items);\n",
       "  }\n",
       "  if (root.Bokeh !== undefined && root.Bokeh.Panel !== undefined) {\n",
       "    embed_document(root);\n",
       "  } else {\n",
       "    var attempts = 0;\n",
       "    var timer = setInterval(function(root) {\n",
       "      if (root.Bokeh !== undefined && root.Bokeh.Panel !== undefined) {\n",
       "        clearInterval(timer);\n",
       "        embed_document(root);\n",
       "      } else if (document.readyState == \"complete\") {\n",
       "        attempts++;\n",
       "        if (attempts > 200) {\n",
       "          clearInterval(timer);\n",
       "          console.log(\"Bokeh: ERROR: Unable to run BokehJS code because BokehJS library is missing\");\n",
       "        }\n",
       "      }\n",
       "    }, 25, root)\n",
       "  }\n",
       "})(window);</script>"
      ]
     },
     "metadata": {
      "application/vnd.holoviews_exec.v0+json": {
       "id": "16193"
      }
     },
     "execution_count": 405
    }
   ],
   "metadata": {}
  },
  {
   "cell_type": "code",
   "execution_count": 407,
   "source": [
    "# Compoosite plot to contrast the clusters\r\n",
    "plot_scatter + plot_scatter1"
   ],
   "outputs": [
    {
     "output_type": "display_data",
     "data": {},
     "metadata": {}
    },
    {
     "output_type": "execute_result",
     "data": {
      "application/vnd.holoviews_exec.v0+json": "",
      "text/plain": [
       ":Layout\n",
       "   .NdOverlay.I  :NdOverlay   [predicted_cluster]\n",
       "      :Scatter   [price_change_percentage_24h]   (price_change_percentage_7d,coin_id)\n",
       "   .NdOverlay.II :NdOverlay   [coin_id]\n",
       "      :Scatter   [PCA1]   (PCA2)"
      ],
      "text/html": [
       "<div id='16574'>\n",
       "\n",
       "\n",
       "\n",
       "\n",
       "\n",
       "  <div class=\"bk-root\" id=\"50b44fe2-7f3d-44ea-9735-afb43507371d\" data-root-id=\"16574\"></div>\n",
       "</div>\n",
       "<script type=\"application/javascript\">(function(root) {\n",
       "  function embed_document(root) {\n",
       "    var docs_json = {\"06f777cd-e547-4ae7-9a29-4ba6d790166e\":{\"defs\":[{\"extends\":null,\"module\":null,\"name\":\"ReactiveHTML1\",\"overrides\":[],\"properties\":[]},{\"extends\":null,\"module\":null,\"name\":\"FlexBox1\",\"overrides\":[],\"properties\":[{\"default\":\"flex-start\",\"kind\":null,\"name\":\"align_content\"},{\"default\":\"flex-start\",\"kind\":null,\"name\":\"align_items\"},{\"default\":\"row\",\"kind\":null,\"name\":\"flex_direction\"},{\"default\":\"wrap\",\"kind\":null,\"name\":\"flex_wrap\"},{\"default\":\"flex-start\",\"kind\":null,\"name\":\"justify_content\"}]},{\"extends\":null,\"module\":null,\"name\":\"TemplateActions1\",\"overrides\":[],\"properties\":[{\"default\":0,\"kind\":null,\"name\":\"open_modal\"},{\"default\":0,\"kind\":null,\"name\":\"close_modal\"}]},{\"extends\":null,\"module\":null,\"name\":\"MaterialTemplateActions1\",\"overrides\":[],\"properties\":[{\"default\":0,\"kind\":null,\"name\":\"open_modal\"},{\"default\":0,\"kind\":null,\"name\":\"close_modal\"}]}],\"roots\":{\"references\":[{\"attributes\":{\"fill_alpha\":{\"value\":0.1},\"fill_color\":{\"value\":\"#17becf\"},\"line_alpha\":{\"value\":0.1},\"line_color\":{\"value\":\"#17becf\"},\"size\":{\"value\":5.477225575051661},\"x\":{\"field\":\"PCA1\"},\"y\":{\"field\":\"PCA2\"}},\"id\":\"16997\",\"type\":\"Scatter\"},{\"attributes\":{\"fill_alpha\":{\"value\":0.2},\"fill_color\":{\"value\":\"#17becf\"},\"line_alpha\":{\"value\":0.2},\"line_color\":{\"value\":\"#17becf\"},\"size\":{\"value\":5.477225575051661},\"x\":{\"field\":\"PCA1\"},\"y\":{\"field\":\"PCA2\"}},\"id\":\"16998\",\"type\":\"Scatter\"},{\"attributes\":{\"data_source\":{\"id\":\"16993\"},\"glyph\":{\"id\":\"16996\"},\"hover_glyph\":null,\"muted_glyph\":{\"id\":\"16998\"},\"nonselection_glyph\":{\"id\":\"16997\"},\"selection_glyph\":{\"id\":\"17022\"},\"view\":{\"id\":\"17000\"}},\"id\":\"16999\",\"type\":\"GlyphRenderer\"},{\"attributes\":{\"bottom_units\":\"screen\",\"fill_alpha\":0.5,\"fill_color\":\"lightgrey\",\"left_units\":\"screen\",\"level\":\"overlay\",\"line_alpha\":1.0,\"line_color\":\"black\",\"line_dash\":[4,4],\"line_width\":2,\"right_units\":\"screen\",\"syncable\":false,\"top_units\":\"screen\"},\"id\":\"16858\",\"type\":\"BoxAnnotation\"},{\"attributes\":{\"source\":{\"id\":\"16993\"}},\"id\":\"17000\",\"type\":\"CDSView\"},{\"attributes\":{\"label\":{\"value\":\"5\"},\"renderers\":[{\"id\":\"16999\"}]},\"id\":\"17021\",\"type\":\"LegendItem\"},{\"attributes\":{},\"id\":\"16961\",\"type\":\"UnionRenderers\"},{\"attributes\":{},\"id\":\"17024\",\"type\":\"Selection\"},{\"attributes\":{\"fill_alpha\":{\"value\":0.1},\"fill_color\":{\"value\":\"#e5ae38\"},\"line_alpha\":{\"value\":0.1},\"line_color\":{\"value\":\"#e5ae38\"},\"size\":{\"value\":5.477225575051661},\"x\":{\"field\":\"PCA1\"},\"y\":{\"field\":\"PCA2\"}},\"id\":\"16919\",\"type\":\"Scatter\"},{\"attributes\":{},\"id\":\"16916\",\"type\":\"Selection\"},{\"attributes\":{\"angle\":{\"value\":0.0},\"fill_alpha\":{\"value\":1.0},\"fill_color\":{\"value\":\"#fc4f30\"},\"hatch_alpha\":{\"value\":1.0},\"hatch_color\":{\"value\":\"black\"},\"hatch_scale\":{\"value\":12.0},\"hatch_weight\":{\"value\":1.0},\"line_alpha\":{\"value\":1.0},\"line_cap\":{\"value\":\"butt\"},\"line_color\":{\"value\":\"#fc4f30\"},\"line_dash\":{\"value\":[]},\"line_dash_offset\":{\"value\":0},\"line_join\":{\"value\":\"bevel\"},\"line_width\":{\"value\":1},\"marker\":{\"value\":\"circle\"},\"size\":{\"value\":5.477225575051661},\"x\":{\"field\":\"PCA1\"},\"y\":{\"field\":\"PCA2\"}},\"id\":\"16914\",\"type\":\"Scatter\"},{\"attributes\":{},\"id\":\"16707\",\"type\":\"UnionRenderers\"},{\"attributes\":{\"source\":{\"id\":\"16915\"}},\"id\":\"16922\",\"type\":\"CDSView\"},{\"attributes\":{\"end\":6.808821414630454,\"reset_end\":6.808821414630454,\"reset_start\":-2.1783449488644253,\"start\":-2.1783449488644253,\"tags\":[[[\"PCA1\",\"PCA1\",null]]]},\"id\":\"16823\",\"type\":\"Range1d\"},{\"attributes\":{\"fill_color\":{\"value\":\"#e5ae38\"},\"line_color\":{\"value\":\"#e5ae38\"},\"size\":{\"value\":5.477225575051661},\"x\":{\"field\":\"PCA1\"},\"y\":{\"field\":\"PCA2\"}},\"id\":\"16918\",\"type\":\"Scatter\"},{\"attributes\":{},\"id\":\"16846\",\"type\":\"BasicTicker\"},{\"attributes\":{\"angle\":{\"value\":0.0},\"fill_alpha\":{\"value\":1.0},\"fill_color\":{\"value\":\"#fc4f30\"},\"hatch_alpha\":{\"value\":1.0},\"hatch_color\":{\"value\":\"black\"},\"hatch_scale\":{\"value\":12.0},\"hatch_weight\":{\"value\":1.0},\"line_alpha\":{\"value\":1.0},\"line_cap\":{\"value\":\"butt\"},\"line_color\":{\"value\":\"#fc4f30\"},\"line_dash\":{\"value\":[]},\"line_dash_offset\":{\"value\":0},\"line_join\":{\"value\":\"bevel\"},\"line_width\":{\"value\":1},\"marker\":{\"value\":\"circle\"},\"size\":{\"value\":5.477225575051661},\"x\":{\"field\":\"price_change_percentage_24h\"},\"y\":{\"field\":\"price_change_percentage_7d\"}},\"id\":\"16660\",\"type\":\"Scatter\"},{\"attributes\":{},\"id\":\"17019\",\"type\":\"UnionRenderers\"},{\"attributes\":{\"fill_alpha\":{\"value\":0.2},\"fill_color\":{\"value\":\"#e5ae38\"},\"line_alpha\":{\"value\":0.2},\"line_color\":{\"value\":\"#e5ae38\"},\"size\":{\"value\":5.477225575051661},\"x\":{\"field\":\"price_change_percentage_24h\"},\"y\":{\"field\":\"price_change_percentage_7d\"}},\"id\":\"16666\",\"type\":\"Scatter\"},{\"attributes\":{},\"id\":\"16888\",\"type\":\"UnionRenderers\"},{\"attributes\":{\"label\":{\"value\":\"6\"},\"renderers\":[{\"id\":\"17029\"}]},\"id\":\"17053\",\"type\":\"LegendItem\"},{\"attributes\":{\"fill_alpha\":{\"value\":0.1},\"fill_color\":{\"value\":\"#6d904f\"},\"line_alpha\":{\"value\":0.1},\"line_color\":{\"value\":\"#6d904f\"},\"size\":{\"value\":5.477225575051661},\"x\":{\"field\":\"PCA1\"},\"y\":{\"field\":\"PCA2\"}},\"id\":\"16943\",\"type\":\"Scatter\"},{\"attributes\":{\"fill_alpha\":{\"value\":0.2},\"fill_color\":{\"value\":\"#e5ae38\"},\"line_alpha\":{\"value\":0.2},\"line_color\":{\"value\":\"#e5ae38\"},\"size\":{\"value\":5.477225575051661},\"x\":{\"field\":\"PCA1\"},\"y\":{\"field\":\"PCA2\"}},\"id\":\"16920\",\"type\":\"Scatter\"},{\"attributes\":{\"fill_alpha\":{\"value\":0.1},\"fill_color\":{\"value\":\"#8b8b8b\"},\"line_alpha\":{\"value\":0.1},\"line_color\":{\"value\":\"#8b8b8b\"},\"size\":{\"value\":5.477225575051661},\"x\":{\"field\":\"PCA1\"},\"y\":{\"field\":\"PCA2\"}},\"id\":\"16969\",\"type\":\"Scatter\"},{\"attributes\":{},\"id\":\"16866\",\"type\":\"AllLabels\"},{\"attributes\":{\"angle\":{\"value\":0.0},\"fill_alpha\":{\"value\":1.0},\"fill_color\":{\"value\":\"#6d904f\"},\"hatch_alpha\":{\"value\":1.0},\"hatch_color\":{\"value\":\"black\"},\"hatch_scale\":{\"value\":12.0},\"hatch_weight\":{\"value\":1.0},\"line_alpha\":{\"value\":1.0},\"line_cap\":{\"value\":\"butt\"},\"line_color\":{\"value\":\"#6d904f\"},\"line_dash\":{\"value\":[]},\"line_dash_offset\":{\"value\":0},\"line_join\":{\"value\":\"bevel\"},\"line_width\":{\"value\":1},\"marker\":{\"value\":\"circle\"},\"size\":{\"value\":5.477225575051661},\"x\":{\"field\":\"PCA1\"},\"y\":{\"field\":\"PCA2\"}},\"id\":\"16964\",\"type\":\"Scatter\"},{\"attributes\":{\"label\":{\"value\":\"2\"},\"renderers\":[{\"id\":\"16921\"}]},\"id\":\"16937\",\"type\":\"LegendItem\"},{\"attributes\":{\"data_source\":{\"id\":\"16915\"},\"glyph\":{\"id\":\"16918\"},\"hover_glyph\":null,\"muted_glyph\":{\"id\":\"16920\"},\"nonselection_glyph\":{\"id\":\"16919\"},\"selection_glyph\":{\"id\":\"16938\"},\"view\":{\"id\":\"16922\"}},\"id\":\"16921\",\"type\":\"GlyphRenderer\"},{\"attributes\":{\"data\":{\"PCA1\":{\"__ndarray__\":\"WMpXk0IyGEA=\",\"dtype\":\"float64\",\"order\":\"little\",\"shape\":[1]},\"PCA2\":{\"__ndarray__\":\"B1cBIhEiHEA=\",\"dtype\":\"float64\",\"order\":\"little\",\"shape\":[1]},\"coin_id\":[1]},\"selected\":{\"id\":\"16894\"},\"selection_policy\":{\"id\":\"16911\"}},\"id\":\"16893\",\"type\":\"ColumnDataSource\"},{\"attributes\":{\"data_source\":{\"id\":\"16661\"},\"glyph\":{\"id\":\"16664\"},\"hover_glyph\":null,\"muted_glyph\":{\"id\":\"16666\"},\"nonselection_glyph\":{\"id\":\"16665\"},\"selection_glyph\":{\"id\":\"16684\"},\"view\":{\"id\":\"16668\"}},\"id\":\"16667\",\"type\":\"GlyphRenderer\"},{\"attributes\":{},\"id\":\"16966\",\"type\":\"Selection\"},{\"attributes\":{},\"id\":\"16868\",\"type\":\"BasicTickFormatter\"},{\"attributes\":{},\"id\":\"16850\",\"type\":\"BasicTicker\"},{\"attributes\":{\"margin\":[5,5,5,5],\"name\":\"HSpacer33016\",\"sizing_mode\":\"stretch_width\"},\"id\":\"16575\",\"type\":\"Spacer\"},{\"attributes\":{},\"id\":\"16871\",\"type\":\"BasicTickFormatter\"},{\"attributes\":{\"source\":{\"id\":\"16965\"}},\"id\":\"16972\",\"type\":\"CDSView\"},{\"attributes\":{\"fill_alpha\":{\"value\":0.2},\"fill_color\":{\"value\":\"#30a2da\"},\"line_alpha\":{\"value\":0.2},\"line_color\":{\"value\":\"#30a2da\"},\"size\":{\"value\":5.477225575051661},\"x\":{\"field\":\"PCA1\"},\"y\":{\"field\":\"PCA2\"}},\"id\":\"16877\",\"type\":\"Scatter\"},{\"attributes\":{\"fill_color\":{\"value\":\"#8b8b8b\"},\"line_color\":{\"value\":\"#8b8b8b\"},\"size\":{\"value\":5.477225575051661},\"x\":{\"field\":\"PCA1\"},\"y\":{\"field\":\"PCA2\"}},\"id\":\"16968\",\"type\":\"Scatter\"},{\"attributes\":{},\"id\":\"16662\",\"type\":\"Selection\"},{\"attributes\":{\"fill_alpha\":{\"value\":0.2},\"fill_color\":{\"value\":\"#8b8b8b\"},\"line_alpha\":{\"value\":0.2},\"line_color\":{\"value\":\"#8b8b8b\"},\"size\":{\"value\":5.477225575051661},\"x\":{\"field\":\"PCA1\"},\"y\":{\"field\":\"PCA2\"}},\"id\":\"16970\",\"type\":\"Scatter\"},{\"attributes\":{\"source\":{\"id\":\"16661\"}},\"id\":\"16668\",\"type\":\"CDSView\"},{\"attributes\":{\"angle\":{\"value\":0.0},\"fill_alpha\":{\"value\":1.0},\"fill_color\":{\"value\":\"#6d904f\"},\"hatch_alpha\":{\"value\":1.0},\"hatch_color\":{\"value\":\"black\"},\"hatch_scale\":{\"value\":12.0},\"hatch_weight\":{\"value\":1.0},\"line_alpha\":{\"value\":1.0},\"line_cap\":{\"value\":\"butt\"},\"line_color\":{\"value\":\"#6d904f\"},\"line_dash\":{\"value\":[]},\"line_dash_offset\":{\"value\":0},\"line_join\":{\"value\":\"bevel\"},\"line_width\":{\"value\":1},\"marker\":{\"value\":\"circle\"},\"size\":{\"value\":5.477225575051661},\"x\":{\"field\":\"price_change_percentage_24h\"},\"y\":{\"field\":\"price_change_percentage_7d\"}},\"id\":\"16710\",\"type\":\"Scatter\"},{\"attributes\":{},\"id\":\"16935\",\"type\":\"UnionRenderers\"},{\"attributes\":{\"children\":[{\"id\":\"16575\"},{\"id\":\"17464\"},{\"id\":\"17879\"}],\"margin\":[0,0,0,0],\"name\":\"Row33012\",\"tags\":[\"embedded\"]},\"id\":\"16574\",\"type\":\"Row\"},{\"attributes\":{\"fill_color\":{\"value\":\"#9467bd\"},\"line_color\":{\"value\":\"#9467bd\"},\"size\":{\"value\":5.477225575051661},\"x\":{\"field\":\"PCA1\"},\"y\":{\"field\":\"PCA2\"}},\"id\":\"17026\",\"type\":\"Scatter\"},{\"attributes\":{\"label\":{\"value\":\"4\"},\"renderers\":[{\"id\":\"16971\"}]},\"id\":\"16991\",\"type\":\"LegendItem\"},{\"attributes\":{\"data_source\":{\"id\":\"16965\"},\"glyph\":{\"id\":\"16968\"},\"hover_glyph\":null,\"muted_glyph\":{\"id\":\"16970\"},\"nonselection_glyph\":{\"id\":\"16969\"},\"selection_glyph\":{\"id\":\"16992\"},\"view\":{\"id\":\"16972\"}},\"id\":\"16971\",\"type\":\"GlyphRenderer\"},{\"attributes\":{},\"id\":\"16681\",\"type\":\"UnionRenderers\"},{\"attributes\":{\"fill_alpha\":{\"value\":0.2},\"fill_color\":{\"value\":\"#fc4f30\"},\"line_alpha\":{\"value\":0.2},\"line_color\":{\"value\":\"#fc4f30\"},\"size\":{\"value\":5.477225575051661},\"x\":{\"field\":\"PCA1\"},\"y\":{\"field\":\"PCA2\"}},\"id\":\"16898\",\"type\":\"Scatter\"},{\"attributes\":{\"angle\":{\"value\":0.0},\"fill_alpha\":{\"value\":1.0},\"fill_color\":{\"value\":\"#17becf\"},\"hatch_alpha\":{\"value\":1.0},\"hatch_color\":{\"value\":\"black\"},\"hatch_scale\":{\"value\":12.0},\"hatch_weight\":{\"value\":1.0},\"line_alpha\":{\"value\":1.0},\"line_cap\":{\"value\":\"butt\"},\"line_color\":{\"value\":\"#17becf\"},\"line_dash\":{\"value\":[]},\"line_dash_offset\":{\"value\":0},\"line_join\":{\"value\":\"bevel\"},\"line_width\":{\"value\":1},\"marker\":{\"value\":\"circle\"},\"size\":{\"value\":5.477225575051661},\"x\":{\"field\":\"PCA1\"},\"y\":{\"field\":\"PCA2\"}},\"id\":\"17022\",\"type\":\"Scatter\"},{\"attributes\":{},\"id\":\"16869\",\"type\":\"AllLabels\"},{\"attributes\":{\"axis_label\":\"price_change_percentage_24h\",\"formatter\":{\"id\":\"16868\"},\"major_label_policy\":{\"id\":\"16866\"},\"ticker\":{\"id\":\"16846\"}},\"id\":\"16845\",\"type\":\"LinearAxis\"},{\"attributes\":{\"text_color\":\"black\",\"text_font_size\":\"12pt\"},\"id\":\"16837\",\"type\":\"Title\"},{\"attributes\":{\"label\":{\"value\":\"2\"},\"renderers\":[{\"id\":\"16667\"}]},\"id\":\"16683\",\"type\":\"LegendItem\"},{\"attributes\":{\"fill_alpha\":{\"value\":0.1},\"fill_color\":{\"value\":\"#30a2da\"},\"line_alpha\":{\"value\":0.1},\"line_color\":{\"value\":\"#30a2da\"},\"size\":{\"value\":5.477225575051661},\"x\":{\"field\":\"PCA1\"},\"y\":{\"field\":\"PCA2\"}},\"id\":\"16876\",\"type\":\"Scatter\"},{\"attributes\":{\"data_source\":{\"id\":\"16872\"},\"glyph\":{\"id\":\"16875\"},\"hover_glyph\":null,\"muted_glyph\":{\"id\":\"16877\"},\"nonselection_glyph\":{\"id\":\"16876\"},\"selection_glyph\":{\"id\":\"16892\"},\"view\":{\"id\":\"16879\"}},\"id\":\"16878\",\"type\":\"GlyphRenderer\"},{\"attributes\":{\"data\":{\"PCA1\":{\"__ndarray__\":\"yK8bYPbQGUA=\",\"dtype\":\"float64\",\"order\":\"little\",\"shape\":[1]},\"PCA2\":{\"__ndarray__\":\"0e1eFJGWBsA=\",\"dtype\":\"float64\",\"order\":\"little\",\"shape\":[1]},\"coin_id\":[3]},\"selected\":{\"id\":\"16940\"},\"selection_policy\":{\"id\":\"16961\"}},\"id\":\"16939\",\"type\":\"ColumnDataSource\"},{\"attributes\":{\"angle\":{\"value\":0.0},\"fill_alpha\":{\"value\":1.0},\"fill_color\":{\"value\":\"#30a2da\"},\"hatch_alpha\":{\"value\":1.0},\"hatch_color\":{\"value\":\"black\"},\"hatch_scale\":{\"value\":12.0},\"hatch_weight\":{\"value\":1.0},\"line_alpha\":{\"value\":1.0},\"line_cap\":{\"value\":\"butt\"},\"line_color\":{\"value\":\"#30a2da\"},\"line_dash\":{\"value\":[]},\"line_dash_offset\":{\"value\":0},\"line_join\":{\"value\":\"bevel\"},\"line_width\":{\"value\":1},\"marker\":{\"value\":\"circle\"},\"size\":{\"value\":5.477225575051661},\"x\":{\"field\":\"PCA1\"},\"y\":{\"field\":\"PCA2\"}},\"id\":\"16892\",\"type\":\"Scatter\"},{\"attributes\":{\"fill_color\":{\"value\":\"#30a2da\"},\"line_color\":{\"value\":\"#30a2da\"},\"size\":{\"value\":5.477225575051661},\"x\":{\"field\":\"PCA1\"},\"y\":{\"field\":\"PCA2\"}},\"id\":\"16875\",\"type\":\"Scatter\"},{\"attributes\":{},\"id\":\"16989\",\"type\":\"UnionRenderers\"},{\"attributes\":{},\"id\":\"16873\",\"type\":\"Selection\"},{\"attributes\":{\"end\":8.018947220210707,\"reset_end\":8.018947220210707,\"reset_start\":-3.8091976434658825,\"start\":-3.8091976434658825,\"tags\":[[[\"PCA2\",\"PCA2\",null]]]},\"id\":\"16824\",\"type\":\"Range1d\"},{\"attributes\":{\"data\":{\"PCA1\":{\"__ndarray__\":\"sdV0a+i63D8S/lwuGLTfP97aVTsAj9A/cxZHrGa5xL+cTDgaxtPbPwcgZMTP2+E/qtfqoUOp0z8=\",\"dtype\":\"float64\",\"order\":\"little\",\"shape\":[7]},\"PCA2\":{\"__ndarray__\":\"0kc0Gw/t8793MiiYWcvsv2DSLUPfTO6/yVcjbdvl07+xzka4WLjzv6IXJwOQdO2/XyxoqrQa4r8=\",\"dtype\":\"float64\",\"order\":\"little\",\"shape\":[7]},\"coin_id\":[8,8,8,8,8,8,8]},\"selected\":{\"id\":\"17090\"},\"selection_policy\":{\"id\":\"17121\"}},\"id\":\"17089\",\"type\":\"ColumnDataSource\"},{\"attributes\":{\"source\":{\"id\":\"16872\"}},\"id\":\"16879\",\"type\":\"CDSView\"},{\"attributes\":{\"fill_alpha\":{\"value\":0.1},\"fill_color\":{\"value\":\"#9467bd\"},\"line_alpha\":{\"value\":0.1},\"line_color\":{\"value\":\"#9467bd\"},\"size\":{\"value\":5.477225575051661},\"x\":{\"field\":\"PCA1\"},\"y\":{\"field\":\"PCA2\"}},\"id\":\"17027\",\"type\":\"Scatter\"},{\"attributes\":{\"callback\":null,\"renderers\":[{\"id\":\"16878\"},{\"id\":\"16899\"},{\"id\":\"16921\"},{\"id\":\"16945\"},{\"id\":\"16971\"},{\"id\":\"16999\"},{\"id\":\"17029\"},{\"id\":\"17061\"},{\"id\":\"17095\"},{\"id\":\"17131\"},{\"id\":\"17169\"}],\"tags\":[\"hv_created\"],\"tooltips\":[[\"coin_id\",\"@{coin_id}\"],[\"PCA1\",\"@{PCA1}\"],[\"PCA2\",\"@{PCA2}\"]]},\"id\":\"16825\",\"type\":\"HoverTool\"},{\"attributes\":{\"click_policy\":\"mute\",\"items\":[{\"id\":\"16891\"},{\"id\":\"16913\"},{\"id\":\"16937\"},{\"id\":\"16963\"},{\"id\":\"16991\"},{\"id\":\"17021\"},{\"id\":\"17053\"},{\"id\":\"17087\"},{\"id\":\"17123\"},{\"id\":\"17161\"},{\"id\":\"17201\"}],\"location\":[0,0],\"title\":\"coin_id\"},\"id\":\"16890\",\"type\":\"Legend\"},{\"attributes\":{\"fill_alpha\":{\"value\":0.2},\"fill_color\":{\"value\":\"#9467bd\"},\"line_alpha\":{\"value\":0.2},\"line_color\":{\"value\":\"#9467bd\"},\"size\":{\"value\":5.477225575051661},\"x\":{\"field\":\"PCA1\"},\"y\":{\"field\":\"PCA2\"}},\"id\":\"17028\",\"type\":\"Scatter\"},{\"attributes\":{\"label\":{\"value\":\"0\"},\"renderers\":[{\"id\":\"16878\"}]},\"id\":\"16891\",\"type\":\"LegendItem\"},{\"attributes\":{},\"id\":\"16940\",\"type\":\"Selection\"},{\"attributes\":{\"data_source\":{\"id\":\"17023\"},\"glyph\":{\"id\":\"17026\"},\"hover_glyph\":null,\"muted_glyph\":{\"id\":\"17028\"},\"nonselection_glyph\":{\"id\":\"17027\"},\"selection_glyph\":{\"id\":\"17054\"},\"view\":{\"id\":\"17030\"}},\"id\":\"17029\",\"type\":\"GlyphRenderer\"},{\"attributes\":{\"fill_color\":{\"value\":\"#6d904f\"},\"line_color\":{\"value\":\"#6d904f\"},\"size\":{\"value\":5.477225575051661},\"x\":{\"field\":\"PCA1\"},\"y\":{\"field\":\"PCA2\"}},\"id\":\"16942\",\"type\":\"Scatter\"},{\"attributes\":{\"source\":{\"id\":\"16939\"}},\"id\":\"16946\",\"type\":\"CDSView\"},{\"attributes\":{\"angle\":{\"value\":0.0},\"fill_alpha\":{\"value\":1.0},\"fill_color\":{\"value\":\"#e5ae38\"},\"hatch_alpha\":{\"value\":1.0},\"hatch_color\":{\"value\":\"black\"},\"hatch_scale\":{\"value\":12.0},\"hatch_weight\":{\"value\":1.0},\"line_alpha\":{\"value\":1.0},\"line_cap\":{\"value\":\"butt\"},\"line_color\":{\"value\":\"#e5ae38\"},\"line_dash\":{\"value\":[]},\"line_dash_offset\":{\"value\":0},\"line_join\":{\"value\":\"bevel\"},\"line_width\":{\"value\":1},\"marker\":{\"value\":\"circle\"},\"size\":{\"value\":5.477225575051661},\"x\":{\"field\":\"PCA1\"},\"y\":{\"field\":\"PCA2\"}},\"id\":\"16938\",\"type\":\"Scatter\"},{\"attributes\":{\"angle\":{\"value\":0.0},\"fill_alpha\":{\"value\":1.0},\"fill_color\":{\"value\":\"#e5ae38\"},\"hatch_alpha\":{\"value\":1.0},\"hatch_color\":{\"value\":\"black\"},\"hatch_scale\":{\"value\":12.0},\"hatch_weight\":{\"value\":1.0},\"line_alpha\":{\"value\":1.0},\"line_cap\":{\"value\":\"butt\"},\"line_color\":{\"value\":\"#e5ae38\"},\"line_dash\":{\"value\":[]},\"line_dash_offset\":{\"value\":0},\"line_join\":{\"value\":\"bevel\"},\"line_width\":{\"value\":1},\"marker\":{\"value\":\"circle\"},\"size\":{\"value\":5.477225575051661},\"x\":{\"field\":\"price_change_percentage_24h\"},\"y\":{\"field\":\"price_change_percentage_7d\"}},\"id\":\"16684\",\"type\":\"Scatter\"},{\"attributes\":{},\"id\":\"17051\",\"type\":\"UnionRenderers\"},{\"attributes\":{\"below\":[{\"id\":\"16845\"}],\"center\":[{\"id\":\"16848\"},{\"id\":\"16852\"}],\"height\":300,\"left\":[{\"id\":\"16849\"}],\"margin\":null,\"min_border_bottom\":10,\"min_border_left\":10,\"min_border_right\":10,\"min_border_top\":10,\"renderers\":[{\"id\":\"16878\"},{\"id\":\"16899\"},{\"id\":\"16921\"},{\"id\":\"16945\"},{\"id\":\"16971\"},{\"id\":\"16999\"},{\"id\":\"17029\"},{\"id\":\"17061\"},{\"id\":\"17095\"},{\"id\":\"17131\"},{\"id\":\"17169\"}],\"right\":[{\"id\":\"16890\"}],\"sizing_mode\":\"fixed\",\"title\":{\"id\":\"16837\"},\"toolbar\":{\"id\":\"16859\"},\"toolbar_location\":null,\"width\":700,\"x_range\":{\"id\":\"16823\"},\"x_scale\":{\"id\":\"16841\"},\"y_range\":{\"id\":\"16824\"},\"y_scale\":{\"id\":\"16843\"}},\"id\":\"16836\",\"subtype\":\"Figure\",\"type\":\"Plot\"},{\"attributes\":{\"fill_alpha\":{\"value\":0.1},\"fill_color\":{\"value\":\"#6d904f\"},\"line_alpha\":{\"value\":0.1},\"line_color\":{\"value\":\"#6d904f\"},\"size\":{\"value\":5.477225575051661},\"x\":{\"field\":\"price_change_percentage_24h\"},\"y\":{\"field\":\"price_change_percentage_7d\"}},\"id\":\"16689\",\"type\":\"Scatter\"},{\"attributes\":{},\"id\":\"16911\",\"type\":\"UnionRenderers\"},{\"attributes\":{\"data\":{\"PCA1\":{\"__ndarray__\":\"r681oQfQ9b8PaRyKUOfvv40e1Fb28Py/RfHYAmst/b8=\",\"dtype\":\"float64\",\"order\":\"little\",\"shape\":[4]},\"PCA2\":{\"__ndarray__\":\"MFJB1PLs8z+4oOcIYq70P2e8knjjUvg/jiZSXfH8+D8=\",\"dtype\":\"float64\",\"order\":\"little\",\"shape\":[4]},\"coin_id\":[6,6,6,6]},\"selected\":{\"id\":\"17024\"},\"selection_policy\":{\"id\":\"17051\"}},\"id\":\"17023\",\"type\":\"ColumnDataSource\"},{\"attributes\":{\"data\":{\"PCA1\":{\"__ndarray__\":\"6cP86/sz6r/iLeyVNOTqvzTV6kYPEPC/RWXOTqGU6r83s/vH1Sryv69EgJooQ+S/R9OID0ey77+UhnySe/7rv3SipF/GKfK/I2RbxfzD8b94Sju6r0bov7ElPqzAb+q/3qHCqR718L+BYR0MBrvsv30h2gm0Fe2/zQ599pUN5r/BCQ/ndFjqv+vPW/NPqei/\",\"dtype\":\"float64\",\"order\":\"little\",\"shape\":[18]},\"PCA2\":{\"__ndarray__\":\"pGopk/pnsj/fHxtibH60P/qt18Gqkb6/7McX2Fy5sz9d826jdPDFP22/vdQ1UZG/q6gtAcrK3D/fY8matUuCP6RcQPb8WOk/SQaIJopM4T9/ALPI8RW4P8MWvMOkH6k/6iFtdNrXuD95CLMFwz/BP+/sHvIKerg/TSuGRuc/0L+P4a7ls8KfP3GL3qqXBcg/\",\"dtype\":\"float64\",\"order\":\"little\",\"shape\":[18]},\"coin_id\":[0,0,0,0,0,0,0,0,0,0,0,0,0,0,0,0,0,0]},\"selected\":{\"id\":\"16873\"},\"selection_policy\":{\"id\":\"16888\"}},\"id\":\"16872\",\"type\":\"ColumnDataSource\"},{\"attributes\":{\"data\":{\"PCA1\":{\"__ndarray__\":\"Lmz2o0E64L8=\",\"dtype\":\"float64\",\"order\":\"little\",\"shape\":[1]},\"PCA2\":{\"__ndarray__\":\"I/mZIWZDA0A=\",\"dtype\":\"float64\",\"order\":\"little\",\"shape\":[1]},\"coin_id\":[5]},\"selected\":{\"id\":\"16994\"},\"selection_policy\":{\"id\":\"17019\"}},\"id\":\"16993\",\"type\":\"ColumnDataSource\"},{\"attributes\":{\"fill_color\":{\"value\":\"#17becf\"},\"line_color\":{\"value\":\"#17becf\"},\"size\":{\"value\":5.477225575051661},\"x\":{\"field\":\"PCA1\"},\"y\":{\"field\":\"PCA2\"}},\"id\":\"16996\",\"type\":\"Scatter\"},{\"attributes\":{\"data\":{\"PCA1\":{\"__ndarray__\":\"A7XWV1J/zD/AXoG0P0XOvw==\",\"dtype\":\"float64\",\"order\":\"little\",\"shape\":[2]},\"PCA2\":{\"__ndarray__\":\"GIHf9IJ/tT/KwlH7MEeyvw==\",\"dtype\":\"float64\",\"order\":\"little\",\"shape\":[2]},\"coin_id\":[9,9]},\"selected\":{\"id\":\"17126\"},\"selection_policy\":{\"id\":\"17159\"}},\"id\":\"17125\",\"type\":\"ColumnDataSource\"},{\"attributes\":{\"fill_alpha\":{\"value\":0.2},\"fill_color\":{\"value\":\"#6d904f\"},\"line_alpha\":{\"value\":0.2},\"line_color\":{\"value\":\"#6d904f\"},\"size\":{\"value\":5.477225575051661},\"x\":{\"field\":\"PCA1\"},\"y\":{\"field\":\"PCA2\"}},\"id\":\"16944\",\"type\":\"Scatter\"},{\"attributes\":{},\"id\":\"16841\",\"type\":\"LinearScale\"},{\"attributes\":{\"fill_alpha\":{\"value\":0.2},\"fill_color\":{\"value\":\"#6d904f\"},\"line_alpha\":{\"value\":0.2},\"line_color\":{\"value\":\"#6d904f\"},\"size\":{\"value\":5.477225575051661},\"x\":{\"field\":\"price_change_percentage_24h\"},\"y\":{\"field\":\"price_change_percentage_7d\"}},\"id\":\"16690\",\"type\":\"Scatter\"},{\"attributes\":{\"angle\":{\"value\":0.0},\"fill_alpha\":{\"value\":1.0},\"fill_color\":{\"value\":\"#8b8b8b\"},\"hatch_alpha\":{\"value\":1.0},\"hatch_color\":{\"value\":\"black\"},\"hatch_scale\":{\"value\":12.0},\"hatch_weight\":{\"value\":1.0},\"line_alpha\":{\"value\":1.0},\"line_cap\":{\"value\":\"butt\"},\"line_color\":{\"value\":\"#8b8b8b\"},\"line_dash\":{\"value\":[]},\"line_dash_offset\":{\"value\":0},\"line_join\":{\"value\":\"bevel\"},\"line_width\":{\"value\":1},\"marker\":{\"value\":\"circle\"},\"size\":{\"value\":5.477225575051661},\"x\":{\"field\":\"PCA1\"},\"y\":{\"field\":\"PCA2\"}},\"id\":\"16992\",\"type\":\"Scatter\"},{\"attributes\":{\"source\":{\"id\":\"16685\"}},\"id\":\"16692\",\"type\":\"CDSView\"},{\"attributes\":{\"label\":{\"value\":\"1\"},\"renderers\":[{\"id\":\"16899\"}]},\"id\":\"16913\",\"type\":\"LegendItem\"},{\"attributes\":{\"label\":{\"value\":\"3\"},\"renderers\":[{\"id\":\"16945\"}]},\"id\":\"16963\",\"type\":\"LegendItem\"},{\"attributes\":{},\"id\":\"16843\",\"type\":\"LinearScale\"},{\"attributes\":{\"data_source\":{\"id\":\"16939\"},\"glyph\":{\"id\":\"16942\"},\"hover_glyph\":null,\"muted_glyph\":{\"id\":\"16944\"},\"nonselection_glyph\":{\"id\":\"16943\"},\"selection_glyph\":{\"id\":\"16964\"},\"view\":{\"id\":\"16946\"}},\"id\":\"16945\",\"type\":\"GlyphRenderer\"},{\"attributes\":{\"label\":{\"value\":\"3\"},\"renderers\":[{\"id\":\"16691\"}]},\"id\":\"16709\",\"type\":\"LegendItem\"},{\"attributes\":{\"source\":{\"id\":\"16893\"}},\"id\":\"16900\",\"type\":\"CDSView\"},{\"attributes\":{},\"id\":\"16686\",\"type\":\"Selection\"},{\"attributes\":{},\"id\":\"16994\",\"type\":\"Selection\"},{\"attributes\":{\"data_source\":{\"id\":\"16893\"},\"glyph\":{\"id\":\"16896\"},\"hover_glyph\":null,\"muted_glyph\":{\"id\":\"16898\"},\"nonselection_glyph\":{\"id\":\"16897\"},\"selection_glyph\":{\"id\":\"16914\"},\"view\":{\"id\":\"16900\"}},\"id\":\"16899\",\"type\":\"GlyphRenderer\"},{\"attributes\":{\"data_source\":{\"id\":\"16685\"},\"glyph\":{\"id\":\"16688\"},\"hover_glyph\":null,\"muted_glyph\":{\"id\":\"16690\"},\"nonselection_glyph\":{\"id\":\"16689\"},\"selection_glyph\":{\"id\":\"16710\"},\"view\":{\"id\":\"16692\"}},\"id\":\"16691\",\"type\":\"GlyphRenderer\"},{\"attributes\":{\"axis_label\":\"price_change_percentage_7d\",\"formatter\":{\"id\":\"16871\"},\"major_label_policy\":{\"id\":\"16869\"},\"ticker\":{\"id\":\"16850\"}},\"id\":\"16849\",\"type\":\"LinearAxis\"},{\"attributes\":{\"source\":{\"id\":\"17023\"}},\"id\":\"17030\",\"type\":\"CDSView\"},{\"attributes\":{\"fill_color\":{\"value\":\"#6d904f\"},\"line_color\":{\"value\":\"#6d904f\"},\"size\":{\"value\":5.477225575051661},\"x\":{\"field\":\"price_change_percentage_24h\"},\"y\":{\"field\":\"price_change_percentage_7d\"}},\"id\":\"16688\",\"type\":\"Scatter\"},{\"attributes\":{\"fill_alpha\":{\"value\":0.1},\"fill_color\":{\"value\":\"#fc4f30\"},\"line_alpha\":{\"value\":0.1},\"line_color\":{\"value\":\"#fc4f30\"},\"size\":{\"value\":5.477225575051661},\"x\":{\"field\":\"PCA1\"},\"y\":{\"field\":\"PCA2\"}},\"id\":\"16897\",\"type\":\"Scatter\"},{\"attributes\":{\"data\":{\"PCA1\":{\"__ndarray__\":\"vVDf+w8G6j93QkvuCK4AQA==\",\"dtype\":\"float64\",\"order\":\"little\",\"shape\":[2]},\"PCA2\":{\"__ndarray__\":\"SJFzfC1bBcDW0omNB4MFwA==\",\"dtype\":\"float64\",\"order\":\"little\",\"shape\":[2]},\"coin_id\":[7,7]},\"selected\":{\"id\":\"17056\"},\"selection_policy\":{\"id\":\"17085\"}},\"id\":\"17055\",\"type\":\"ColumnDataSource\"},{\"attributes\":{\"label\":{\"value\":\"10\"},\"renderers\":[{\"id\":\"17169\"}]},\"id\":\"17201\",\"type\":\"LegendItem\"},{\"attributes\":{},\"id\":\"17121\",\"type\":\"UnionRenderers\"},{\"attributes\":{\"fill_color\":{\"value\":\"#d62728\"},\"line_color\":{\"value\":\"#d62728\"},\"size\":{\"value\":5.477225575051661},\"x\":{\"field\":\"PCA1\"},\"y\":{\"field\":\"PCA2\"}},\"id\":\"17058\",\"type\":\"Scatter\"},{\"attributes\":{\"source\":{\"id\":\"17163\"}},\"id\":\"17170\",\"type\":\"CDSView\"},{\"attributes\":{\"data_source\":{\"id\":\"17163\"},\"glyph\":{\"id\":\"17166\"},\"hover_glyph\":null,\"muted_glyph\":{\"id\":\"17168\"},\"nonselection_glyph\":{\"id\":\"17167\"},\"selection_glyph\":{\"id\":\"17202\"},\"view\":{\"id\":\"17170\"}},\"id\":\"17169\",\"type\":\"GlyphRenderer\"},{\"attributes\":{\"angle\":{\"value\":0.0},\"fill_alpha\":{\"value\":1.0},\"fill_color\":{\"value\":\"#9467bd\"},\"hatch_alpha\":{\"value\":1.0},\"hatch_color\":{\"value\":\"black\"},\"hatch_scale\":{\"value\":12.0},\"hatch_weight\":{\"value\":1.0},\"line_alpha\":{\"value\":1.0},\"line_cap\":{\"value\":\"butt\"},\"line_color\":{\"value\":\"#9467bd\"},\"line_dash\":{\"value\":[]},\"line_dash_offset\":{\"value\":0},\"line_join\":{\"value\":\"bevel\"},\"line_width\":{\"value\":1},\"marker\":{\"value\":\"circle\"},\"size\":{\"value\":5.477225575051661},\"x\":{\"field\":\"PCA1\"},\"y\":{\"field\":\"PCA2\"}},\"id\":\"17054\",\"type\":\"Scatter\"},{\"attributes\":{\"fill_color\":{\"value\":\"#e377c2\"},\"line_color\":{\"value\":\"#e377c2\"},\"size\":{\"value\":5.477225575051661},\"x\":{\"field\":\"PCA1\"},\"y\":{\"field\":\"PCA2\"}},\"id\":\"17128\",\"type\":\"Scatter\"},{\"attributes\":{},\"id\":\"17056\",\"type\":\"Selection\"},{\"attributes\":{\"source\":{\"id\":\"17055\"}},\"id\":\"17062\",\"type\":\"CDSView\"},{\"attributes\":{\"bottom_units\":\"screen\",\"fill_alpha\":0.5,\"fill_color\":\"lightgrey\",\"left_units\":\"screen\",\"level\":\"overlay\",\"line_alpha\":1.0,\"line_color\":\"black\",\"line_dash\":[4,4],\"line_width\":2,\"right_units\":\"screen\",\"syncable\":false,\"top_units\":\"screen\"},\"id\":\"16604\",\"type\":\"BoxAnnotation\"},{\"attributes\":{},\"id\":\"16634\",\"type\":\"UnionRenderers\"},{\"attributes\":{\"fill_alpha\":{\"value\":0.1},\"fill_color\":{\"value\":\"#30a2da\"},\"line_alpha\":{\"value\":0.1},\"line_color\":{\"value\":\"#30a2da\"},\"size\":{\"value\":5.477225575051661},\"x\":{\"field\":\"price_change_percentage_24h\"},\"y\":{\"field\":\"price_change_percentage_7d\"}},\"id\":\"16622\",\"type\":\"Scatter\"},{\"attributes\":{\"axis\":{\"id\":\"16849\"},\"dimension\":1,\"grid_line_color\":null,\"ticker\":null},\"id\":\"16852\",\"type\":\"Grid\"},{\"attributes\":{},\"id\":\"17126\",\"type\":\"Selection\"},{\"attributes\":{\"fill_alpha\":{\"value\":0.1},\"fill_color\":{\"value\":\"#d62728\"},\"line_alpha\":{\"value\":0.1},\"line_color\":{\"value\":\"#d62728\"},\"size\":{\"value\":5.477225575051661},\"x\":{\"field\":\"PCA1\"},\"y\":{\"field\":\"PCA2\"}},\"id\":\"17059\",\"type\":\"Scatter\"},{\"attributes\":{},\"id\":\"17199\",\"type\":\"UnionRenderers\"},{\"attributes\":{\"fill_alpha\":{\"value\":0.2},\"fill_color\":{\"value\":\"#d62728\"},\"line_alpha\":{\"value\":0.2},\"line_color\":{\"value\":\"#d62728\"},\"size\":{\"value\":5.477225575051661},\"x\":{\"field\":\"PCA1\"},\"y\":{\"field\":\"PCA2\"}},\"id\":\"17060\",\"type\":\"Scatter\"},{\"attributes\":{\"label\":{\"value\":\"7\"},\"renderers\":[{\"id\":\"17061\"}]},\"id\":\"17087\",\"type\":\"LegendItem\"},{\"attributes\":{\"data_source\":{\"id\":\"17055\"},\"glyph\":{\"id\":\"17058\"},\"hover_glyph\":null,\"muted_glyph\":{\"id\":\"17060\"},\"nonselection_glyph\":{\"id\":\"17059\"},\"selection_glyph\":{\"id\":\"17088\"},\"view\":{\"id\":\"17062\"}},\"id\":\"17061\",\"type\":\"GlyphRenderer\"},{\"attributes\":{\"source\":{\"id\":\"17125\"}},\"id\":\"17132\",\"type\":\"CDSView\"},{\"attributes\":{\"children\":[[{\"id\":\"16582\"},0,0],[{\"id\":\"16836\"},0,1]]},\"id\":\"17461\",\"type\":\"GridBox\"},{\"attributes\":{\"angle\":{\"value\":0.0},\"fill_alpha\":{\"value\":1.0},\"fill_color\":{\"value\":\"#1f77b4\"},\"hatch_alpha\":{\"value\":1.0},\"hatch_color\":{\"value\":\"black\"},\"hatch_scale\":{\"value\":12.0},\"hatch_weight\":{\"value\":1.0},\"line_alpha\":{\"value\":1.0},\"line_cap\":{\"value\":\"butt\"},\"line_color\":{\"value\":\"#1f77b4\"},\"line_dash\":{\"value\":[]},\"line_dash_offset\":{\"value\":0},\"line_join\":{\"value\":\"bevel\"},\"line_width\":{\"value\":1},\"marker\":{\"value\":\"circle\"},\"size\":{\"value\":5.477225575051661},\"x\":{\"field\":\"PCA1\"},\"y\":{\"field\":\"PCA2\"}},\"id\":\"17124\",\"type\":\"Scatter\"},{\"attributes\":{},\"id\":\"16854\",\"type\":\"PanTool\"},{\"attributes\":{\"fill_alpha\":{\"value\":0.1},\"fill_color\":{\"value\":\"#e377c2\"},\"line_alpha\":{\"value\":0.1},\"line_color\":{\"value\":\"#e377c2\"},\"size\":{\"value\":5.477225575051661},\"x\":{\"field\":\"PCA1\"},\"y\":{\"field\":\"PCA2\"}},\"id\":\"17129\",\"type\":\"Scatter\"},{\"attributes\":{},\"id\":\"17085\",\"type\":\"UnionRenderers\"},{\"attributes\":{},\"id\":\"16612\",\"type\":\"AllLabels\"},{\"attributes\":{\"data_source\":{\"id\":\"17125\"},\"glyph\":{\"id\":\"17128\"},\"hover_glyph\":null,\"muted_glyph\":{\"id\":\"17130\"},\"nonselection_glyph\":{\"id\":\"17129\"},\"selection_glyph\":{\"id\":\"17162\"},\"view\":{\"id\":\"17132\"}},\"id\":\"17131\",\"type\":\"GlyphRenderer\"},{\"attributes\":{\"fill_alpha\":{\"value\":0.2},\"fill_color\":{\"value\":\"#30a2da\"},\"line_alpha\":{\"value\":0.2},\"line_color\":{\"value\":\"#30a2da\"},\"size\":{\"value\":5.477225575051661},\"x\":{\"field\":\"price_change_percentage_24h\"},\"y\":{\"field\":\"price_change_percentage_7d\"}},\"id\":\"16623\",\"type\":\"Scatter\"},{\"attributes\":{\"fill_alpha\":{\"value\":0.2},\"fill_color\":{\"value\":\"#e377c2\"},\"line_alpha\":{\"value\":0.2},\"line_color\":{\"value\":\"#e377c2\"},\"size\":{\"value\":5.477225575051661},\"x\":{\"field\":\"PCA1\"},\"y\":{\"field\":\"PCA2\"}},\"id\":\"17130\",\"type\":\"Scatter\"},{\"attributes\":{\"label\":{\"value\":\"9\"},\"renderers\":[{\"id\":\"17131\"}]},\"id\":\"17161\",\"type\":\"LegendItem\"},{\"attributes\":{\"toolbar\":{\"id\":\"17462\"},\"toolbar_location\":\"above\"},\"id\":\"17463\",\"type\":\"ToolbarBox\"},{\"attributes\":{\"data\":{\"coin_id\":[\"celsius-degree-token\"],\"predicted_cluster\":[1],\"price_change_percentage_24h\":{\"__ndarray__\":\"VLqXBn668D8=\",\"dtype\":\"float64\",\"order\":\"little\",\"shape\":[1]},\"price_change_percentage_7d\":{\"__ndarray__\":\"Nv03JFjJ478=\",\"dtype\":\"float64\",\"order\":\"little\",\"shape\":[1]}},\"selected\":{\"id\":\"16640\"},\"selection_policy\":{\"id\":\"16657\"}},\"id\":\"16639\",\"type\":\"ColumnDataSource\"},{\"attributes\":{},\"id\":\"16614\",\"type\":\"BasicTickFormatter\"},{\"attributes\":{\"data\":{\"coin_id\":[\"ethlend\"],\"predicted_cluster\":[3],\"price_change_percentage_24h\":{\"__ndarray__\":\"3WeHPpbsE8A=\",\"dtype\":\"float64\",\"order\":\"little\",\"shape\":[1]},\"price_change_percentage_7d\":{\"__ndarray__\":\"dIWi2pshp78=\",\"dtype\":\"float64\",\"order\":\"little\",\"shape\":[1]}},\"selected\":{\"id\":\"16686\"},\"selection_policy\":{\"id\":\"16707\"}},\"id\":\"16685\",\"type\":\"ColumnDataSource\"},{\"attributes\":{\"angle\":{\"value\":0.0},\"fill_alpha\":{\"value\":1.0},\"fill_color\":{\"value\":\"#8c564b\"},\"hatch_alpha\":{\"value\":1.0},\"hatch_color\":{\"value\":\"black\"},\"hatch_scale\":{\"value\":12.0},\"hatch_weight\":{\"value\":1.0},\"line_alpha\":{\"value\":1.0},\"line_cap\":{\"value\":\"butt\"},\"line_color\":{\"value\":\"#8c564b\"},\"line_dash\":{\"value\":[]},\"line_dash_offset\":{\"value\":0},\"line_join\":{\"value\":\"bevel\"},\"line_width\":{\"value\":1},\"marker\":{\"value\":\"circle\"},\"size\":{\"value\":5.477225575051661},\"x\":{\"field\":\"PCA1\"},\"y\":{\"field\":\"PCA2\"}},\"id\":\"17202\",\"type\":\"Scatter\"},{\"attributes\":{},\"id\":\"16617\",\"type\":\"BasicTickFormatter\"},{\"attributes\":{\"fill_color\":{\"value\":\"#fc4f30\"},\"line_color\":{\"value\":\"#fc4f30\"},\"size\":{\"value\":5.477225575051661},\"x\":{\"field\":\"price_change_percentage_24h\"},\"y\":{\"field\":\"price_change_percentage_7d\"}},\"id\":\"16642\",\"type\":\"Scatter\"},{\"attributes\":{},\"id\":\"16853\",\"type\":\"SaveTool\"},{\"attributes\":{\"text_color\":\"black\",\"text_font_size\":\"12pt\"},\"id\":\"16583\",\"type\":\"Title\"},{\"attributes\":{\"fill_color\":{\"value\":\"#30a2da\"},\"line_color\":{\"value\":\"#30a2da\"},\"size\":{\"value\":5.477225575051661},\"x\":{\"field\":\"price_change_percentage_24h\"},\"y\":{\"field\":\"price_change_percentage_7d\"}},\"id\":\"16621\",\"type\":\"Scatter\"},{\"attributes\":{\"angle\":{\"value\":0.0},\"fill_alpha\":{\"value\":1.0},\"fill_color\":{\"value\":\"#30a2da\"},\"hatch_alpha\":{\"value\":1.0},\"hatch_color\":{\"value\":\"black\"},\"hatch_scale\":{\"value\":12.0},\"hatch_weight\":{\"value\":1.0},\"line_alpha\":{\"value\":1.0},\"line_cap\":{\"value\":\"butt\"},\"line_color\":{\"value\":\"#30a2da\"},\"line_dash\":{\"value\":[]},\"line_dash_offset\":{\"value\":0},\"line_join\":{\"value\":\"bevel\"},\"line_width\":{\"value\":1},\"marker\":{\"value\":\"circle\"},\"size\":{\"value\":5.477225575051661},\"x\":{\"field\":\"price_change_percentage_24h\"},\"y\":{\"field\":\"price_change_percentage_7d\"}},\"id\":\"16638\",\"type\":\"Scatter\"},{\"attributes\":{},\"id\":\"17159\",\"type\":\"UnionRenderers\"},{\"attributes\":{\"children\":[{\"id\":\"17463\"},{\"id\":\"17461\"}]},\"id\":\"17464\",\"type\":\"Column\"},{\"attributes\":{},\"id\":\"16592\",\"type\":\"BasicTicker\"},{\"attributes\":{\"callback\":null,\"renderers\":[{\"id\":\"16624\"},{\"id\":\"16645\"},{\"id\":\"16667\"},{\"id\":\"16691\"}],\"tags\":[\"hv_created\"],\"tooltips\":[[\"predicted_cluster\",\"@{predicted_cluster}\"],[\"price_change_percentage_24h\",\"@{price_change_percentage_24h}\"],[\"price_change_percentage_7d\",\"@{price_change_percentage_7d}\"],[\"coin_id\",\"@{coin_id}\"]]},\"id\":\"16578\",\"type\":\"HoverTool\"},{\"attributes\":{},\"id\":\"16894\",\"type\":\"Selection\"},{\"attributes\":{},\"id\":\"16857\",\"type\":\"ResetTool\"},{\"attributes\":{},\"id\":\"17090\",\"type\":\"Selection\"},{\"attributes\":{\"end\":2.997678656273595,\"reset_end\":2.997678656273595,\"reset_start\":-2.107454305728652,\"start\":-2.107454305728652,\"tags\":[[[\"price_change_percentage_7d\",\"price_change_percentage_7d\",null]]]},\"id\":\"16577\",\"type\":\"Range1d\"},{\"attributes\":{},\"id\":\"16615\",\"type\":\"AllLabels\"},{\"attributes\":{\"axis_label\":\"price_change_percentage_24h\",\"formatter\":{\"id\":\"16614\"},\"major_label_policy\":{\"id\":\"16612\"},\"ticker\":{\"id\":\"16592\"}},\"id\":\"16591\",\"type\":\"LinearAxis\"},{\"attributes\":{\"fill_alpha\":{\"value\":0.1},\"fill_color\":{\"value\":\"#fc4f30\"},\"line_alpha\":{\"value\":0.1},\"line_color\":{\"value\":\"#fc4f30\"},\"size\":{\"value\":5.477225575051661},\"x\":{\"field\":\"price_change_percentage_24h\"},\"y\":{\"field\":\"price_change_percentage_7d\"}},\"id\":\"16643\",\"type\":\"Scatter\"},{\"attributes\":{\"active_multi\":null,\"tools\":[{\"id\":\"16825\"},{\"id\":\"16853\"},{\"id\":\"16854\"},{\"id\":\"16855\"},{\"id\":\"16856\"},{\"id\":\"16857\"}]},\"id\":\"16859\",\"type\":\"Toolbar\"},{\"attributes\":{\"fill_color\":{\"value\":\"#e5ae38\"},\"line_color\":{\"value\":\"#e5ae38\"},\"size\":{\"value\":5.477225575051661},\"x\":{\"field\":\"price_change_percentage_24h\"},\"y\":{\"field\":\"price_change_percentage_7d\"}},\"id\":\"16664\",\"type\":\"Scatter\"},{\"attributes\":{\"fill_color\":{\"value\":\"#1f77b4\"},\"line_color\":{\"value\":\"#1f77b4\"},\"size\":{\"value\":5.477225575051661},\"x\":{\"field\":\"PCA1\"},\"y\":{\"field\":\"PCA2\"}},\"id\":\"17092\",\"type\":\"Scatter\"},{\"attributes\":{\"overlay\":{\"id\":\"16858\"}},\"id\":\"16856\",\"type\":\"BoxZoomTool\"},{\"attributes\":{\"fill_alpha\":{\"value\":0.1},\"fill_color\":{\"value\":\"#e5ae38\"},\"line_alpha\":{\"value\":0.1},\"line_color\":{\"value\":\"#e5ae38\"},\"size\":{\"value\":5.477225575051661},\"x\":{\"field\":\"price_change_percentage_24h\"},\"y\":{\"field\":\"price_change_percentage_7d\"}},\"id\":\"16665\",\"type\":\"Scatter\"},{\"attributes\":{\"fill_color\":{\"value\":\"#fc4f30\"},\"line_color\":{\"value\":\"#fc4f30\"},\"size\":{\"value\":5.477225575051661},\"x\":{\"field\":\"PCA1\"},\"y\":{\"field\":\"PCA2\"}},\"id\":\"16896\",\"type\":\"Scatter\"},{\"attributes\":{\"data\":{\"PCA1\":{\"__ndarray__\":\"vQLKYxc/9z8=\",\"dtype\":\"float64\",\"order\":\"little\",\"shape\":[1]},\"PCA2\":{\"__ndarray__\":\"dEJdAlAa/D8=\",\"dtype\":\"float64\",\"order\":\"little\",\"shape\":[1]},\"coin_id\":[4]},\"selected\":{\"id\":\"16966\"},\"selection_policy\":{\"id\":\"16989\"}},\"id\":\"16965\",\"type\":\"ColumnDataSource\"},{\"attributes\":{\"below\":[{\"id\":\"16591\"}],\"center\":[{\"id\":\"16594\"},{\"id\":\"16598\"}],\"height\":300,\"left\":[{\"id\":\"16595\"}],\"margin\":null,\"min_border_bottom\":10,\"min_border_left\":10,\"min_border_right\":10,\"min_border_top\":10,\"renderers\":[{\"id\":\"16624\"},{\"id\":\"16645\"},{\"id\":\"16667\"},{\"id\":\"16691\"}],\"right\":[{\"id\":\"16636\"}],\"sizing_mode\":\"fixed\",\"title\":{\"id\":\"16583\"},\"toolbar\":{\"id\":\"16605\"},\"toolbar_location\":null,\"width\":700,\"x_range\":{\"id\":\"16576\"},\"x_scale\":{\"id\":\"16587\"},\"y_range\":{\"id\":\"16577\"},\"y_scale\":{\"id\":\"16589\"}},\"id\":\"16582\",\"subtype\":\"Figure\",\"type\":\"Plot\"},{\"attributes\":{\"data\":{\"PCA1\":{\"__ndarray__\":\"dFYYo/RU6j8=\",\"dtype\":\"float64\",\"order\":\"little\",\"shape\":[1]},\"PCA2\":{\"__ndarray__\":\"mrWzkd3p+r8=\",\"dtype\":\"float64\",\"order\":\"little\",\"shape\":[1]},\"coin_id\":[2]},\"selected\":{\"id\":\"16916\"},\"selection_policy\":{\"id\":\"16935\"}},\"id\":\"16915\",\"type\":\"ColumnDataSource\"},{\"attributes\":{\"angle\":{\"value\":0.0},\"fill_alpha\":{\"value\":1.0},\"fill_color\":{\"value\":\"#d62728\"},\"hatch_alpha\":{\"value\":1.0},\"hatch_color\":{\"value\":\"black\"},\"hatch_scale\":{\"value\":12.0},\"hatch_weight\":{\"value\":1.0},\"line_alpha\":{\"value\":1.0},\"line_cap\":{\"value\":\"butt\"},\"line_color\":{\"value\":\"#d62728\"},\"line_dash\":{\"value\":[]},\"line_dash_offset\":{\"value\":0},\"line_join\":{\"value\":\"bevel\"},\"line_width\":{\"value\":1},\"marker\":{\"value\":\"circle\"},\"size\":{\"value\":5.477225575051661},\"x\":{\"field\":\"PCA1\"},\"y\":{\"field\":\"PCA2\"}},\"id\":\"17088\",\"type\":\"Scatter\"},{\"attributes\":{},\"id\":\"16855\",\"type\":\"WheelZoomTool\"},{\"attributes\":{\"end\":2.2155632386560065,\"reset_end\":2.2155632386560065,\"reset_start\":-5.276792781891412,\"start\":-5.276792781891412,\"tags\":[[[\"price_change_percentage_24h\",\"price_change_percentage_24h\",null]]]},\"id\":\"16576\",\"type\":\"Range1d\"},{\"attributes\":{\"label\":{\"value\":\"1\"},\"renderers\":[{\"id\":\"16645\"}]},\"id\":\"16659\",\"type\":\"LegendItem\"},{\"attributes\":{\"source\":{\"id\":\"17089\"}},\"id\":\"17096\",\"type\":\"CDSView\"},{\"attributes\":{},\"id\":\"16587\",\"type\":\"LinearScale\"},{\"attributes\":{\"toolbars\":[{\"id\":\"16605\"},{\"id\":\"16859\"}],\"tools\":[{\"id\":\"16578\"},{\"id\":\"16599\"},{\"id\":\"16600\"},{\"id\":\"16601\"},{\"id\":\"16602\"},{\"id\":\"16603\"},{\"id\":\"16825\"},{\"id\":\"16853\"},{\"id\":\"16854\"},{\"id\":\"16855\"},{\"id\":\"16856\"},{\"id\":\"16857\"}]},\"id\":\"17462\",\"type\":\"ProxyToolbar\"},{\"attributes\":{},\"id\":\"16640\",\"type\":\"Selection\"},{\"attributes\":{\"margin\":[5,5,5,5],\"name\":\"HSpacer33017\",\"sizing_mode\":\"stretch_width\"},\"id\":\"17879\",\"type\":\"Spacer\"},{\"attributes\":{},\"id\":\"16600\",\"type\":\"PanTool\"},{\"attributes\":{\"data_source\":{\"id\":\"16639\"},\"glyph\":{\"id\":\"16642\"},\"hover_glyph\":null,\"muted_glyph\":{\"id\":\"16644\"},\"nonselection_glyph\":{\"id\":\"16643\"},\"selection_glyph\":{\"id\":\"16660\"},\"view\":{\"id\":\"16646\"}},\"id\":\"16645\",\"type\":\"GlyphRenderer\"},{\"attributes\":{\"label\":{\"value\":\"0\"},\"renderers\":[{\"id\":\"16624\"}]},\"id\":\"16637\",\"type\":\"LegendItem\"},{\"attributes\":{\"data\":{\"PCA1\":{\"__ndarray__\":\"lMDGUWc+7T8kHc2ljPTpP34IC3yhGew/\",\"dtype\":\"float64\",\"order\":\"little\",\"shape\":[3]},\"PCA2\":{\"__ndarray__\":\"CTAx4BYP8r+sZ4pgZdDxv4lVsNJ7ffG/\",\"dtype\":\"float64\",\"order\":\"little\",\"shape\":[3]},\"coin_id\":[10,10,10]},\"selected\":{\"id\":\"17164\"},\"selection_policy\":{\"id\":\"17199\"}},\"id\":\"17163\",\"type\":\"ColumnDataSource\"},{\"attributes\":{},\"id\":\"16589\",\"type\":\"LinearScale\"},{\"attributes\":{\"click_policy\":\"mute\",\"items\":[{\"id\":\"16637\"},{\"id\":\"16659\"},{\"id\":\"16683\"},{\"id\":\"16709\"}],\"location\":[0,0],\"title\":\"predicted_cluster\"},\"id\":\"16636\",\"type\":\"Legend\"},{\"attributes\":{},\"id\":\"16601\",\"type\":\"WheelZoomTool\"},{\"attributes\":{\"data\":{\"coin_id\":[\"tether\",\"ripple\",\"bitcoin-cash-sv\",\"crypto-com-chain\",\"usd-coin\",\"eos\",\"tron\",\"okb\",\"stellar\",\"cdai\",\"neo\",\"leo-token\",\"huobi-token\",\"nem\",\"binance-usd\",\"iota\",\"vechain\",\"theta-token\",\"dash\",\"ethereum-classic\",\"havven\",\"omisego\",\"ontology\",\"ftx-token\",\"true-usd\",\"digibyte\"],\"predicted_cluster\":[0,0,0,0,0,0,0,0,0,0,0,0,0,0,0,0,0,0,0,0,0,0,0,0,0,0],\"price_change_percentage_24h\":{\"__ndarray__\":\"mCJF1OlLlj/mJRG3Ed+kv1qZGRifu9w//rJXHrAz1T/yMTqenpahPx9kk3dK7sM/GTRehHalwD90fnl54Irtv9XPDahDw9G/+VOWQSEmxz+kpbukw1bSP6eM4M4OgKo/BcMOj9+jqr/Chq6S5ebLv2h3TIfCZ68/weEQ8QyV0D/KmZTmC7niP1YH9WGFy/m/N7JuVBEB07/EU4GAhEGyv8Ocf0hw2/a/lrPBJY23/j/IKcQzxy3av5WrmDyeito/Bf22eE/6sz9Y362Ir3rzPw==\",\"dtype\":\"float64\",\"order\":\"little\",\"shape\":[26]},\"price_change_percentage_7d\":{\"__ndarray__\":\"bZSIvk+a5r9RujxqH/Ppvw2U7adXaMi/d+r7VGbW+b9EGSx/8nTnv4rfBo4Lhe2/BEBwXEEApb8Udj8VbP/2vySelkVDp9i/7SZvVsyO5r8uu+JVH+LUvziN+gRMte2/o2qlez1D3b/CtPLKIS7rvyYjaswHnea/US6joeTvzz/dRmuCvtDvv/9TV66U6fq/ZWX+mWVCuD8GJ0pHuV/Nv8nIE2ZWH5q/TTxj/me11z+Htdvf1gXtv2Avihmzf9o/e31xtwIC5r/STlu6Y3Ljvw==\",\"dtype\":\"float64\",\"order\":\"little\",\"shape\":[26]}},\"selected\":{\"id\":\"16619\"},\"selection_policy\":{\"id\":\"16634\"}},\"id\":\"16618\",\"type\":\"ColumnDataSource\"},{\"attributes\":{\"fill_alpha\":{\"value\":0.1},\"fill_color\":{\"value\":\"#1f77b4\"},\"line_alpha\":{\"value\":0.1},\"line_color\":{\"value\":\"#1f77b4\"},\"size\":{\"value\":5.477225575051661},\"x\":{\"field\":\"PCA1\"},\"y\":{\"field\":\"PCA2\"}},\"id\":\"17093\",\"type\":\"Scatter\"},{\"attributes\":{\"axis\":{\"id\":\"16591\"},\"grid_line_color\":null,\"ticker\":null},\"id\":\"16594\",\"type\":\"Grid\"},{\"attributes\":{},\"id\":\"17164\",\"type\":\"Selection\"},{\"attributes\":{\"fill_alpha\":{\"value\":0.2},\"fill_color\":{\"value\":\"#1f77b4\"},\"line_alpha\":{\"value\":0.2},\"line_color\":{\"value\":\"#1f77b4\"},\"size\":{\"value\":5.477225575051661},\"x\":{\"field\":\"PCA1\"},\"y\":{\"field\":\"PCA2\"}},\"id\":\"17094\",\"type\":\"Scatter\"},{\"attributes\":{\"axis_label\":\"price_change_percentage_7d\",\"formatter\":{\"id\":\"16617\"},\"major_label_policy\":{\"id\":\"16615\"},\"ticker\":{\"id\":\"16596\"}},\"id\":\"16595\",\"type\":\"LinearAxis\"},{\"attributes\":{\"axis\":{\"id\":\"16845\"},\"grid_line_color\":null,\"ticker\":null},\"id\":\"16848\",\"type\":\"Grid\"},{\"attributes\":{\"source\":{\"id\":\"16639\"}},\"id\":\"16646\",\"type\":\"CDSView\"},{\"attributes\":{\"axis\":{\"id\":\"16595\"},\"dimension\":1,\"grid_line_color\":null,\"ticker\":null},\"id\":\"16598\",\"type\":\"Grid\"},{\"attributes\":{\"data\":{\"coin_id\":[\"bitcoin\",\"ethereum\",\"bitcoin-cash\",\"binancecoin\",\"chainlink\",\"cardano\",\"litecoin\",\"monero\",\"tezos\",\"cosmos\",\"wrapped-bitcoin\",\"zcash\",\"maker\"],\"predicted_cluster\":[2,2,2,2,2,2,2,2,2,2,2,2,2],\"price_change_percentage_24h\":{\"__ndarray__\":\"DdlqYN9F4D86azDosLzHPzALIwCtFvM/9w6McDSK7D/VDHOpb1eHPzMEvaFkP7o/Sds39trWsz9Epj8/c9DQP4xAeNEVZ8O/qq8st/Fh0L8FWWk3mH7gP6wo083aUMC//ACFOIMFwL8=\",\"dtype\":\"float64\",\"order\":\"little\",\"shape\":[13]},\"price_change_percentage_7d\":{\"__ndarray__\":\"U1k8q3mQ3z9yoPpI+ebtPzAB2dP2AQBAgmkOMZk89T8FNulI+JMEQCZRaSLGIPg/84wjaB1l1T8rMp3jf678P2VmURqKqeY/XK6ZksNx/T9DfMqy1o7dPyTPDB1Xu+0/srW7TleV4j8=\",\"dtype\":\"float64\",\"order\":\"little\",\"shape\":[13]}},\"selected\":{\"id\":\"16662\"},\"selection_policy\":{\"id\":\"16681\"}},\"id\":\"16661\",\"type\":\"ColumnDataSource\"},{\"attributes\":{\"fill_alpha\":{\"value\":0.1},\"fill_color\":{\"value\":\"#8c564b\"},\"line_alpha\":{\"value\":0.1},\"line_color\":{\"value\":\"#8c564b\"},\"size\":{\"value\":5.477225575051661},\"x\":{\"field\":\"PCA1\"},\"y\":{\"field\":\"PCA2\"}},\"id\":\"17167\",\"type\":\"Scatter\"},{\"attributes\":{\"data_source\":{\"id\":\"17089\"},\"glyph\":{\"id\":\"17092\"},\"hover_glyph\":null,\"muted_glyph\":{\"id\":\"17094\"},\"nonselection_glyph\":{\"id\":\"17093\"},\"selection_glyph\":{\"id\":\"17124\"},\"view\":{\"id\":\"17096\"}},\"id\":\"17095\",\"type\":\"GlyphRenderer\"},{\"attributes\":{},\"id\":\"16596\",\"type\":\"BasicTicker\"},{\"attributes\":{\"fill_alpha\":{\"value\":0.2},\"fill_color\":{\"value\":\"#fc4f30\"},\"line_alpha\":{\"value\":0.2},\"line_color\":{\"value\":\"#fc4f30\"},\"size\":{\"value\":5.477225575051661},\"x\":{\"field\":\"price_change_percentage_24h\"},\"y\":{\"field\":\"price_change_percentage_7d\"}},\"id\":\"16644\",\"type\":\"Scatter\"},{\"attributes\":{\"angle\":{\"value\":0.0},\"fill_alpha\":{\"value\":1.0},\"fill_color\":{\"value\":\"#e377c2\"},\"hatch_alpha\":{\"value\":1.0},\"hatch_color\":{\"value\":\"black\"},\"hatch_scale\":{\"value\":12.0},\"hatch_weight\":{\"value\":1.0},\"line_alpha\":{\"value\":1.0},\"line_cap\":{\"value\":\"butt\"},\"line_color\":{\"value\":\"#e377c2\"},\"line_dash\":{\"value\":[]},\"line_dash_offset\":{\"value\":0},\"line_join\":{\"value\":\"bevel\"},\"line_width\":{\"value\":1},\"marker\":{\"value\":\"circle\"},\"size\":{\"value\":5.477225575051661},\"x\":{\"field\":\"PCA1\"},\"y\":{\"field\":\"PCA2\"}},\"id\":\"17162\",\"type\":\"Scatter\"},{\"attributes\":{\"fill_alpha\":{\"value\":0.2},\"fill_color\":{\"value\":\"#8c564b\"},\"line_alpha\":{\"value\":0.2},\"line_color\":{\"value\":\"#8c564b\"},\"size\":{\"value\":5.477225575051661},\"x\":{\"field\":\"PCA1\"},\"y\":{\"field\":\"PCA2\"}},\"id\":\"17168\",\"type\":\"Scatter\"},{\"attributes\":{\"label\":{\"value\":\"8\"},\"renderers\":[{\"id\":\"17095\"}]},\"id\":\"17123\",\"type\":\"LegendItem\"},{\"attributes\":{},\"id\":\"16599\",\"type\":\"SaveTool\"},{\"attributes\":{},\"id\":\"16619\",\"type\":\"Selection\"},{\"attributes\":{\"overlay\":{\"id\":\"16604\"}},\"id\":\"16602\",\"type\":\"BoxZoomTool\"},{\"attributes\":{\"fill_color\":{\"value\":\"#8c564b\"},\"line_color\":{\"value\":\"#8c564b\"},\"size\":{\"value\":5.477225575051661},\"x\":{\"field\":\"PCA1\"},\"y\":{\"field\":\"PCA2\"}},\"id\":\"17166\",\"type\":\"Scatter\"},{\"attributes\":{},\"id\":\"16657\",\"type\":\"UnionRenderers\"},{\"attributes\":{},\"id\":\"16603\",\"type\":\"ResetTool\"},{\"attributes\":{\"active_multi\":null,\"tools\":[{\"id\":\"16578\"},{\"id\":\"16599\"},{\"id\":\"16600\"},{\"id\":\"16601\"},{\"id\":\"16602\"},{\"id\":\"16603\"}]},\"id\":\"16605\",\"type\":\"Toolbar\"},{\"attributes\":{\"data_source\":{\"id\":\"16618\"},\"glyph\":{\"id\":\"16621\"},\"hover_glyph\":null,\"muted_glyph\":{\"id\":\"16623\"},\"nonselection_glyph\":{\"id\":\"16622\"},\"selection_glyph\":{\"id\":\"16638\"},\"view\":{\"id\":\"16625\"}},\"id\":\"16624\",\"type\":\"GlyphRenderer\"},{\"attributes\":{\"source\":{\"id\":\"16618\"}},\"id\":\"16625\",\"type\":\"CDSView\"}],\"root_ids\":[\"16574\"]},\"title\":\"Bokeh Application\",\"version\":\"2.3.3\"}};\n",
       "    var render_items = [{\"docid\":\"06f777cd-e547-4ae7-9a29-4ba6d790166e\",\"root_ids\":[\"16574\"],\"roots\":{\"16574\":\"50b44fe2-7f3d-44ea-9735-afb43507371d\"}}];\n",
       "    root.Bokeh.embed.embed_items_notebook(docs_json, render_items);\n",
       "  }\n",
       "  if (root.Bokeh !== undefined && root.Bokeh.Panel !== undefined) {\n",
       "    embed_document(root);\n",
       "  } else {\n",
       "    var attempts = 0;\n",
       "    var timer = setInterval(function(root) {\n",
       "      if (root.Bokeh !== undefined && root.Bokeh.Panel !== undefined) {\n",
       "        clearInterval(timer);\n",
       "        embed_document(root);\n",
       "      } else if (document.readyState == \"complete\") {\n",
       "        attempts++;\n",
       "        if (attempts > 200) {\n",
       "          clearInterval(timer);\n",
       "          console.log(\"Bokeh: ERROR: Unable to run BokehJS code because BokehJS library is missing\");\n",
       "        }\n",
       "      }\n",
       "    }, 25, root)\n",
       "  }\n",
       "})(window);</script>"
      ]
     },
     "metadata": {
      "application/vnd.holoviews_exec.v0+json": {
       "id": "16574"
      }
     },
     "execution_count": 407
    }
   ],
   "metadata": {}
  },
  {
   "cell_type": "markdown",
   "source": [
    "Answer the following question: After visually analyzing the cluster analysis results, what is the impact of using fewer features to cluster the data using K-Means?\r\n",
    "\r\n",
    "  * **Question:** After visually analyzing the cluster analysis results, what is the impact of using fewer features to cluster the data using K-Means?\r\n",
    "\r\n",
    "  * **Answer:** Using fewer features allows you to easily see a pattern which will help in decision making. "
   ],
   "metadata": {}
  }
 ],
 "metadata": {
  "kernelspec": {
   "name": "python3",
   "display_name": "Python 3.8.5 64-bit ('dev': conda)"
  },
  "language_info": {
   "codemirror_mode": {
    "name": "ipython",
    "version": 3
   },
   "file_extension": ".py",
   "mimetype": "text/x-python",
   "name": "python",
   "nbconvert_exporter": "python",
   "pygments_lexer": "ipython3",
   "version": "3.8.5"
  },
  "interpreter": {
   "hash": "b6e21b9e413ffd41e300679a127b447b2daf80c84032fd237b8844621ec76af3"
  }
 },
 "nbformat": 4,
 "nbformat_minor": 4
}